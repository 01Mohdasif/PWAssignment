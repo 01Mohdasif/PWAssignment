{
  "nbformat": 4,
  "nbformat_minor": 0,
  "metadata": {
    "colab": {
      "provenance": []
    },
    "kernelspec": {
      "name": "python3",
      "display_name": "Python 3"
    },
    "language_info": {
      "name": "python"
    }
  },
  "cells": [
    {
      "cell_type": "code",
      "execution_count": 1,
      "metadata": {
        "colab": {
          "base_uri": "https://localhost:8080/"
        },
        "id": "amhdW6XdEzft",
        "outputId": "9e839bb1-7bda-4390-df87-cca76bca7d05"
      },
      "outputs": [
        {
          "output_type": "execute_result",
          "data": {
            "text/plain": [
              "True"
            ]
          },
          "metadata": {},
          "execution_count": 1
        }
      ],
      "source": [
        "# Task 1: Given an array, check if it contains any duplicates or not\n",
        "arr1 = [1, 2, 4, 2, 5, 9]\n",
        "\n",
        "# Check if there are any duplicates\n",
        "has_duplicates = len(arr1) != len(set(arr1))\n",
        "has_duplicates  # Output = True\n",
        "\n"
      ]
    },
    {
      "cell_type": "code",
      "source": [
        "# Task 2: Given an array and an integer k, rotate the array to the right by k steps\n",
        "arr2 = [1, 2, 3, 4, 5, 6, 7]\n",
        "k = 3\n",
        "\n",
        "# Rotate the array\n",
        "rotated_array = arr2[-k:] + arr2[:-k]\n",
        "rotated_array  # Output = [5, 6, 7, 1, 2, 3, 4]\n"
      ],
      "metadata": {
        "colab": {
          "base_uri": "https://localhost:8080/"
        },
        "id": "858nPHQ7HdUs",
        "outputId": "09174bdd-1450-44c5-c68c-bd0e1785ca3a"
      },
      "execution_count": 2,
      "outputs": [
        {
          "output_type": "execute_result",
          "data": {
            "text/plain": [
              "[5, 6, 7, 1, 2, 3, 4]"
            ]
          },
          "metadata": {},
          "execution_count": 2
        }
      ]
    },
    {
      "cell_type": "code",
      "source": [
        "# Task 3: Reverse the given array in-place, without using any extra data structure\n",
        "arr3 = [2, 4, 5, 7, 9, 12]\n",
        "\n",
        "# Reverse the array in-place\n",
        "arr3.reverse()\n",
        "arr3  # Output = [12, 9, 7, 5, 4, 2]\n"
      ],
      "metadata": {
        "colab": {
          "base_uri": "https://localhost:8080/"
        },
        "id": "aUTvDXhDHd71",
        "outputId": "1cdd14fc-55c7-4773-a066-7cec4511b2ac"
      },
      "execution_count": 3,
      "outputs": [
        {
          "output_type": "execute_result",
          "data": {
            "text/plain": [
              "[12, 9, 7, 5, 4, 2]"
            ]
          },
          "metadata": {},
          "execution_count": 3
        }
      ]
    },
    {
      "cell_type": "code",
      "source": [
        "# Task 4: Given an array of integers, find the maximum element in the array\n",
        "arr4 = [10, 5, 20, 8, 15]\n",
        "\n",
        "# Find the maximum element\n",
        "max_element = max(arr4)\n",
        "max_element  # Output = 20\n"
      ],
      "metadata": {
        "colab": {
          "base_uri": "https://localhost:8080/"
        },
        "id": "1s0_ZwZcHeGz",
        "outputId": "fe49210a-dc14-4478-ae43-7443a35de935"
      },
      "execution_count": 4,
      "outputs": [
        {
          "output_type": "execute_result",
          "data": {
            "text/plain": [
              "20"
            ]
          },
          "metadata": {},
          "execution_count": 4
        }
      ]
    },
    {
      "cell_type": "code",
      "source": [
        "# Task 5: Given a sorted array, remove the duplicate elements without using any extra data structure\n",
        "arr5 = [1, 1, 2, 2, 2, 3, 3, 4, 4, 4, 5, 5]\n",
        "\n",
        "# Remove duplicates in-place\n",
        "i = 0\n",
        "while i < len(arr5) - 1:\n",
        "    if arr5[i] == arr5[i + 1]:\n",
        "        arr5.pop(i)\n",
        "    else:\n",
        "        i += 1\n",
        "\n",
        "arr5  # Output = [1, 2, 3, 4, 5]\n"
      ],
      "metadata": {
        "colab": {
          "base_uri": "https://localhost:8080/"
        },
        "id": "PdZ0Qy7cHeRR",
        "outputId": "28a0e4b4-8303-49ed-b76a-1463cf9be202"
      },
      "execution_count": 5,
      "outputs": [
        {
          "output_type": "execute_result",
          "data": {
            "text/plain": [
              "[1, 2, 3, 4, 5]"
            ]
          },
          "metadata": {},
          "execution_count": 5
        }
      ]
    }
  ]
}