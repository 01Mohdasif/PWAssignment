{
  "nbformat": 4,
  "nbformat_minor": 0,
  "metadata": {
    "colab": {
      "provenance": []
    },
    "kernelspec": {
      "name": "python3",
      "display_name": "Python 3"
    },
    "language_info": {
      "name": "python"
    }
  },
  "cells": [
    {
      "cell_type": "code",
      "source": [
        "# Task 1: Tower of Hanoi Algorithm\n",
        "def tower_of_hanoi(n, source, target, auxiliary):\n",
        "    if n == 1:\n",
        "        print(f\"Move disk 1 from {source} to {target}\")\n",
        "        return\n",
        "    tower_of_hanoi(n-1, source, auxiliary, target)\n",
        "    print(f\"Move disk {n} from {source} to {target}\")\n",
        "    tower_of_hanoi(n-1, auxiliary, target, source)\n",
        "\n",
        "# Example usage with 3 disks\n",
        "n = 3\n",
        "tower_of_hanoi(n, 'A', 'C', 'B')\n"
      ],
      "metadata": {
        "colab": {
          "base_uri": "https://localhost:8080/"
        },
        "id": "plmKNb1ZIiCX",
        "outputId": "1da31055-bc96-4bac-da40-04a944c66c88"
      },
      "execution_count": 6,
      "outputs": [
        {
          "output_type": "stream",
          "name": "stdout",
          "text": [
            "Move disk 1 from A to C\n",
            "Move disk 2 from A to B\n",
            "Move disk 1 from C to B\n",
            "Move disk 3 from A to C\n",
            "Move disk 1 from B to A\n",
            "Move disk 2 from B to C\n",
            "Move disk 1 from A to C\n"
          ]
        }
      ]
    },
    {
      "cell_type": "code",
      "source": [
        "# Task 2: Minimum number of operations to convert word1 to word2\n",
        "def minDistance(word1, word2):\n",
        "    m, n = len(word1), len(word2)\n",
        "    dp = [[0] * (n + 1) for _ in range(m + 1)]\n",
        "\n",
        "    for i in range(m + 1):\n",
        "        for j in range(n + 1):\n",
        "            if i == 0:\n",
        "                dp[i][j] = j  # Insert all characters of word2\n",
        "            elif j == 0:\n",
        "                dp[i][j] = i  # Remove all characters of word1\n",
        "            elif word1[i - 1] == word2[j - 1]:\n",
        "                dp[i][j] = dp[i - 1][j - 1]  # No operation needed\n",
        "            else:\n",
        "                dp[i][j] = 1 + min(dp[i - 1][j], dp[i][j - 1], dp[i - 1][j - 1])  # Insert, Remove, Replace\n",
        "\n",
        "    return dp[m][n]\n",
        "\n",
        "# Example usage\n",
        "word1 = \"horse\"\n",
        "word2 = \"ros\"\n",
        "print(minDistance(word1, word2))  # Output: 3\n"
      ],
      "metadata": {
        "colab": {
          "base_uri": "https://localhost:8080/"
        },
        "id": "pY3mMXf8Ij8F",
        "outputId": "d702cd31-1e92-4ce7-c116-68ab827e38ca"
      },
      "execution_count": 7,
      "outputs": [
        {
          "output_type": "stream",
          "name": "stdout",
          "text": [
            "3\n"
          ]
        }
      ]
    },
    {
      "cell_type": "code",
      "source": [
        "# Task 3: Print the max value of the array\n",
        "arr = [13, 1, -3, 22, 5]\n",
        "\n",
        "# Find the maximum value\n",
        "max_value = max(arr)\n",
        "max_value  # Output: 22\n"
      ],
      "metadata": {
        "colab": {
          "base_uri": "https://localhost:8080/"
        },
        "id": "sFmHvvWRIkCW",
        "outputId": "da1b9cd4-d4b5-4f14-8598-7b89e1cc7e61"
      },
      "execution_count": 8,
      "outputs": [
        {
          "output_type": "execute_result",
          "data": {
            "text/plain": [
              "22"
            ]
          },
          "metadata": {},
          "execution_count": 8
        }
      ]
    },
    {
      "cell_type": "code",
      "source": [
        "# Task 4: Find the sum of the values of the array\n",
        "arr = [92, 23, 15, -20, 10]\n",
        "\n",
        "# Calculate the sum\n",
        "sum_values = sum(arr)\n",
        "sum_values  # Output: 120\n"
      ],
      "metadata": {
        "colab": {
          "base_uri": "https://localhost:8080/"
        },
        "id": "SKW224XVIkHx",
        "outputId": "2e34c9a6-780e-4424-e4d6-8e2efff56853"
      },
      "execution_count": 9,
      "outputs": [
        {
          "output_type": "execute_result",
          "data": {
            "text/plain": [
              "120"
            ]
          },
          "metadata": {},
          "execution_count": 9
        }
      ]
    },
    {
      "cell_type": "code",
      "source": [
        "# Task 5: Check if a number is an Armstrong number\n",
        "def is_armstrong(num):\n",
        "    digits = [int(digit) for digit in str(num)]\n",
        "    power = len(digits)\n",
        "    armstrong_sum = sum([digit ** power for digit in digits])\n",
        "    return armstrong_sum == num\n",
        "\n",
        "# Example usage\n",
        "num1 = 153\n",
        "num2 = 134\n",
        "\n",
        "is_armstrong(num1)  # Output: True\n",
        "is_armstrong(num2)  # Output: False\n"
      ],
      "metadata": {
        "colab": {
          "base_uri": "https://localhost:8080/"
        },
        "id": "VvcqytKfIkNl",
        "outputId": "7901b0dd-0c22-4118-83b7-06aa353cbc53"
      },
      "execution_count": 10,
      "outputs": [
        {
          "output_type": "execute_result",
          "data": {
            "text/plain": [
              "False"
            ]
          },
          "metadata": {},
          "execution_count": 10
        }
      ]
    },
    {
      "cell_type": "code",
      "source": [],
      "metadata": {
        "id": "ergEsIMRIkTF"
      },
      "execution_count": 10,
      "outputs": []
    }
  ]
}