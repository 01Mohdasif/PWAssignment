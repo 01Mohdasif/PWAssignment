{
  "nbformat": 4,
  "nbformat_minor": 0,
  "metadata": {
    "colab": {
      "provenance": []
    },
    "kernelspec": {
      "name": "python3",
      "display_name": "Python 3"
    },
    "language_info": {
      "name": "python"
    }
  },
  "cells": [
    {
      "cell_type": "code",
      "source": [
        "from collections import Counter\n",
        "\n",
        "def find_max_occurrence_element(arr):\n",
        "    # Count the frequency of each element\n",
        "    count = Counter(arr)\n",
        "    # Find the element with the maximum count\n",
        "    max_element = max(count, key=count.get)\n",
        "    return max_element\n",
        "\n",
        "# Example usage\n",
        "arr = [1, 2, 4, 2, 5, 9, 2]\n",
        "find_max_occurrence_element(arr)  # Output: 2\n"
      ],
      "metadata": {
        "colab": {
          "base_uri": "https://localhost:8080/"
        },
        "id": "2VIE6OYmJ_Pi",
        "outputId": "6a84637e-e31a-40fb-846a-570eaa623663"
      },
      "execution_count": 14,
      "outputs": [
        {
          "output_type": "execute_result",
          "data": {
            "text/plain": [
              "2"
            ]
          },
          "metadata": {},
          "execution_count": 14
        }
      ]
    },
    {
      "cell_type": "code",
      "source": [
        "def find_missing_element(arr, n):\n",
        "    # Sum of all numbers from 1 to n\n",
        "    total_sum = n * (n + 1) // 2\n",
        "    # Sum of the elements in the array\n",
        "    arr_sum = sum(arr)\n",
        "    # The missing element is the difference between the total sum and the sum of the array\n",
        "    return total_sum - arr_sum\n",
        "\n",
        "# Example usage\n",
        "arr = [1, 2, 4, 6, 3, 7, 8]\n",
        "n = 8\n",
        "find_missing_element(arr, n)  # Output: 5\n"
      ],
      "metadata": {
        "colab": {
          "base_uri": "https://localhost:8080/"
        },
        "id": "STSRDZUXJ_hl",
        "outputId": "eeea1b37-75a5-41e1-8a5d-bea9107accf3"
      },
      "execution_count": 15,
      "outputs": [
        {
          "output_type": "execute_result",
          "data": {
            "text/plain": [
              "5"
            ]
          },
          "metadata": {},
          "execution_count": 15
        }
      ]
    },
    {
      "cell_type": "code",
      "source": [
        "def find_odd_occurrence_element(arr):\n",
        "    result = 0\n",
        "    for num in arr:\n",
        "        result ^= num  # XOR all elements, the result will be the element that occurs odd number of times\n",
        "    return result\n",
        "\n",
        "# Example usage\n",
        "arr = [1, 2, 3, 2, 3, 1, 3]\n",
        "find_odd_occurrence_element(arr)  # Output: 3\n"
      ],
      "metadata": {
        "colab": {
          "base_uri": "https://localhost:8080/"
        },
        "id": "_ugifyIpJ_rQ",
        "outputId": "dc1b9c57-db7b-49e6-af74-d6af4c3b19af"
      },
      "execution_count": 16,
      "outputs": [
        {
          "output_type": "execute_result",
          "data": {
            "text/plain": [
              "3"
            ]
          },
          "metadata": {},
          "execution_count": 16
        }
      ]
    },
    {
      "cell_type": "code",
      "source": [
        "def find_pair_with_sum(arr, k):\n",
        "    seen = set()\n",
        "    for num in arr:\n",
        "        complement = k - num\n",
        "        if complement in seen:\n",
        "            return (num, complement)\n",
        "        seen.add(num)\n",
        "    return None  # No pair found\n",
        "\n",
        "# Example usage\n",
        "arr = [1, 2, 3, 4, 5]\n",
        "k = 6\n",
        "find_pair_with_sum(arr, k)  # Output: (2, 4)\n"
      ],
      "metadata": {
        "colab": {
          "base_uri": "https://localhost:8080/"
        },
        "id": "W9BwaUi0J_1h",
        "outputId": "91c7d04e-82eb-4d97-c3db-69a421fe6c09"
      },
      "execution_count": 17,
      "outputs": [
        {
          "output_type": "execute_result",
          "data": {
            "text/plain": [
              "(4, 2)"
            ]
          },
          "metadata": {},
          "execution_count": 17
        }
      ]
    },
    {
      "cell_type": "code",
      "source": [
        "def find_closest_to_zero(arr):\n",
        "    arr.sort()  # Sort the array\n",
        "    left, right = 0, len(arr) - 1\n",
        "    closest_sum = float('inf')\n",
        "    closest_pair = None\n",
        "\n",
        "    while left < right:\n",
        "        current_sum = arr[left] + arr[right]\n",
        "        if abs(current_sum) < abs(closest_sum):\n",
        "            closest_sum = current_sum\n",
        "            closest_pair = (arr[left], arr[right])\n",
        "\n",
        "        if current_sum < 0:\n",
        "            left += 1\n",
        "        else:\n",
        "            right -= 1\n",
        "\n",
        "    return closest_pair\n",
        "\n",
        "# Example usage\n",
        "arr = [1, 60, -10, 70, -80, 85]\n",
        "find_closest_to_zero(arr)  # Output: (-80, 85)\n"
      ],
      "metadata": {
        "colab": {
          "base_uri": "https://localhost:8080/"
        },
        "id": "4xAc5DM-KAHi",
        "outputId": "3e83c27b-16d0-469e-d384-91337a4b3283"
      },
      "execution_count": 18,
      "outputs": [
        {
          "output_type": "execute_result",
          "data": {
            "text/plain": [
              "(-80, 85)"
            ]
          },
          "metadata": {},
          "execution_count": 18
        }
      ]
    },
    {
      "cell_type": "code",
      "source": [
        "def find_triplet_with_sum(arr, target):\n",
        "    arr.sort()  # Sort the array\n",
        "    for i in range(len(arr) - 2):\n",
        "        left, right = i + 1, len(arr) - 1\n",
        "        while left < right:\n",
        "            current_sum = arr[i] + arr[left] + arr[right]\n",
        "            if current_sum == target:\n",
        "                return (arr[i], arr[left], arr[right])\n",
        "            elif current_sum < target:\n",
        "                left += 1\n",
        "            else:\n",
        "                right -= 1\n",
        "    return None\n",
        "\n",
        "# Example usage\n",
        "arr = [1, 2, 3, 4, 5, 6]\n",
        "target = 10\n",
        "find_triplet_with_sum(arr, target)  # Output: (1, 4, 5)\n"
      ],
      "metadata": {
        "colab": {
          "base_uri": "https://localhost:8080/"
        },
        "id": "f2hkGobCKAO5",
        "outputId": "38db603b-ec57-4292-f222-e9b5b971421d"
      },
      "execution_count": 19,
      "outputs": [
        {
          "output_type": "execute_result",
          "data": {
            "text/plain": [
              "(1, 3, 6)"
            ]
          },
          "metadata": {},
          "execution_count": 19
        }
      ]
    },
    {
      "cell_type": "code",
      "source": [
        "def find_pythagorean_triplet(arr):\n",
        "    arr.sort()  # Sort the array\n",
        "    for i in range(len(arr) - 1, 1, -1):  # Traverse backwards\n",
        "        left, right = 0, i - 1\n",
        "        while left < right:\n",
        "            if arr[left]**2 + arr[right]**2 == arr[i]**2:\n",
        "                return (arr[left], arr[right], arr[i])\n",
        "            elif arr[left]**2 + arr[right]**2 < arr[i]**2:\n",
        "                left += 1\n",
        "            else:\n",
        "                right -= 1\n",
        "    return None\n",
        "\n",
        "# Example usage\n",
        "arr = [3, 1, 4, 6, 5]\n",
        "find_pythagorean_triplet(arr)  # Output: (3, 4, 5)\n"
      ],
      "metadata": {
        "colab": {
          "base_uri": "https://localhost:8080/"
        },
        "id": "2Io-jwGTKAWI",
        "outputId": "87af5c26-6881-4275-80be-22985f3dc62d"
      },
      "execution_count": 20,
      "outputs": [
        {
          "output_type": "execute_result",
          "data": {
            "text/plain": [
              "(3, 4, 5)"
            ]
          },
          "metadata": {},
          "execution_count": 20
        }
      ]
    },
    {
      "cell_type": "code",
      "source": [
        "def find_majority_element(arr):\n",
        "    count = 0\n",
        "    candidate = None\n",
        "\n",
        "    for num in arr:\n",
        "        if count == 0:\n",
        "            candidate = num\n",
        "        count += (1 if num == candidate else -1)\n",
        "\n",
        "    # Verify if the candidate is actually the majority element\n",
        "    if arr.count(candidate) > len(arr) // 2:\n",
        "        return candidate\n",
        "    return None\n",
        "\n",
        "# Example usage\n",
        "arr = [1, 2, 3, 1, 1]\n",
        "find_majority_element(arr)  # Output: 1\n"
      ],
      "metadata": {
        "colab": {
          "base_uri": "https://localhost:8080/"
        },
        "id": "VralFR9JKAdX",
        "outputId": "b93687b6-c7d5-45f9-eb72-4b67fc06ae7d"
      },
      "execution_count": 21,
      "outputs": [
        {
          "output_type": "execute_result",
          "data": {
            "text/plain": [
              "1"
            ]
          },
          "metadata": {},
          "execution_count": 21
        }
      ]
    },
    {
      "cell_type": "code",
      "source": [
        "def row_with_max_zeros(matrix):\n",
        "    max_zeros = -1\n",
        "    row_index = -1\n",
        "\n",
        "    for i, row in enumerate(matrix):\n",
        "        zero_count = row.count(0)\n",
        "        if zero_count > max_zeros:\n",
        "            max_zeros = zero_count\n",
        "            row_index = i\n",
        "\n",
        "    return row_index\n",
        "\n",
        "# Example usage\n",
        "matrix = [\n",
        "    [1, 0, 0, 0],\n",
        "    [0, 0, 0, 0],\n",
        "    [1, 1, 1, 0]\n",
        "]\n",
        "row_with_max_zeros(matrix)  # Output: 1 (row with the most zeros)\n"
      ],
      "metadata": {
        "colab": {
          "base_uri": "https://localhost:8080/"
        },
        "id": "iSKsVOgvKAk9",
        "outputId": "f9878c9d-7c68-44cf-a13c-dca444c1119d"
      },
      "execution_count": 22,
      "outputs": [
        {
          "output_type": "execute_result",
          "data": {
            "text/plain": [
              "1"
            ]
          },
          "metadata": {},
          "execution_count": 22
        }
      ]
    },
    {
      "cell_type": "code",
      "source": [
        "def sort_0_1_2(arr):\n",
        "    low, mid, high = 0, 0, len(arr) - 1\n",
        "\n",
        "    while mid <= high:\n",
        "        if arr[mid] == 0:\n",
        "            arr[low], arr[mid] = arr[mid], arr[low]\n",
        "            low += 1\n",
        "            mid += 1\n",
        "        elif arr[mid] == 1:\n",
        "            mid += 1\n",
        "        else:\n",
        "            arr[mid], arr[high] = arr[high], arr[mid]\n",
        "            high -= 1\n",
        "\n",
        "    return arr\n",
        "\n",
        "# Example usage\n",
        "arr = [0, 1, 1, 0, 1, 2, 1, 2, 0, 0, 0, 1]\n",
        "sort_0_1_2(arr)  # Output: [0, 0, 0, 0, 0, 1, 1, 1, 1, 1, 2, 2]\n"
      ],
      "metadata": {
        "colab": {
          "base_uri": "https://localhost:8080/"
        },
        "id": "XmD422QlKAu5",
        "outputId": "2f441f75-51b6-43d7-91cd-c19a6903e0c1"
      },
      "execution_count": 23,
      "outputs": [
        {
          "output_type": "execute_result",
          "data": {
            "text/plain": [
              "[0, 0, 0, 0, 0, 1, 1, 1, 1, 1, 2, 2]"
            ]
          },
          "metadata": {},
          "execution_count": 23
        }
      ]
    }
  ]
}