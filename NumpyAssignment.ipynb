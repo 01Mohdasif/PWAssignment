{
  "nbformat": 4,
  "nbformat_minor": 0,
  "metadata": {
    "colab": {
      "provenance": []
    },
    "kernelspec": {
      "name": "python3",
      "display_name": "Python 3"
    },
    "language_info": {
      "name": "python"
    }
  },
  "cells": [
    {
      "cell_type": "code",
      "execution_count": 1,
      "metadata": {
        "colab": {
          "base_uri": "https://localhost:8080/"
        },
        "id": "KVcoi3o4Nsm2",
        "outputId": "13c863c8-4a4f-4977-92cb-9819b6c1430b"
      },
      "outputs": [
        {
          "output_type": "execute_result",
          "data": {
            "text/plain": [
              "array([1, 2, 3, 4])"
            ]
          },
          "metadata": {},
          "execution_count": 1
        }
      ],
      "source": [
        "# 1. What is a Python library? Why do we use Python libraries?\n",
        "\n",
        "# Explanation:\n",
        "# A Python library is a collection of modules (files with Python code) that help us perform common tasks.\n",
        "# Libraries provide functions and classes to simplify complex tasks like numerical computations, file handling, and data manipulation.\n",
        "\n",
        "# Why use Python libraries?\n",
        "# - They save time and effort by providing pre-built, reusable code.\n",
        "# - They allow us to perform complex operations easily and efficiently.\n",
        "# - They contain optimized implementations for performance.\n",
        "\n",
        "# Example: Importing a library and using its functions\n",
        "import numpy as np\n",
        "\n",
        "# Creating a simple NumPy array\n",
        "arr = np.array([1, 2, 3, 4])\n",
        "arr\n"
      ]
    },
    {
      "cell_type": "code",
      "source": [
        "# 2. What is the difference between Numpy array and List?\n",
        "\n",
        "# NumPy Array:\n",
        "# - Stores elements of the same data type.\n",
        "# - More efficient for numerical operations.\n",
        "# - Supports multi-dimensional arrays (e.g., 2D, 3D).\n",
        "# - Allows vectorized operations, which are faster.\n",
        "\n",
        "# Python List:\n",
        "# - Can store elements of different data types.\n",
        "# - Less efficient for numerical computations.\n",
        "# - Primarily 1D, although it can be nested to simulate multi-dimensional lists.\n",
        "# - Does not support vectorized operations.\n",
        "\n",
        "# Example: Comparing NumPy Array with a Python List\n",
        "py_list = [1, 2, 3, 4]\n",
        "np_array = np.array([1, 2, 3, 4])\n",
        "\n",
        "# Display the type of both\n",
        "type(py_list), type(np_array)\n"
      ],
      "metadata": {
        "colab": {
          "base_uri": "https://localhost:8080/"
        },
        "id": "FMqEl9zPN1hb",
        "outputId": "602e1edd-d64f-4e88-add2-037a24580304"
      },
      "execution_count": 2,
      "outputs": [
        {
          "output_type": "execute_result",
          "data": {
            "text/plain": [
              "(list, numpy.ndarray)"
            ]
          },
          "metadata": {},
          "execution_count": 2
        }
      ]
    },
    {
      "cell_type": "code",
      "source": [
        "# 3. Find the shape, size, and dimension of the following array:\n",
        "# [[1, 2, 3, 4],\n",
        "#  [5, 6, 7, 8],\n",
        "#  [9, 10, 11, 12]]\n",
        "\n",
        "# Creating the array\n",
        "array = np.array([[1, 2, 3, 4],\n",
        "                  [5, 6, 7, 8],\n",
        "                  [9, 10, 11, 12]])\n",
        "\n",
        "# Finding shape, size, and dimension\n",
        "shape = array.shape\n",
        "size = array.size\n",
        "dimension = array.ndim\n",
        "\n",
        "shape, size, dimension\n"
      ],
      "metadata": {
        "colab": {
          "base_uri": "https://localhost:8080/"
        },
        "id": "WAqvpwhgN1nu",
        "outputId": "bda4e9ee-83ef-4b43-e90a-69eeaafbcddc"
      },
      "execution_count": 3,
      "outputs": [
        {
          "output_type": "execute_result",
          "data": {
            "text/plain": [
              "((3, 4), 12, 2)"
            ]
          },
          "metadata": {},
          "execution_count": 3
        }
      ]
    },
    {
      "cell_type": "code",
      "source": [
        "# 4. Write python code to access the first row of the following array:\n",
        "# [[1, 2, 3, 4],\n",
        "#  [5, 6, 7, 8],\n",
        "#  [9, 10, 11, 12]]\n",
        "\n",
        "# Accessing the first row of the array\n",
        "first_row = array[0]\n",
        "first_row\n"
      ],
      "metadata": {
        "colab": {
          "base_uri": "https://localhost:8080/"
        },
        "id": "C22BWrLRN1vJ",
        "outputId": "2291840d-13eb-4c06-b6d8-02b0fb55027f"
      },
      "execution_count": 4,
      "outputs": [
        {
          "output_type": "execute_result",
          "data": {
            "text/plain": [
              "array([1, 2, 3, 4])"
            ]
          },
          "metadata": {},
          "execution_count": 4
        }
      ]
    },
    {
      "cell_type": "code",
      "source": [
        "# 5. How do you access the element at the third row and fourth column from the given numpy array?\n",
        "# [[1, 2, 3, 4],\n",
        "#  [5, 6, 7, 8],\n",
        "#  [9, 10, 11, 12]]\n",
        "\n",
        "# Accessing the element at the third row and fourth column\n",
        "element = array[2, 3]\n",
        "element\n"
      ],
      "metadata": {
        "colab": {
          "base_uri": "https://localhost:8080/"
        },
        "id": "Qci_JaPcN11S",
        "outputId": "84cbe7c5-7f4e-40e7-ef5a-d43941aab895"
      },
      "execution_count": 5,
      "outputs": [
        {
          "output_type": "execute_result",
          "data": {
            "text/plain": [
              "12"
            ]
          },
          "metadata": {},
          "execution_count": 5
        }
      ]
    },
    {
      "cell_type": "code",
      "source": [
        "# 6. Write code to extract all odd-indexed elements from the given numpy array:\n",
        "# [[1, 2, 3, 4],\n",
        "#  [5, 6, 7, 8],\n",
        "#  [9, 10, 11, 12]]\n",
        "\n",
        "# Extracting odd-indexed elements (odd rows and odd columns)\n",
        "odd_indexed_elements = array[::2, ::2]\n",
        "odd_indexed_elements\n"
      ],
      "metadata": {
        "colab": {
          "base_uri": "https://localhost:8080/"
        },
        "id": "WWnwyRFZN17f",
        "outputId": "cde02194-858d-4305-a294-cdac2549ceed"
      },
      "execution_count": 6,
      "outputs": [
        {
          "output_type": "execute_result",
          "data": {
            "text/plain": [
              "array([[ 1,  3],\n",
              "       [ 9, 11]])"
            ]
          },
          "metadata": {},
          "execution_count": 6
        }
      ]
    },
    {
      "cell_type": "code",
      "source": [
        "# 7. How can you generate a random 3x3 matrix with values between 0 and 1?\n",
        "\n",
        "# Generating a random 3x3 matrix with values between 0 and 1\n",
        "random_matrix = np.random.rand(3, 3)\n",
        "random_matrix\n"
      ],
      "metadata": {
        "colab": {
          "base_uri": "https://localhost:8080/"
        },
        "id": "W9vIb5_oN2BQ",
        "outputId": "8ee40dc8-1fbd-4278-c342-860037388913"
      },
      "execution_count": 7,
      "outputs": [
        {
          "output_type": "execute_result",
          "data": {
            "text/plain": [
              "array([[0.19953066, 0.90979398, 0.24983745],\n",
              "       [0.38127543, 0.45243513, 0.64797595],\n",
              "       [0.52527842, 0.72402148, 0.09457946]])"
            ]
          },
          "metadata": {},
          "execution_count": 7
        }
      ]
    },
    {
      "cell_type": "code",
      "source": [
        "# 8. Describe the difference between np.random.rand and np.random.randn?\n",
        "\n",
        "# np.random.rand:\n",
        "# - Generates random numbers from a uniform distribution in the range [0, 1).\n",
        "# np.random.randn:\n",
        "# - Generates random numbers from a standard normal distribution (mean=0, std=1).\n",
        "\n",
        "# Example:\n",
        "rand_example = np.random.rand(3, 3)   # Uniform distribution between 0 and 1\n",
        "randn_example = np.random.randn(3, 3)  # Standard normal distribution\n",
        "rand_example, randn_example\n"
      ],
      "metadata": {
        "colab": {
          "base_uri": "https://localhost:8080/"
        },
        "id": "jhY-VZoJN2G-",
        "outputId": "ae9b2168-5f5b-4a49-e6c6-d051b8c3c514"
      },
      "execution_count": 8,
      "outputs": [
        {
          "output_type": "execute_result",
          "data": {
            "text/plain": [
              "(array([[0.15795379, 0.99301072, 0.88996594],\n",
              "        [0.50420921, 0.78568081, 0.25000206],\n",
              "        [0.75352997, 0.57102986, 0.0988946 ]]),\n",
              " array([[ 0.04224724, -0.83624554,  0.91935733],\n",
              "        [ 1.19638683, -1.39093401,  0.17454531],\n",
              "        [-0.55264509, -0.11705334,  1.2410504 ]]))"
            ]
          },
          "metadata": {},
          "execution_count": 8
        }
      ]
    },
    {
      "cell_type": "code",
      "source": [
        "# 9. Write code to increase the dimension of the following array:\n",
        "# [[1, 2, 3, 4],\n",
        "#  [5, 6, 7, 8],\n",
        "#  [9, 10, 11, 12]]\n",
        "\n",
        "# Expanding the dimension of the array\n",
        "expanded_array = np.expand_dims(array, axis=0)\n",
        "expanded_array\n"
      ],
      "metadata": {
        "colab": {
          "base_uri": "https://localhost:8080/"
        },
        "id": "H4hnKy3GN2Mu",
        "outputId": "eee180a1-c2ec-4515-e7eb-4ec241e280c1"
      },
      "execution_count": 9,
      "outputs": [
        {
          "output_type": "execute_result",
          "data": {
            "text/plain": [
              "array([[[ 1,  2,  3,  4],\n",
              "        [ 5,  6,  7,  8],\n",
              "        [ 9, 10, 11, 12]]])"
            ]
          },
          "metadata": {},
          "execution_count": 9
        }
      ]
    },
    {
      "cell_type": "code",
      "source": [
        "# 10. How to transpose the following array in NumPy?\n",
        "# [[1, 2, 3, 4],\n",
        "#  [5, 6, 7, 8],\n",
        "#  [9, 10, 11, 12]]\n",
        "\n",
        "# Transposing the array (rows become columns)\n",
        "transposed_array = array.T\n",
        "transposed_array\n"
      ],
      "metadata": {
        "colab": {
          "base_uri": "https://localhost:8080/"
        },
        "id": "bpynUFT1N2SQ",
        "outputId": "35594f76-1010-4271-fbae-be161f897e58"
      },
      "execution_count": 10,
      "outputs": [
        {
          "output_type": "execute_result",
          "data": {
            "text/plain": [
              "array([[ 1,  5,  9],\n",
              "       [ 2,  6, 10],\n",
              "       [ 3,  7, 11],\n",
              "       [ 4,  8, 12]])"
            ]
          },
          "metadata": {},
          "execution_count": 10
        }
      ]
    },
    {
      "cell_type": "code",
      "source": [
        "# 11. Perform matrix operations:\n",
        "\n",
        "# Matrix A:\n",
        "A = np.array([[1, 2, 3, 4],\n",
        "              [5, 6, 7, 8],\n",
        "              [9, 10, 11, 12]])\n",
        "\n",
        "# Matrix B:\n",
        "B = np.array([[1, 2, 3, 4],\n",
        "              [5, 6, 7, 8],\n",
        "              [9, 10, 11, 12]])\n",
        "\n",
        "# Index-wise addition\n",
        "addition = A + B\n",
        "\n",
        "# Index-wise multiplication\n",
        "multiplication = A * B\n",
        "\n",
        "# Matrix multiplication (Dot product)\n",
        "matrix_multiplication = np.dot(A, B.T)  # A dot B transpose\n",
        "\n",
        "# Add both matrices\n",
        "matrix_addition = np.add(A, B)\n",
        "\n",
        "# Subtract matrix B from matrix A\n",
        "matrix_subtraction = np.subtract(A, B)\n",
        "\n",
        "# Divide matrix B by matrix A (element-wise division)\n",
        "matrix_division = np.divide(B, A)\n",
        "\n",
        "addition, multiplication, matrix_multiplication, matrix_addition, matrix_subtraction, matrix_division\n"
      ],
      "metadata": {
        "colab": {
          "base_uri": "https://localhost:8080/"
        },
        "id": "RFcSewbJN2Xw",
        "outputId": "545a5826-76bf-4361-c09b-437672d5e216"
      },
      "execution_count": 11,
      "outputs": [
        {
          "output_type": "execute_result",
          "data": {
            "text/plain": [
              "(array([[ 2,  4,  6,  8],\n",
              "        [10, 12, 14, 16],\n",
              "        [18, 20, 22, 24]]),\n",
              " array([[  1,   4,   9,  16],\n",
              "        [ 25,  36,  49,  64],\n",
              "        [ 81, 100, 121, 144]]),\n",
              " array([[ 30,  70, 110],\n",
              "        [ 70, 174, 278],\n",
              "        [110, 278, 446]]),\n",
              " array([[ 2,  4,  6,  8],\n",
              "        [10, 12, 14, 16],\n",
              "        [18, 20, 22, 24]]),\n",
              " array([[0, 0, 0, 0],\n",
              "        [0, 0, 0, 0],\n",
              "        [0, 0, 0, 0]]),\n",
              " array([[1., 1., 1., 1.],\n",
              "        [1., 1., 1., 1.],\n",
              "        [1., 1., 1., 1.]]))"
            ]
          },
          "metadata": {},
          "execution_count": 11
        }
      ]
    },
    {
      "cell_type": "code",
      "source": [
        "# 12. Which function in Numpy can be used to swap the byte order of an array?\n",
        "\n",
        "# The function to swap the byte order is np.byteswap().\n",
        "# Example:\n",
        "array = np.array([1, 2, 3, 4], dtype='>i4')  # Big-endian byte order\n",
        "swapped_array = array.byteswap().newbyteorder()\n",
        "swapped_array\n"
      ],
      "metadata": {
        "colab": {
          "base_uri": "https://localhost:8080/"
        },
        "id": "F4R4_4xqN2ct",
        "outputId": "a5de52bf-aa76-4c87-da97-98cb9c0e4580"
      },
      "execution_count": 12,
      "outputs": [
        {
          "output_type": "execute_result",
          "data": {
            "text/plain": [
              "array([1, 2, 3, 4], dtype=int32)"
            ]
          },
          "metadata": {},
          "execution_count": 12
        }
      ]
    },
    {
      "cell_type": "code",
      "source": [
        "# 13. What is the significance of the np.linalg.inv function?\n",
        "\n",
        "# The np.linalg.inv function computes the inverse of a matrix.\n",
        "# Example:\n",
        "A = np.array([[1, 2], [3, 4]])\n",
        "A_inv = np.linalg.inv(A)\n",
        "A_inv\n"
      ],
      "metadata": {
        "colab": {
          "base_uri": "https://localhost:8080/"
        },
        "id": "_rTUHiQqN2h2",
        "outputId": "e18f08d8-a0f2-4414-8780-b430d64032ac"
      },
      "execution_count": 13,
      "outputs": [
        {
          "output_type": "execute_result",
          "data": {
            "text/plain": [
              "array([[-2. ,  1. ],\n",
              "       [ 1.5, -0.5]])"
            ]
          },
          "metadata": {},
          "execution_count": 13
        }
      ]
    },
    {
      "cell_type": "code",
      "source": [
        "# 14. What does the np.reshape function do, and how is it used?\n",
        "\n",
        "# np.reshape changes the shape of an array without changing its data.\n",
        "# Example:\n",
        "# Create an array with 12 elements (since 4 * 3 = 12)\n",
        "array_large = np.array([1, 2, 3, 4, 5, 6, 7, 8, 9, 10, 11, 12])\n",
        "\n",
        "# Reshaping the array to 4 rows and 3 columns\n",
        "reshaped_array_large = np.reshape(array_large, (4, 3))\n",
        "\n",
        "reshaped_array_large\n"
      ],
      "metadata": {
        "colab": {
          "base_uri": "https://localhost:8080/"
        },
        "id": "Iv3MGVZvN2nK",
        "outputId": "a9292542-3f23-47bc-e770-319228435c75"
      },
      "execution_count": 15,
      "outputs": [
        {
          "output_type": "execute_result",
          "data": {
            "text/plain": [
              "array([[ 1,  2,  3],\n",
              "       [ 4,  5,  6],\n",
              "       [ 7,  8,  9],\n",
              "       [10, 11, 12]])"
            ]
          },
          "metadata": {},
          "execution_count": 15
        }
      ]
    },
    {
      "cell_type": "code",
      "source": [
        "# 15. What is broadcasting in Numpy?\n",
        "\n",
        "# Broadcasting allows NumPy to perform element-wise operations on arrays of different shapes.\n",
        "# The smaller array is \"broadcast\" over the larger array, so they have compatible shapes for arithmetic operations.\n",
        "\n",
        "# Example:\n",
        "array_1 = np.array([1, 2, 3])\n",
        "array_2 = np.array([[1], [2], [3]])\n",
        "\n",
        "# Broadcasting array_2 to the shape of array_1\n",
        "result = array_1 + array_2\n",
        "result\n"
      ],
      "metadata": {
        "colab": {
          "base_uri": "https://localhost:8080/"
        },
        "id": "EFixWjZ4N2s0",
        "outputId": "da515d73-4b98-4205-b793-3a067d2c0133"
      },
      "execution_count": 16,
      "outputs": [
        {
          "output_type": "execute_result",
          "data": {
            "text/plain": [
              "array([[2, 3, 4],\n",
              "       [3, 4, 5],\n",
              "       [4, 5, 6]])"
            ]
          },
          "metadata": {},
          "execution_count": 16
        }
      ]
    },
    {
      "cell_type": "code",
      "source": [],
      "metadata": {
        "id": "memC2btjN2xu"
      },
      "execution_count": null,
      "outputs": []
    }
  ]
}