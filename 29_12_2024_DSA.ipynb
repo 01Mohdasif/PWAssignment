{
  "nbformat": 4,
  "nbformat_minor": 0,
  "metadata": {
    "colab": {
      "provenance": []
    },
    "kernelspec": {
      "name": "python3",
      "display_name": "Python 3"
    },
    "language_info": {
      "name": "python"
    }
  },
  "cells": [
    {
      "cell_type": "code",
      "source": [
        "class ListNode:\n",
        "    def __init__(self, val=0, next=None):\n",
        "        self.val = val\n",
        "        self.next = next\n",
        "\n",
        "def reverse_linked_list(head):\n",
        "    prev = None\n",
        "    current = head\n",
        "    while current:\n",
        "        next_node = current.next\n",
        "        current.next = prev\n",
        "        prev = current\n",
        "        current = next_node\n",
        "    return prev\n",
        "\n",
        "# Example usage\n",
        "# Creating a linked list: 1 -> 2 -> 3 -> 4 -> 5\n",
        "head = ListNode(1, ListNode(2, ListNode(3, ListNode(4, ListNode(5)))))\n",
        "reversed_head = reverse_linked_list(head)\n"
      ],
      "metadata": {
        "id": "yhPUNC6sLRrE"
      },
      "execution_count": 86,
      "outputs": []
    },
    {
      "cell_type": "code",
      "source": [
        "def merge_sorted_lists(list1, list2):\n",
        "    dummy = ListNode()\n",
        "    current = dummy\n",
        "    while list1 and list2:\n",
        "        if list1.val < list2.val:\n",
        "            current.next = list1\n",
        "            list1 = list1.next\n",
        "        else:\n",
        "            current.next = list2\n",
        "            list2 = list2.next\n",
        "        current = current.next\n",
        "    current.next = list1 or list2\n",
        "    return dummy.next\n",
        "\n",
        "# Example usage\n",
        "list1 = ListNode(1, ListNode(3, ListNode(5)))\n",
        "list2 = ListNode(2, ListNode(4, ListNode(6)))\n",
        "merged_head = merge_sorted_lists(list1, list2)\n"
      ],
      "metadata": {
        "id": "RTyHuqf-LRuc"
      },
      "execution_count": 87,
      "outputs": []
    },
    {
      "cell_type": "code",
      "source": [
        "def remove_nth_from_end(head, n):\n",
        "    dummy = ListNode(0)\n",
        "    dummy.next = head\n",
        "    first = second = dummy\n",
        "    for _ in range(n + 1):\n",
        "        first = first.next\n",
        "    while first:\n",
        "        first = first.next\n",
        "        second = second.next\n",
        "    second.next = second.next.next\n",
        "    return dummy.next\n",
        "\n",
        "# Example usage\n",
        "head = ListNode(1, ListNode(2, ListNode(3, ListNode(4, ListNode(5)))))\n",
        "updated_head = remove_nth_from_end(head, 2)\n"
      ],
      "metadata": {
        "id": "Z81GM09ALRyJ"
      },
      "execution_count": 88,
      "outputs": []
    },
    {
      "cell_type": "code",
      "source": [
        "def get_intersection_node(headA, headB):\n",
        "    if not headA or not headB:\n",
        "        return None\n",
        "    pointerA, pointerB = headA, headB\n",
        "    while pointerA != pointerB:\n",
        "        pointerA = pointerA.next if pointerA else headB\n",
        "        pointerB = pointerB.next if pointerB else headA\n",
        "    return pointerA\n",
        "\n",
        "# Example usage\n",
        "listA = ListNode(1, ListNode(2, ListNode(3)))\n",
        "listB = ListNode(4, ListNode(5, listA.next))  # Intersection at node with value 2\n",
        "intersection_node = get_intersection_node(listA, listB)\n"
      ],
      "metadata": {
        "id": "PbuwjRqBLR2Y"
      },
      "execution_count": 89,
      "outputs": []
    },
    {
      "cell_type": "code",
      "source": [
        "def remove_duplicates(head):\n",
        "    current = head\n",
        "    while current and current.next:\n",
        "        if current.val == current.next.val:\n",
        "            current.next = current.next.next\n",
        "        else:\n",
        "            current = current.next\n",
        "    return head\n",
        "\n",
        "# Example usage\n",
        "head = ListNode(1, ListNode(1, ListNode(2, ListNode(3, ListNode(3)))))\n",
        "updated_head = remove_duplicates(head)\n"
      ],
      "metadata": {
        "id": "DstzDA4lLSDh"
      },
      "execution_count": 90,
      "outputs": []
    },
    {
      "cell_type": "code",
      "source": [
        "def add_two_numbers(l1, l2):\n",
        "    dummy = ListNode(0)\n",
        "    current = dummy\n",
        "    carry = 0\n",
        "    while l1 or l2 or carry:\n",
        "        x = l1.val if l1 else 0\n",
        "        y = l2.val if l2 else 0\n",
        "        total = x + y + carry\n",
        "        carry = total // 10\n",
        "        current.next = ListNode(total % 10)\n",
        "        current = current.next\n",
        "        if l1:\n",
        "            l1 = l1.next\n",
        "        if l2:\n",
        "            l2 = l2.next\n",
        "    return dummy.next\n",
        "\n",
        "# Example usage\n",
        "l1 = ListNode(2, ListNode(4, ListNode(3)))  # 342\n",
        "l2 = ListNode(5, ListNode(6, ListNode(4)))  # 465\n",
        "result = add_two_numbers(l1, l2)  # Result: 807 -> 7 -> 0 -> 8\n"
      ],
      "metadata": {
        "id": "CODV69zALSIu"
      },
      "execution_count": 91,
      "outputs": []
    },
    {
      "cell_type": "code",
      "source": [
        "def swap_pairs(head):\n",
        "    dummy = ListNode(0)\n",
        "    dummy.next = head\n",
        "    current = dummy\n",
        "    while current.next and current.next.next:\n",
        "        first = current.next\n",
        "        second = current.next.next\n",
        "        first.next = second.next\n",
        "        second.next = first\n",
        "        current.next = second\n",
        "        current = first\n",
        "    return dummy.next\n",
        "\n",
        "# Example usage\n",
        "head = ListNode(1, ListNode(2, ListNode(3, ListNode(4))))\n",
        "swapped_head = swap_pairs(head)\n"
      ],
      "metadata": {
        "id": "XqoPexLdLSNg"
      },
      "execution_count": 92,
      "outputs": []
    },
    {
      "cell_type": "code",
      "source": [
        "def reverse_k_group(head, k):\n",
        "    count = 0\n",
        "    current = head\n",
        "    while current:\n",
        "        count += 1\n",
        "        current = current.next\n",
        "\n",
        "    dummy = ListNode(0)\n",
        "    dummy.next = head\n",
        "    prev_group_end = dummy\n",
        "    while count >= k:\n",
        "        group_start = prev_group_end.next\n",
        "        group_end = group_start\n",
        "        for _ in range(k - 1):\n",
        "            group_end = group_end.next\n",
        "        next_group_start = group_end.next\n",
        "\n",
        "        prev, curr = None, group_start\n",
        "        while curr != next_group_start:\n",
        "            temp = curr.next\n",
        "            curr.next = prev\n",
        "            prev = curr\n",
        "            curr = temp\n",
        "        prev_group_end.next = prev\n",
        "        group_start.next = next_group_start\n",
        "\n",
        "        prev_group_end = group_start\n",
        "        count -= k\n",
        "\n",
        "    return dummy.next\n",
        "\n",
        "# Example usage\n",
        "head = ListNode(1, ListNode(2, ListNode(3, ListNode(4, ListNode(5)))))\n",
        "k_reversed_head = reverse_k_group(head, 3)\n"
      ],
      "metadata": {
        "id": "4fef4ha1LSSN"
      },
      "execution_count": 93,
      "outputs": []
    },
    {
      "cell_type": "code",
      "source": [
        "def is_palindrome(head):\n",
        "    # Fast and slow pointer to find the middle\n",
        "    slow = fast = head\n",
        "    while fast and fast.next:\n",
        "        slow = slow.next\n",
        "        fast = fast.next.next\n",
        "\n",
        "    # Reverse the second half of the list\n",
        "    prev = None\n",
        "    while slow:\n",
        "        next_node = slow.next\n",
        "        slow.next = prev\n",
        "        prev = slow\n",
        "        slow = next_node\n",
        "\n",
        "    # Compare the first half and second half\n",
        "    first, second = head, prev\n",
        "    while second:\n",
        "        if first.val != second.val:\n",
        "            return False\n",
        "        first = first.next\n",
        "        second = second.next\n",
        "    return True\n",
        "\n",
        "# Example usage\n",
        "head = ListNode(1, ListNode(2, ListNode(2, ListNode(1))))\n",
        "result = is_palindrome(head)  # Output: True\n"
      ],
      "metadata": {
        "id": "hLTf4hUyLSWs"
      },
      "execution_count": 94,
      "outputs": []
    },
    {
      "cell_type": "code",
      "source": [
        "def rotate_right(head, k):\n",
        "    if not head or not head.next:\n",
        "        return head\n",
        "\n",
        "    # Count the length of the list\n",
        "    length = 1\n",
        "    last = head\n",
        "    while last.next:\n",
        "        last = last.next\n",
        "        length += 1\n",
        "\n",
        "    # Find the new head after rotation\n",
        "    k = k % length\n",
        "    if k == 0:\n",
        "        return head\n",
        "\n",
        "    # Find the new tail (length - k - 1) and the new head (length - k)\n",
        "    current = head\n",
        "    for _ in range(length - k - 1):\n",
        "        current = current.next\n",
        "\n",
        "    new_head = current.next\n",
        "    current.next = None\n",
        "    last.next = head\n",
        "    return new_head\n",
        "\n",
        "# Example usage\n",
        "head = ListNode(1, ListNode(2, ListNode(3, ListNode(4, ListNode(5)))))\n",
        "rotated_head = rotate_right(head, 2)\n"
      ],
      "metadata": {
        "id": "Pik1CPEgLSbZ"
      },
      "execution_count": 95,
      "outputs": []
    },
    {
      "cell_type": "code",
      "source": [
        "class Node:\n",
        "    def __init__(self, val=0, prev=None, next=None, child=None):\n",
        "        self.val = val\n",
        "        self.prev = prev\n",
        "        self.next = next\n",
        "        self.child = child\n",
        "\n",
        "def flatten(head):\n",
        "    if not head:\n",
        "        return None\n",
        "\n",
        "    dummy = Node(0)\n",
        "    dummy.next = head\n",
        "    prev = dummy\n",
        "    stack = [head]\n",
        "\n",
        "    while stack:\n",
        "        curr = stack.pop()\n",
        "        prev.next = curr\n",
        "        curr.prev = prev\n",
        "\n",
        "        if curr.next:\n",
        "            stack.append(curr.next)\n",
        "\n",
        "        if curr.child:\n",
        "            stack.append(curr.child)\n",
        "            curr.child = None\n",
        "\n",
        "        prev = curr\n",
        "\n",
        "    return dummy.next\n",
        "\n",
        "# Example usage: (Assuming head is a multilevel doubly linked list)\n",
        "# flattened_head = flatten(head)\n"
      ],
      "metadata": {
        "id": "nZAhLoc8LShz"
      },
      "execution_count": 96,
      "outputs": []
    },
    {
      "cell_type": "code",
      "source": [
        "def rearrange_even_positions(head):\n",
        "    if not head:\n",
        "        return None\n",
        "\n",
        "    odd_head = odd = head\n",
        "    even_head = even = head.next\n",
        "\n",
        "    while even and even.next:\n",
        "        odd.next = odd.next.next\n",
        "        even.next = even.next.next\n",
        "        odd = odd.next\n",
        "        even = even.next\n",
        "\n",
        "    odd.next = even_head\n",
        "    return odd_head\n",
        "\n",
        "# Example usage:\n",
        "# rearranged_head = rearrange_even_positions(head)\n"
      ],
      "metadata": {
        "id": "7bkm6UxHLSmY"
      },
      "execution_count": 97,
      "outputs": []
    },
    {
      "cell_type": "code",
      "source": [
        "def add_one(head):\n",
        "    dummy = ListNode(0)\n",
        "    dummy.next = head\n",
        "    current = dummy\n",
        "    carry = 1\n",
        "\n",
        "    while current:\n",
        "        sum_val = current.val + carry\n",
        "        current.val = sum_val % 10\n",
        "        carry = sum_val // 10\n",
        "\n",
        "        if not current.next and carry:\n",
        "            current.next = ListNode(carry)\n",
        "            carry = 0\n",
        "\n",
        "        current = current.next\n",
        "\n",
        "    return dummy.next\n",
        "\n",
        "# Example usage:\n",
        "# new_head = add_one(head)\n"
      ],
      "metadata": {
        "id": "Tbh-LA_hLSqz"
      },
      "execution_count": 98,
      "outputs": []
    },
    {
      "cell_type": "code",
      "source": [
        "def search_insert_position(nums, target):\n",
        "    low, high = 0, len(nums) - 1\n",
        "    while low <= high:\n",
        "        mid = (low + high) // 2\n",
        "        if nums[mid] == target:\n",
        "            return mid\n",
        "        elif nums[mid] < target:\n",
        "            low = mid + 1\n",
        "        else:\n",
        "            high = mid - 1\n",
        "    return low\n",
        "\n",
        "# Example usage:\n",
        "# index = search_insert_position([1, 3, 5, 6], 5)\n"
      ],
      "metadata": {
        "id": "nTk8BwG9LSu4"
      },
      "execution_count": 99,
      "outputs": []
    },
    {
      "cell_type": "code",
      "source": [
        "def find_min(nums):\n",
        "    low, high = 0, len(nums) - 1\n",
        "    while low < high:\n",
        "        mid = (low + high) // 2\n",
        "        if nums[mid] > nums[high]:\n",
        "            low = mid + 1\n",
        "        else:\n",
        "            high = mid\n",
        "    return nums[low]\n",
        "\n",
        "# Example usage:\n",
        "# min_value = find_min([4, 5, 6, 7, 0, 1, 2])\n"
      ],
      "metadata": {
        "id": "w70_C3ugLSy8"
      },
      "execution_count": 100,
      "outputs": []
    },
    {
      "cell_type": "code",
      "source": [
        "def search(nums, target):\n",
        "    low, high = 0, len(nums) - 1\n",
        "    while low <= high:\n",
        "        mid = (low + high) // 2\n",
        "        if nums[mid] == target:\n",
        "            return mid\n",
        "        if nums[low] <= nums[mid]:\n",
        "            if nums[low] <= target < nums[mid]:\n",
        "                high = mid - 1\n",
        "            else:\n",
        "                low = mid + 1\n",
        "        else:\n",
        "            if nums[mid] < target <= nums[high]:\n",
        "                low = mid + 1\n",
        "            else:\n",
        "                high = mid - 1\n",
        "    return -1\n",
        "\n",
        "# Example usage:\n",
        "# result = search([4, 5, 6, 7, 0, 1, 2], 0)\n"
      ],
      "metadata": {
        "id": "3zsX4FjXLS2_"
      },
      "execution_count": 101,
      "outputs": []
    },
    {
      "cell_type": "code",
      "source": [
        "def find_peak(nums):\n",
        "    low, high = 0, len(nums) - 1\n",
        "    while low <= high:\n",
        "        mid = (low + high) // 2\n",
        "        if (mid == 0 or nums[mid - 1] <= nums[mid]) and (mid == len(nums) - 1 or nums[mid + 1] <= nums[mid]):\n",
        "            return mid\n",
        "        elif mid > 0 and nums[mid - 1] > nums[mid]:\n",
        "            high = mid - 1\n",
        "        else:\n",
        "            low = mid + 1\n",
        "\n",
        "# Example usage:\n",
        "# peak_index = find_peak([1, 2, 3, 1])\n"
      ],
      "metadata": {
        "id": "1tqk1KAULS7j"
      },
      "execution_count": 102,
      "outputs": []
    },
    {
      "cell_type": "code",
      "source": [
        "def count_negatives(grid):\n",
        "    m, n = len(grid), len(grid[0])\n",
        "    row, col = m - 1, 0\n",
        "    count = 0\n",
        "\n",
        "    while row >= 0 and col < n:\n",
        "        if grid[row][col] < 0:\n",
        "            count += (n - col)\n",
        "            row -= 1\n",
        "        else:\n",
        "            col += 1\n",
        "\n",
        "    return count\n",
        "\n",
        "# Example usage:\n",
        "# matrix = [[4, 3, 2, -1], [3, 2, 1, -1], [1, 1, -1, -2], [-1, -1, -2, -3]]\n",
        "# count = count_negatives(matrix)\n"
      ],
      "metadata": {
        "id": "_2RCECb5LS_t"
      },
      "execution_count": 103,
      "outputs": []
    },
    {
      "cell_type": "code",
      "source": [
        "def search_matrix(matrix, target):\n",
        "    if not matrix or not matrix[0]:\n",
        "        return False\n",
        "\n",
        "    rows, cols = len(matrix), len(matrix[0])\n",
        "    low, high = 0, rows * cols - 1\n",
        "\n",
        "    while low <= high:\n",
        "        mid = (low + high) // 2\n",
        "        mid_value = matrix[mid // cols][mid % cols]\n",
        "\n",
        "        if mid_value == target:\n",
        "            return True\n",
        "        elif mid_value < target:\n",
        "            low = mid + 1\n",
        "        else:\n",
        "            high = mid - 1\n",
        "\n",
        "    return False\n",
        "\n",
        "# Example usage:\n",
        "# matrix = [[1, 3, 5, 7], [10, 11, 16, 20], [23, 30, 34, 60]]\n",
        "# target = 3\n",
        "# result = search_matrix(matrix, target)  # Output: True\n"
      ],
      "metadata": {
        "id": "h2jQCWYuLTDl"
      },
      "execution_count": 104,
      "outputs": []
    },
    {
      "cell_type": "code",
      "source": [
        "def find_median_sorted_arrays(nums1, nums2):\n",
        "    if len(nums1) > len(nums2):\n",
        "        nums1, nums2 = nums2, nums1\n",
        "\n",
        "    low, high = 0, len(nums1)\n",
        "    total_len = len(nums1) + len(nums2)\n",
        "    half_len = total_len // 2\n",
        "\n",
        "    while low <= high:\n",
        "        partition1 = (low + high) // 2\n",
        "        partition2 = half_len - partition1\n",
        "\n",
        "        max_left1 = float('-inf') if partition1 == 0 else nums1[partition1 - 1]\n",
        "        min_right1 = float('inf') if partition1 == len(nums1) else nums1[partition1]\n",
        "\n",
        "        max_left2 = float('-inf') if partition2 == 0 else nums2[partition2 - 1]\n",
        "        min_right2 = float('inf') if partition2 == len(nums2) else nums2[partition2]\n",
        "\n",
        "        if max_left1 <= min_right2 and max_left2 <= min_right1:\n",
        "            if total_len % 2 == 0:\n",
        "                return (max(max_left1, max_left2) + min(min_right1, min_right2)) / 2\n",
        "            else:\n",
        "                return max(max_left1, max_left2)\n",
        "        elif max_left1 > min_right2:\n",
        "            high = partition1 - 1\n",
        "        else:\n",
        "            low = partition1 + 1\n",
        "\n",
        "    return -1  # This should never be reached if inputs are valid\n",
        "\n",
        "# Example usage:\n",
        "# nums1 = [1, 3], nums2 = [2]\n",
        "# median = find_median_sorted_arrays(nums1, nums2)  # Output: 2.0\n"
      ],
      "metadata": {
        "id": "94VoIxR7LTHH"
      },
      "execution_count": 105,
      "outputs": []
    },
    {
      "cell_type": "code",
      "source": [
        "def next_greatest_letter(letters, target):\n",
        "    low, high = 0, len(letters) - 1\n",
        "    while low <= high:\n",
        "        mid = (low + high) // 2\n",
        "        if letters[mid] > target:\n",
        "            high = mid - 1\n",
        "        else:\n",
        "            low = mid + 1\n",
        "\n",
        "    return letters[low % len(letters)]\n",
        "\n",
        "# Example usage:\n",
        "# letters = ['c', 'f', 'j'], target = 'a'\n",
        "# result = next_greatest_letter(letters, target)  # Output: 'c'\n"
      ],
      "metadata": {
        "id": "H8aAP4uFMR0D"
      },
      "execution_count": 106,
      "outputs": []
    },
    {
      "cell_type": "code",
      "source": [
        "def sort_colors(nums):\n",
        "    low, mid, high = 0, 0, len(nums) - 1\n",
        "\n",
        "    while mid <= high:\n",
        "        if nums[mid] == 0:\n",
        "            nums[low], nums[mid] = nums[mid], nums[low]\n",
        "            low += 1\n",
        "            mid += 1\n",
        "        elif nums[mid] == 1:\n",
        "            mid += 1\n",
        "        else:\n",
        "            nums[mid], nums[high] = nums[high], nums[mid]\n",
        "            high -= 1\n",
        "\n",
        "# Example usage:\n",
        "# nums = [2, 0, 2, 1, 1, 0]\n",
        "# sort_colors(nums)  # Output: [0, 0, 1, 1, 2, 2]\n"
      ],
      "metadata": {
        "id": "JTpa4DdcMR-j"
      },
      "execution_count": 107,
      "outputs": []
    },
    {
      "cell_type": "code",
      "source": [
        "import heapq\n",
        "\n",
        "def find_kth_largest(nums, k):\n",
        "    return heapq.nlargest(k, nums)[-1]\n",
        "\n",
        "# Example usage:\n",
        "# nums = [3, 2, 1, 5, 6, 4], k = 2\n",
        "# result = find_kth_largest(nums, k)  # Output: 5\n"
      ],
      "metadata": {
        "id": "rEsbUPZ1MSHE"
      },
      "execution_count": 108,
      "outputs": []
    },
    {
      "cell_type": "code",
      "source": [
        "def wiggle_sort(nums):\n",
        "    for i in range(1, len(nums)):\n",
        "        if (i % 2 == 1 and nums[i] < nums[i - 1]) or (i % 2 == 0 and nums[i] > nums[i - 1]):\n",
        "            nums[i], nums[i - 1] = nums[i - 1], nums[i]\n",
        "\n",
        "# Example usage:\n",
        "# nums = [3, 5, 2, 1, 6, 4]\n",
        "# wiggle_sort(nums)  # Output: [3, 5, 1, 6, 2, 4]\n"
      ],
      "metadata": {
        "id": "Y4acaWFXMSO-"
      },
      "execution_count": 109,
      "outputs": []
    },
    {
      "cell_type": "code",
      "source": [
        "def array_sum(nums):\n",
        "    return sum(nums)\n",
        "\n",
        "# Example usage:\n",
        "# nums = [1, 2, 3, 4, 5]\n",
        "# result = array_sum(nums)  # Output: 15\n"
      ],
      "metadata": {
        "id": "CQnHgx86MSXC"
      },
      "execution_count": 110,
      "outputs": []
    },
    {
      "cell_type": "code",
      "source": [
        "def find_maximum(nums):\n",
        "    return max(nums)\n",
        "\n",
        "# Example usage:\n",
        "# nums = [3, 7, 2, 9, 4, 1]\n",
        "# result = find_maximum(nums)  # Output: 9\n"
      ],
      "metadata": {
        "id": "5MYdvpV2MSdx"
      },
      "execution_count": 111,
      "outputs": []
    },
    {
      "cell_type": "code",
      "source": [
        "def linear_search(nums, target):\n",
        "    for index, num in enumerate(nums):\n",
        "        if num == target:\n",
        "            return index\n",
        "    return -1  # Return -1 if the target is not found\n",
        "\n",
        "# Example usage:\n",
        "# nums = [5, 3, 8, 2, 7, 4], target = 8\n",
        "# result = linear_search(nums, target)  # Output: 2\n"
      ],
      "metadata": {
        "id": "KzmnjKASMSlb"
      },
      "execution_count": 112,
      "outputs": []
    },
    {
      "cell_type": "code",
      "source": [
        "def factorial(n):\n",
        "    if n == 0 or n == 1:\n",
        "        return 1\n",
        "    return n * factorial(n - 1)\n",
        "\n",
        "# Example usage:\n",
        "# n = 5\n",
        "# result = factorial(n)  # Output: 120\n"
      ],
      "metadata": {
        "id": "P6eRuIW8MSsq"
      },
      "execution_count": 113,
      "outputs": []
    },
    {
      "cell_type": "code",
      "source": [
        "def is_prime(n):\n",
        "    if n <= 1:\n",
        "        return False\n",
        "    for i in range(2, int(n**0.5) + 1):\n",
        "        if n % i == 0:\n",
        "            return False\n",
        "    return True\n",
        "\n",
        "# Example usage:\n",
        "# n = 7\n",
        "# result = is_prime(n)  # Output: True\n"
      ],
      "metadata": {
        "id": "YkMneQhpMS1R"
      },
      "execution_count": 114,
      "outputs": []
    },
    {
      "cell_type": "code",
      "source": [
        "def fibonacci(n):\n",
        "    fib_sequence = []\n",
        "    a, b = 0, 1\n",
        "    while a <= n:\n",
        "        fib_sequence.append(a)\n",
        "        a, b = b, a + b\n",
        "    return fib_sequence\n",
        "\n",
        "# Example usage:\n",
        "# n = 8\n",
        "# result = fibonacci(n)  # Output: [0, 1, 1, 2, 3, 5, 8]\n"
      ],
      "metadata": {
        "id": "1PkC4ep4MS8q"
      },
      "execution_count": 115,
      "outputs": []
    },
    {
      "cell_type": "code",
      "source": [
        "def power(base, exponent):\n",
        "    if exponent == 0:\n",
        "        return 1\n",
        "    return base * power(base, exponent - 1)\n",
        "\n",
        "# Example usage:\n",
        "# base = 3, exponent = 4\n",
        "# result = power(base, exponent)  # Output: 81\n"
      ],
      "metadata": {
        "id": "b4J5hn6gMzS7"
      },
      "execution_count": 116,
      "outputs": []
    },
    {
      "cell_type": "code",
      "source": [
        "def reverse_string(s):\n",
        "    return s[::-1]\n",
        "\n",
        "# Example usage:\n",
        "# s = \"hello\"\n",
        "# result = reverse_string(s)  # Output: \"olleh\"\n"
      ],
      "metadata": {
        "id": "nU1CohYRMzaw"
      },
      "execution_count": 117,
      "outputs": []
    }
  ]
}