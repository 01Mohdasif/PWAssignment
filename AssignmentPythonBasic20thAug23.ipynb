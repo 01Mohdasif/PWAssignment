{
  "nbformat": 4,
  "nbformat_minor": 0,
  "metadata": {
    "colab": {
      "provenance": [],
      "toc_visible": true
    },
    "kernelspec": {
      "name": "python3",
      "display_name": "Python 3"
    },
    "language_info": {
      "name": "python"
    }
  },
  "cells": [
    {
      "cell_type": "markdown",
      "source": [
        "**TOPIC: String Based Assignment Problem**"
      ],
      "metadata": {
        "id": "RTT0pOu4KrDD"
      }
    },
    {
      "cell_type": "code",
      "source": [
        "# Question 1 - Write a program to reverse a string.\n",
        "def reverse_string(s):\n",
        "    return s[::-1]\n",
        "\n",
        "\n",
        "s = \"Hello\"\n",
        "print(reverse_string(s))\n"
      ],
      "metadata": {
        "colab": {
          "base_uri": "https://localhost:8080/"
        },
        "id": "5D-euqC5Kw4j",
        "outputId": "0bca75fd-1c55-4ebe-ee1c-e70e74e0a9ef"
      },
      "execution_count": 2,
      "outputs": [
        {
          "output_type": "stream",
          "name": "stdout",
          "text": [
            "olleH\n"
          ]
        }
      ]
    },
    {
      "cell_type": "code",
      "source": [
        "# Question 2 - Check if a string is a palindrome.\n",
        "def is_palindrome(s):\n",
        "    return s == s[::-1]\n",
        "\n",
        "\n",
        "s = \"madam\"\n",
        "print(is_palindrome(s))\n"
      ],
      "metadata": {
        "colab": {
          "base_uri": "https://localhost:8080/"
        },
        "id": "n6pMgFj8KyP0",
        "outputId": "2c592605-1d83-461a-99c7-57e507d0efae"
      },
      "execution_count": 3,
      "outputs": [
        {
          "output_type": "stream",
          "name": "stdout",
          "text": [
            "True\n"
          ]
        }
      ]
    },
    {
      "cell_type": "code",
      "source": [
        "# Question 3 - Convert a string to uppercase.\n",
        "def to_uppercase(s):\n",
        "    return s.upper()\n",
        "\n",
        "\n",
        "s = \"hello\"\n",
        "print(to_uppercase(s))\n"
      ],
      "metadata": {
        "colab": {
          "base_uri": "https://localhost:8080/"
        },
        "id": "nXPLQUKeKydt",
        "outputId": "0a8e12d7-9759-4b0a-e6bd-c83264b91d58"
      },
      "execution_count": 4,
      "outputs": [
        {
          "output_type": "stream",
          "name": "stdout",
          "text": [
            "HELLO\n"
          ]
        }
      ]
    },
    {
      "cell_type": "code",
      "source": [
        "# Question 4 - Convert a string to lowercase.\n",
        "def to_lowercase(s):\n",
        "    return s.lower()\n",
        "\n",
        "\n",
        "s = \"HELLO\"\n",
        "print(to_lowercase(s))\n"
      ],
      "metadata": {
        "colab": {
          "base_uri": "https://localhost:8080/"
        },
        "id": "QvcbaH2YKyoS",
        "outputId": "1a57533f-ca87-4a79-9616-d51b2d44403b"
      },
      "execution_count": 5,
      "outputs": [
        {
          "output_type": "stream",
          "name": "stdout",
          "text": [
            "hello\n"
          ]
        }
      ]
    },
    {
      "cell_type": "code",
      "source": [
        "# Question 5 - Count the number of vowels in a string.\n",
        "def count_vowels(s):\n",
        "    vowels = \"aeiouAEIOU\"\n",
        "    return sum(1 for char in s if char in vowels)\n",
        "\n",
        "\n",
        "s = \"Hello World\"\n",
        "print(count_vowels(s))\n"
      ],
      "metadata": {
        "colab": {
          "base_uri": "https://localhost:8080/"
        },
        "id": "VVZL8SFEKywK",
        "outputId": "1c844bde-0bd3-42c4-eb93-f85ed6bef9f2"
      },
      "execution_count": 6,
      "outputs": [
        {
          "output_type": "stream",
          "name": "stdout",
          "text": [
            "3\n"
          ]
        }
      ]
    },
    {
      "cell_type": "code",
      "source": [
        "# Question 6 - Count the number of consonants in a string.\n",
        "def count_consonants(s):\n",
        "    vowels = \"aeiouAEIOU\"\n",
        "    return sum(1 for char in s if char.isalpha() and char not in vowels)\n",
        "\n",
        "\n",
        "s = \"Hello World\"\n",
        "print(count_consonants(s))\n"
      ],
      "metadata": {
        "colab": {
          "base_uri": "https://localhost:8080/"
        },
        "id": "65aG84bPKy2p",
        "outputId": "a48bb1b3-d003-4ff1-e028-80aaed05f007"
      },
      "execution_count": 7,
      "outputs": [
        {
          "output_type": "stream",
          "name": "stdout",
          "text": [
            "7\n"
          ]
        }
      ]
    },
    {
      "cell_type": "code",
      "source": [
        "# Question 7 - Remove all whitespaces from a string.\n",
        "def remove_whitespaces(s):\n",
        "    return s.replace(\" \", \"\")\n",
        "\n",
        "\n",
        "s = \"Hello World\"\n",
        "print(remove_whitespaces(s))\n"
      ],
      "metadata": {
        "colab": {
          "base_uri": "https://localhost:8080/"
        },
        "id": "z3gt24qMKy8p",
        "outputId": "0aef10a5-abe0-480e-c59a-4f80ab6dfd5f"
      },
      "execution_count": 8,
      "outputs": [
        {
          "output_type": "stream",
          "name": "stdout",
          "text": [
            "HelloWorld\n"
          ]
        }
      ]
    },
    {
      "cell_type": "code",
      "source": [
        "# Question 8 - Find the length of a string without using the `len()` function.\n",
        "def string_length(s):\n",
        "    count = 0\n",
        "    for char in s:\n",
        "        count += 1\n",
        "    return count\n",
        "\n",
        "\n",
        "s = \"Mohd Asif\"\n",
        "print(string_length(s))\n"
      ],
      "metadata": {
        "colab": {
          "base_uri": "https://localhost:8080/"
        },
        "id": "9Y8vfiabKzCr",
        "outputId": "9ee3800f-e002-487e-e582-b0f1666500f0"
      },
      "execution_count": 9,
      "outputs": [
        {
          "output_type": "stream",
          "name": "stdout",
          "text": [
            "9\n"
          ]
        }
      ]
    },
    {
      "cell_type": "code",
      "source": [
        "# Question 9 - Check if a string contains a specific word.\n",
        "def contains_word(s, word):\n",
        "    return word in s\n",
        "\n",
        "\n",
        "s = \"Hello World\"\n",
        "word = \"World\"\n",
        "print(contains_word(s, word))\n"
      ],
      "metadata": {
        "colab": {
          "base_uri": "https://localhost:8080/"
        },
        "id": "J4zCi0XGKzH8",
        "outputId": "9cf00fc9-a5a1-4926-ffac-bee2b5df788e"
      },
      "execution_count": 10,
      "outputs": [
        {
          "output_type": "stream",
          "name": "stdout",
          "text": [
            "True\n"
          ]
        }
      ]
    },
    {
      "cell_type": "code",
      "source": [
        "# Question 10 - Replace a word in a string with another word.\n",
        "def replace_word(s, old_word, new_word):\n",
        "    return s.replace(old_word, new_word)\n",
        "\n",
        "\n",
        "s = \"Hello World\"\n",
        "print(replace_word(s, \"World\", \"Python\"))\n"
      ],
      "metadata": {
        "colab": {
          "base_uri": "https://localhost:8080/"
        },
        "id": "p7KZYEKUKzNl",
        "outputId": "6790da20-4d3a-47a1-986a-3b76ac43ab9b"
      },
      "execution_count": 11,
      "outputs": [
        {
          "output_type": "stream",
          "name": "stdout",
          "text": [
            "Hello Python\n"
          ]
        }
      ]
    },
    {
      "cell_type": "code",
      "source": [
        "# Question 11 - Count the occurrences of a word in a string.\n",
        "def count_word_occurrences(s, word):\n",
        "    return s.split().count(word)\n",
        "\n",
        "\n",
        "s = \"Hello world, hello again\"\n",
        "print(count_word_occurrences(s, \"hello\"))\n"
      ],
      "metadata": {
        "colab": {
          "base_uri": "https://localhost:8080/"
        },
        "id": "ZmQQbZX-KzTw",
        "outputId": "83ed9b01-77d7-4a70-ba39-1a677e520bbf"
      },
      "execution_count": 12,
      "outputs": [
        {
          "output_type": "stream",
          "name": "stdout",
          "text": [
            "1\n"
          ]
        }
      ]
    },
    {
      "cell_type": "code",
      "source": [
        "# Question 12 - Find the first occurrence of a word in a string.\n",
        "def first_occurrence(s, word):\n",
        "    return s.find(word)\n",
        "\n",
        "\n",
        "s = \"Hello world\"\n",
        "print(first_occurrence(s, \"world\"))\n"
      ],
      "metadata": {
        "colab": {
          "base_uri": "https://localhost:8080/"
        },
        "id": "cFLg2B_zKzVy",
        "outputId": "2ea74dcf-7f4d-4d6c-c406-fb1a895d951d"
      },
      "execution_count": 13,
      "outputs": [
        {
          "output_type": "stream",
          "name": "stdout",
          "text": [
            "6\n"
          ]
        }
      ]
    },
    {
      "cell_type": "code",
      "source": [
        "# Question 13 - Find the last occurrence of a word in a string.\n",
        "def last_occurrence(s, word):\n",
        "    return s.rfind(word)\n",
        "\n",
        "\n",
        "s = \"Hello world, hello again\"\n",
        "print(last_occurrence(s, \"hello\"))\n"
      ],
      "metadata": {
        "colab": {
          "base_uri": "https://localhost:8080/"
        },
        "id": "w0hj-foTKzZm",
        "outputId": "5efb97ad-05a8-4065-8c10-404bbc19faba"
      },
      "execution_count": 14,
      "outputs": [
        {
          "output_type": "stream",
          "name": "stdout",
          "text": [
            "13\n"
          ]
        }
      ]
    },
    {
      "cell_type": "code",
      "source": [
        "# Question 14 - Split a string into a list of words.\n",
        "def split_string(s):\n",
        "    return s.split()\n",
        "\n",
        "\n",
        "s = \"Hello world\"\n",
        "print(split_string(s))\n"
      ],
      "metadata": {
        "colab": {
          "base_uri": "https://localhost:8080/"
        },
        "id": "_FnNtKZRKze5",
        "outputId": "3a000e75-1961-4017-d27e-710405f1365b"
      },
      "execution_count": 15,
      "outputs": [
        {
          "output_type": "stream",
          "name": "stdout",
          "text": [
            "['Hello', 'world']\n"
          ]
        }
      ]
    },
    {
      "cell_type": "code",
      "source": [
        "# Question 15 - Join a list of words into a string.\n",
        "def join_words(word_list):\n",
        "    return \" \".join(word_list)\n",
        "\n",
        "\n",
        "word_list = [\"Hello\", \"world\"]\n",
        "print(join_words(word_list))\n"
      ],
      "metadata": {
        "colab": {
          "base_uri": "https://localhost:8080/"
        },
        "id": "B6tSqM9EKzju",
        "outputId": "b25d701e-12d9-41c6-f88e-694cbc6ffdbe"
      },
      "execution_count": 16,
      "outputs": [
        {
          "output_type": "stream",
          "name": "stdout",
          "text": [
            "Hello world\n"
          ]
        }
      ]
    },
    {
      "cell_type": "code",
      "source": [
        "# Question 16 - Convert a string where words are separated by spaces to one where words are separated by underscores.\n",
        "def replace_spaces_with_underscores(s):\n",
        "    return s.replace(\" \", \"_\")\n",
        "\n",
        "\n",
        "s = \"Hello World\"\n",
        "print(replace_spaces_with_underscores(s))\n"
      ],
      "metadata": {
        "colab": {
          "base_uri": "https://localhost:8080/"
        },
        "id": "c8Wy6WElKzoI",
        "outputId": "abcae0f0-5f1d-412f-ff01-b7b7b2df088a"
      },
      "execution_count": 17,
      "outputs": [
        {
          "output_type": "stream",
          "name": "stdout",
          "text": [
            "Hello_World\n"
          ]
        }
      ]
    },
    {
      "cell_type": "code",
      "source": [
        "# Question 17 - Check if a string starts with a specific word or phrase.\n",
        "def starts_with(s, prefix):\n",
        "    return s.startswith(prefix)\n",
        "\n",
        "\n",
        "s = \"Hello World\"\n",
        "print(starts_with(s, \"Hello\"))\n"
      ],
      "metadata": {
        "colab": {
          "base_uri": "https://localhost:8080/"
        },
        "id": "wCWQlVktKzs0",
        "outputId": "b45f522b-1eae-43c9-8926-e7a1cfafed54"
      },
      "execution_count": 18,
      "outputs": [
        {
          "output_type": "stream",
          "name": "stdout",
          "text": [
            "True\n"
          ]
        }
      ]
    },
    {
      "cell_type": "code",
      "source": [
        "# Question 18 - Check if a string ends with a specific word or phrase.\n",
        "def ends_with(s, suffix):\n",
        "    return s.endswith(suffix)\n",
        "\n",
        "\n",
        "s = \"Hello World\"\n",
        "print(ends_with(s, \"World\"))\n"
      ],
      "metadata": {
        "colab": {
          "base_uri": "https://localhost:8080/"
        },
        "id": "TiFEyLXoKzx3",
        "outputId": "3bde75ae-32f9-42cd-f8af-bb861ba773e8"
      },
      "execution_count": 19,
      "outputs": [
        {
          "output_type": "stream",
          "name": "stdout",
          "text": [
            "True\n"
          ]
        }
      ]
    },
    {
      "cell_type": "code",
      "source": [
        "# Question 19 - Convert a string to title case.\n",
        "def to_title_case(s):\n",
        "    return s.title()\n",
        "\n",
        "\n",
        "s = \"hello world\"\n",
        "print(to_title_case(s))\n"
      ],
      "metadata": {
        "colab": {
          "base_uri": "https://localhost:8080/"
        },
        "id": "p9J90grcKz2y",
        "outputId": "fed7be4c-6ace-47fd-e85d-d40a6d16c7a2"
      },
      "execution_count": 20,
      "outputs": [
        {
          "output_type": "stream",
          "name": "stdout",
          "text": [
            "Hello World\n"
          ]
        }
      ]
    },
    {
      "cell_type": "code",
      "source": [
        "# Question 20 - Find the longest word in a string.\n",
        "def longest_word(s):\n",
        "    words = s.split()\n",
        "    return max(words, key=len)\n",
        "\n",
        "\n",
        "s = \"The quick brown fox\"\n",
        "print(longest_word(s))\n"
      ],
      "metadata": {
        "colab": {
          "base_uri": "https://localhost:8080/"
        },
        "id": "OQ2hK53SKz8J",
        "outputId": "db8c1cbb-1da3-4264-95f8-d8a3678d7257"
      },
      "execution_count": 21,
      "outputs": [
        {
          "output_type": "stream",
          "name": "stdout",
          "text": [
            "quick\n"
          ]
        }
      ]
    },
    {
      "cell_type": "code",
      "source": [
        "# Question 21 - Find the shortest word in a string.\n",
        "def shortest_word(s):\n",
        "    words = s.split()\n",
        "    return min(words, key=len)\n",
        "\n",
        "\n",
        "s = \"The quick brown fox\"\n",
        "print(shortest_word(s))\n"
      ],
      "metadata": {
        "colab": {
          "base_uri": "https://localhost:8080/"
        },
        "id": "m68hTe5DK0A8",
        "outputId": "3b9fbea6-931f-4992-aa4c-d61ea29430b6"
      },
      "execution_count": 22,
      "outputs": [
        {
          "output_type": "stream",
          "name": "stdout",
          "text": [
            "The\n"
          ]
        }
      ]
    },
    {
      "cell_type": "code",
      "source": [
        "# Question 22 - Reverse the order of words in a string.\n",
        "def reverse_words(s):\n",
        "    words = s.split()\n",
        "    return \" \".join(reversed(words))\n",
        "\n",
        "\n",
        "s = \"The quick brown fox\"\n",
        "print(reverse_words(s))\n"
      ],
      "metadata": {
        "colab": {
          "base_uri": "https://localhost:8080/"
        },
        "id": "cCRYQ29JK0Ft",
        "outputId": "0e005f58-caa1-4d86-d841-b58ce4b2150a"
      },
      "execution_count": 23,
      "outputs": [
        {
          "output_type": "stream",
          "name": "stdout",
          "text": [
            "fox brown quick The\n"
          ]
        }
      ]
    },
    {
      "cell_type": "code",
      "source": [
        "# Question 23 - Check if a string is alphanumeric.\n",
        "def is_alphanumeric(s):\n",
        "    return s.isalnum()\n",
        "\n",
        "\n",
        "s = \"Hello123\"\n",
        "print(is_alphanumeric(s))\n"
      ],
      "metadata": {
        "colab": {
          "base_uri": "https://localhost:8080/"
        },
        "id": "ZKc9WXmVK0Ki",
        "outputId": "1a4ec670-ba0f-4186-cc31-5cfd9ee6a834"
      },
      "execution_count": 24,
      "outputs": [
        {
          "output_type": "stream",
          "name": "stdout",
          "text": [
            "True\n"
          ]
        }
      ]
    },
    {
      "cell_type": "code",
      "source": [
        "# Question 24 - Extract all digits from a string.\n",
        "def extract_digits(s):\n",
        "    return \"\".join([char for char in s if char.isdigit()])\n",
        "\n",
        "\n",
        "s = \"Hello 123 World 456\"\n",
        "print(extract_digits(s))\n"
      ],
      "metadata": {
        "colab": {
          "base_uri": "https://localhost:8080/"
        },
        "id": "it9kyLRIK0PP",
        "outputId": "56bca537-469e-4bcf-b3bc-4176e0f1b369"
      },
      "execution_count": 25,
      "outputs": [
        {
          "output_type": "stream",
          "name": "stdout",
          "text": [
            "123456\n"
          ]
        }
      ]
    },
    {
      "cell_type": "code",
      "source": [
        "# Question 25 - Extract all alphabets from a string.\n",
        "def extract_alphabets(s):\n",
        "    return \"\".join([char for char in s if char.isalpha()])\n",
        "\n",
        "\n",
        "s = \"Hello 123 World\"\n",
        "print(extract_alphabets(s))\n"
      ],
      "metadata": {
        "colab": {
          "base_uri": "https://localhost:8080/"
        },
        "id": "OXgd1Ca_K0Uo",
        "outputId": "e195883e-3c53-462d-b1e7-2a8e51c4184e"
      },
      "execution_count": 26,
      "outputs": [
        {
          "output_type": "stream",
          "name": "stdout",
          "text": [
            "HelloWorld\n"
          ]
        }
      ]
    },
    {
      "cell_type": "code",
      "source": [
        "# Question 26 - Count the number of uppercase letters in a string.\n",
        "def count_uppercase(s):\n",
        "    return sum(1 for char in s if char.isupper())\n",
        "\n",
        "\n",
        "s = \"Hello World\"\n",
        "print(count_uppercase(s))\n"
      ],
      "metadata": {
        "colab": {
          "base_uri": "https://localhost:8080/"
        },
        "id": "Fl4qIgyoK0Z9",
        "outputId": "f6ba3ef9-b700-4163-efb3-18b50d994b27"
      },
      "execution_count": 27,
      "outputs": [
        {
          "output_type": "stream",
          "name": "stdout",
          "text": [
            "2\n"
          ]
        }
      ]
    },
    {
      "cell_type": "code",
      "source": [
        "# Question 27 - Count the number of lowercase letters in a string.\n",
        "def count_lowercase(s):\n",
        "    return sum(1 for char in s if char.islower())\n",
        "\n",
        "\n",
        "s = \"Hello World\"\n",
        "print(count_lowercase(s))\n"
      ],
      "metadata": {
        "colab": {
          "base_uri": "https://localhost:8080/"
        },
        "id": "CHR6AEJvK0fo",
        "outputId": "39616475-b6cd-4fd4-8c06-98c5b17a1b6e"
      },
      "execution_count": 28,
      "outputs": [
        {
          "output_type": "stream",
          "name": "stdout",
          "text": [
            "8\n"
          ]
        }
      ]
    },
    {
      "cell_type": "code",
      "source": [
        "# Question 28 - Swap the case of each character in a string.\n",
        "def swap_case(s):\n",
        "    return s.swapcase()\n",
        "\n",
        "\n",
        "s = \"Hello World\"\n",
        "print(swap_case(s))\n"
      ],
      "metadata": {
        "colab": {
          "base_uri": "https://localhost:8080/"
        },
        "id": "MTE6hFIMK0lE",
        "outputId": "ab373d3c-a02d-4d50-b458-577e56c8ef89"
      },
      "execution_count": 29,
      "outputs": [
        {
          "output_type": "stream",
          "name": "stdout",
          "text": [
            "hELLO wORLD\n"
          ]
        }
      ]
    },
    {
      "cell_type": "code",
      "source": [
        "# Question 29 - Remove a specific word from a string.\n",
        "def remove_word(s, word):\n",
        "    return s.replace(word, \"\")\n",
        "\n",
        "\n",
        "s = \"Hello World\"\n",
        "print(remove_word(s, \"World\"))\n"
      ],
      "metadata": {
        "colab": {
          "base_uri": "https://localhost:8080/"
        },
        "id": "zE030TgNK0qW",
        "outputId": "273530a1-c325-4c39-9d28-39754a50b243"
      },
      "execution_count": 30,
      "outputs": [
        {
          "output_type": "stream",
          "name": "stdout",
          "text": [
            "Hello \n"
          ]
        }
      ]
    },
    {
      "cell_type": "code",
      "source": [
        "# Question 30 - Check if a string is a valid email address.\n",
        "import re\n",
        "\n",
        "def is_valid_email(s):\n",
        "    regex = r'^[a-zA-Z0-9_.+-]+@[a-zA-Z0-9-]+\\.[a-zA-Z0-9-.]+$'\n",
        "    return bool(re.match(regex, s))\n",
        "\n",
        "\n",
        "s = \"01mohdasif03@gmail.com\"\n",
        "print(is_valid_email(s))\n"
      ],
      "metadata": {
        "colab": {
          "base_uri": "https://localhost:8080/"
        },
        "id": "7gr-JzNiK0v0",
        "outputId": "8277c71e-f41c-42ec-f6b9-23be2b6e4155"
      },
      "execution_count": 31,
      "outputs": [
        {
          "output_type": "stream",
          "name": "stdout",
          "text": [
            "True\n"
          ]
        }
      ]
    },
    {
      "cell_type": "code",
      "source": [
        "# Question 31 - Extract the username from an email address string.\n",
        "def extract_username(email):\n",
        "    return email.split('@')[0]\n",
        "\n",
        "\n",
        "email = \"01mohdasif03@gmail.com\"\n",
        "print(extract_username(email))\n"
      ],
      "metadata": {
        "colab": {
          "base_uri": "https://localhost:8080/"
        },
        "id": "ri6ZDdDMK01K",
        "outputId": "7d830c8e-4444-461f-deda-d3b250c3f644"
      },
      "execution_count": 32,
      "outputs": [
        {
          "output_type": "stream",
          "name": "stdout",
          "text": [
            "01mohdasif03\n"
          ]
        }
      ]
    },
    {
      "cell_type": "code",
      "source": [
        "# Question 32 - Extract the domain name from an email address string.\n",
        "def extract_domain(email):\n",
        "    return email.split('@')[1]\n",
        "\n",
        "\n",
        "email = \"01mohdasif03@gmail.com\"\n",
        "print(extract_domain(email))\n"
      ],
      "metadata": {
        "colab": {
          "base_uri": "https://localhost:8080/"
        },
        "id": "2YjPzV_mK07A",
        "outputId": "26f5d67c-9c00-4ca7-bc74-1d0c8eb186f3"
      },
      "execution_count": 33,
      "outputs": [
        {
          "output_type": "stream",
          "name": "stdout",
          "text": [
            "gmail.com\n"
          ]
        }
      ]
    },
    {
      "cell_type": "code",
      "source": [
        "# Question 33 - Replace multiple spaces in a string with a single space.\n",
        "import re\n",
        "\n",
        "def replace_multiple_spaces(s):\n",
        "    return re.sub(' +', ' ', s)\n",
        "\n",
        "\n",
        "s = \"Hello    World    Python\"\n",
        "print(replace_multiple_spaces(s))\n"
      ],
      "metadata": {
        "colab": {
          "base_uri": "https://localhost:8080/"
        },
        "id": "ZIJj43HiK1Am",
        "outputId": "d5a9d164-5642-4cc2-cdb9-3bb61d564d45"
      },
      "execution_count": 34,
      "outputs": [
        {
          "output_type": "stream",
          "name": "stdout",
          "text": [
            "Hello World Python\n"
          ]
        }
      ]
    },
    {
      "cell_type": "code",
      "source": [
        "# Question 34 - Check if a string is a valid URL.\n",
        "import re\n",
        "\n",
        "def is_valid_url(s):\n",
        "    regex = r'^(https?|ftp)://[^\\s/$.?#].[^\\s]*$'\n",
        "    return bool(re.match(regex, s))\n",
        "\n",
        "\n",
        "s = \"https://example.com\"\n",
        "print(is_valid_url(s))\n"
      ],
      "metadata": {
        "colab": {
          "base_uri": "https://localhost:8080/"
        },
        "id": "GxSd6Q5aK1Ft",
        "outputId": "7cc182d4-794b-4cdd-cfce-13f7c6b60535"
      },
      "execution_count": 35,
      "outputs": [
        {
          "output_type": "stream",
          "name": "stdout",
          "text": [
            "True\n"
          ]
        }
      ]
    },
    {
      "cell_type": "code",
      "source": [
        "# Question 35 - Extract the protocol (http or https) from a URL string.\n",
        "def extract_protocol(url):\n",
        "    return url.split(\"://\")[0]\n",
        "\n",
        "\n",
        "url = \"https://example.com\"\n",
        "print(extract_protocol(url))\n"
      ],
      "metadata": {
        "colab": {
          "base_uri": "https://localhost:8080/"
        },
        "id": "QNUODgeyK1LJ",
        "outputId": "ab1d2cd2-677b-46b9-d4d5-83c691d1677a"
      },
      "execution_count": 36,
      "outputs": [
        {
          "output_type": "stream",
          "name": "stdout",
          "text": [
            "https\n"
          ]
        }
      ]
    },
    {
      "cell_type": "code",
      "source": [
        "# Question 36 - Find the frequency of each character in a string.\n",
        "from collections import Counter\n",
        "\n",
        "def char_frequency(s):\n",
        "    return dict(Counter(s))\n",
        "\n",
        "\n",
        "s = \"hello\"\n",
        "print(char_frequency(s))\n"
      ],
      "metadata": {
        "colab": {
          "base_uri": "https://localhost:8080/"
        },
        "id": "Zg9UwJbzK1QW",
        "outputId": "804f2f14-07dc-434f-b709-a3f185a7a97d"
      },
      "execution_count": 37,
      "outputs": [
        {
          "output_type": "stream",
          "name": "stdout",
          "text": [
            "{'h': 1, 'e': 1, 'l': 2, 'o': 1}\n"
          ]
        }
      ]
    },
    {
      "cell_type": "code",
      "source": [
        "# Question 37 - Remove all punctuation from a string.\n",
        "import string\n",
        "\n",
        "def remove_punctuation(s):\n",
        "    return s.translate(str.maketrans(\"\", \"\", string.punctuation))\n",
        "\n",
        "\n",
        "s = \"Hello, world!\"\n",
        "print(remove_punctuation(s))\n"
      ],
      "metadata": {
        "colab": {
          "base_uri": "https://localhost:8080/"
        },
        "id": "LUB75F3sK1Vk",
        "outputId": "0f32b8e0-6ecb-47fb-e0e5-53696214de01"
      },
      "execution_count": 38,
      "outputs": [
        {
          "output_type": "stream",
          "name": "stdout",
          "text": [
            "Hello world\n"
          ]
        }
      ]
    },
    {
      "cell_type": "code",
      "source": [
        "# Question 38 - Check if a string contains only digits.\n",
        "def is_digits(s):\n",
        "    return s.isdigit()\n",
        "\n",
        "\n",
        "s = \"12345\"\n",
        "print(is_digits(s))\n"
      ],
      "metadata": {
        "colab": {
          "base_uri": "https://localhost:8080/"
        },
        "id": "uCixYVsDK1bB",
        "outputId": "22310956-c215-4727-f268-744ff3bb4b0f"
      },
      "execution_count": 39,
      "outputs": [
        {
          "output_type": "stream",
          "name": "stdout",
          "text": [
            "True\n"
          ]
        }
      ]
    },
    {
      "cell_type": "code",
      "source": [
        "# Question 39 - Check if a string contains only alphabets.\n",
        "def is_alpha(s):\n",
        "    return s.isalpha()\n",
        "\n",
        "\n",
        "s = \"Hello\"\n",
        "print(is_alpha(s))\n"
      ],
      "metadata": {
        "colab": {
          "base_uri": "https://localhost:8080/"
        },
        "id": "tkmBDYQAK1gd",
        "outputId": "dbc84b0b-b52d-4a1d-df50-5350c5d6eaee"
      },
      "execution_count": 40,
      "outputs": [
        {
          "output_type": "stream",
          "name": "stdout",
          "text": [
            "True\n"
          ]
        }
      ]
    },
    {
      "cell_type": "code",
      "source": [
        "# Question 40 - Convert a string to a list of characters.\n",
        "def string_to_list(s):\n",
        "    return list(s)\n",
        "\n",
        "\n",
        "s = \"Hello\"\n",
        "print(string_to_list(s))\n"
      ],
      "metadata": {
        "colab": {
          "base_uri": "https://localhost:8080/"
        },
        "id": "hOblMK-FK1lu",
        "outputId": "3df72981-7349-4a80-bc58-a2df38463f64"
      },
      "execution_count": 41,
      "outputs": [
        {
          "output_type": "stream",
          "name": "stdout",
          "text": [
            "['H', 'e', 'l', 'l', 'o']\n"
          ]
        }
      ]
    },
    {
      "cell_type": "code",
      "source": [
        "# Question 41 - Check if two strings are anagrams.\n",
        "def are_anagrams(s1, s2):\n",
        "    return sorted(s1) == sorted(s2)\n",
        "\n",
        "\n",
        "s1 = \"listen\"\n",
        "s2 = \"silent\"\n",
        "print(are_anagrams(s1, s2))\n"
      ],
      "metadata": {
        "colab": {
          "base_uri": "https://localhost:8080/"
        },
        "id": "fSDDIHA-K1q4",
        "outputId": "dc4d7032-dce5-4412-ab24-5de1e642d745"
      },
      "execution_count": 42,
      "outputs": [
        {
          "output_type": "stream",
          "name": "stdout",
          "text": [
            "True\n"
          ]
        }
      ]
    },
    {
      "cell_type": "code",
      "source": [
        "# Question 42 - Encode a string using a Caesar cipher.\n",
        "def caesar_cipher(s, shift):\n",
        "    result = \"\"\n",
        "    for char in s:\n",
        "        if char.isalpha():\n",
        "            shift_base = 65 if char.isupper() else 97\n",
        "            result += chr((ord(char) - shift_base + shift) % 26 + shift_base)\n",
        "        else:\n",
        "            result += char\n",
        "    return result\n",
        "\n",
        "\n",
        "s = \"Hello\"\n",
        "shift = 3\n",
        "print(caesar_cipher(s, shift))\n"
      ],
      "metadata": {
        "colab": {
          "base_uri": "https://localhost:8080/"
        },
        "id": "Jt9MrerXK1w4",
        "outputId": "e82943f2-f348-4e1f-f5c5-d9847fb7e84b"
      },
      "execution_count": 43,
      "outputs": [
        {
          "output_type": "stream",
          "name": "stdout",
          "text": [
            "Khoor\n"
          ]
        }
      ]
    },
    {
      "cell_type": "code",
      "source": [
        "# Question 43 - Decode a Caesar cipher encoded string.\n",
        "def decode_caesar_cipher(s, shift):\n",
        "    return caesar_cipher(s, -shift)\n",
        "\n",
        "\n",
        "s = \"Khoor\"\n",
        "shift = 3\n",
        "print(decode_caesar_cipher(s, shift))\n"
      ],
      "metadata": {
        "colab": {
          "base_uri": "https://localhost:8080/"
        },
        "id": "vZjKxXU3K121",
        "outputId": "17861e2d-c15b-473f-f394-c40180bc4cb4"
      },
      "execution_count": 44,
      "outputs": [
        {
          "output_type": "stream",
          "name": "stdout",
          "text": [
            "Hello\n"
          ]
        }
      ]
    },
    {
      "cell_type": "code",
      "source": [
        "# Question 44 - Find the most frequent word in a string.\n",
        "from collections import Counter\n",
        "\n",
        "def most_frequent_word(s):\n",
        "    words = s.split()\n",
        "    return Counter(words).most_common(1)[0][0]\n",
        "\n",
        "\n",
        "s = \"hello world hello\"\n",
        "print(most_frequent_word(s))\n"
      ],
      "metadata": {
        "colab": {
          "base_uri": "https://localhost:8080/"
        },
        "id": "w_qcRZD6K18z",
        "outputId": "28c3f685-b1f4-409e-aff5-7c27ac43c2d7"
      },
      "execution_count": 45,
      "outputs": [
        {
          "output_type": "stream",
          "name": "stdout",
          "text": [
            "hello\n"
          ]
        }
      ]
    },
    {
      "cell_type": "code",
      "source": [
        "# Question 45 - Find all unique words in a string.\n",
        "def unique_words(s):\n",
        "    words = s.split()\n",
        "    return list(set(words))\n",
        "\n",
        "\n",
        "s = \"hello world hello again\"\n",
        "print(unique_words(s))\n"
      ],
      "metadata": {
        "colab": {
          "base_uri": "https://localhost:8080/"
        },
        "id": "INkX8XqHK2DG",
        "outputId": "c09baaef-1fe3-4153-f2a1-9f36d65c05d7"
      },
      "execution_count": 46,
      "outputs": [
        {
          "output_type": "stream",
          "name": "stdout",
          "text": [
            "['again', 'hello', 'world']\n"
          ]
        }
      ]
    },
    {
      "cell_type": "code",
      "source": [
        "# Question 46 - Count the number of syllables in a string.\n",
        "import re\n",
        "\n",
        "def count_syllables(s):\n",
        "    return len(re.findall(r'[aeiouAEIOU]+', s))\n",
        "\n",
        "\n",
        "s = \"hello world\"\n",
        "print(count_syllables(s))\n"
      ],
      "metadata": {
        "colab": {
          "base_uri": "https://localhost:8080/"
        },
        "id": "lkwTuV9BK2I8",
        "outputId": "163d324c-0421-44f1-befb-c61947c45d3a"
      },
      "execution_count": 47,
      "outputs": [
        {
          "output_type": "stream",
          "name": "stdout",
          "text": [
            "3\n"
          ]
        }
      ]
    },
    {
      "cell_type": "code",
      "source": [
        "# Question 47 - Check if a string contains any special characters.\n",
        "import re\n",
        "\n",
        "def contains_special_chars(s):\n",
        "    return bool(re.search(r'[^a-zA-Z0-9\\s]', s))\n",
        "\n",
        "\n",
        "s = \"Hello@world\"\n",
        "print(contains_special_chars(s))\n"
      ],
      "metadata": {
        "colab": {
          "base_uri": "https://localhost:8080/"
        },
        "id": "PBUBbteqK2O-",
        "outputId": "3a2bbcde-4866-49c0-84af-84417051c765"
      },
      "execution_count": 48,
      "outputs": [
        {
          "output_type": "stream",
          "name": "stdout",
          "text": [
            "True\n"
          ]
        }
      ]
    },
    {
      "cell_type": "code",
      "source": [
        "# Question 48 - Remove the nth word from a string.\n",
        "def remove_nth_word(s, n):\n",
        "    words = s.split()\n",
        "    if 0 < n <= len(words):\n",
        "        del words[n-1]\n",
        "    return \" \".join(words)\n",
        "\n",
        "\n",
        "s = \"The quick brown fox\"\n",
        "n = 2\n",
        "print(remove_nth_word(s, n))\n"
      ],
      "metadata": {
        "colab": {
          "base_uri": "https://localhost:8080/"
        },
        "id": "6RKU52IHK2Vt",
        "outputId": "1c8dc0e1-e8bc-4390-b2b1-b1ea5fd1c13a"
      },
      "execution_count": 49,
      "outputs": [
        {
          "output_type": "stream",
          "name": "stdout",
          "text": [
            "The brown fox\n"
          ]
        }
      ]
    },
    {
      "cell_type": "code",
      "source": [
        "# Question 49 - Insert a word at the nth position in a string.\n",
        "def insert_word_at_n(s, n, word):\n",
        "    words = s.split()\n",
        "    words.insert(n-1, word)\n",
        "    return \" \".join(words)\n",
        "\n",
        "\n",
        "s = \"The quick brown fox\"\n",
        "n = 3\n",
        "word = \"lazy\"\n",
        "print(insert_word_at_n(s, n, word))\n"
      ],
      "metadata": {
        "colab": {
          "base_uri": "https://localhost:8080/"
        },
        "id": "U-9rKm5CK2cG",
        "outputId": "3a3fae8a-2d44-417f-fc24-a9e29684da1e"
      },
      "execution_count": 50,
      "outputs": [
        {
          "output_type": "stream",
          "name": "stdout",
          "text": [
            "The quick lazy brown fox\n"
          ]
        }
      ]
    },
    {
      "cell_type": "code",
      "source": [
        "# Question 50 - Convert a CSV string to a list of lists.\n",
        "def csv_to_list(csv_string):\n",
        "    rows = csv_string.split(\"\\n\")\n",
        "    return [row.split(\",\") for row in rows]\n",
        "\n",
        "\n",
        "csv_string = \"name,age\\nAlice,30\\nBob,25\"\n",
        "print(csv_to_list(csv_string))\n"
      ],
      "metadata": {
        "colab": {
          "base_uri": "https://localhost:8080/"
        },
        "id": "JdlG0JZdK2jV",
        "outputId": "81804362-4420-4f49-863f-c64aa9adeb22"
      },
      "execution_count": 51,
      "outputs": [
        {
          "output_type": "stream",
          "name": "stdout",
          "text": [
            "[['name', 'age'], ['Alice', '30'], ['Bob', '25']]\n"
          ]
        }
      ]
    },
    {
      "cell_type": "markdown",
      "source": [
        "**List Based Practice Problem :**"
      ],
      "metadata": {
        "id": "C7aJF1ay4Itg"
      }
    },
    {
      "cell_type": "code",
      "source": [
        "# Question 1 - Create a list with integers from 1 to 10.\n",
        "numbers = list(range(1, 11))\n",
        "print(numbers)\n"
      ],
      "metadata": {
        "id": "c_nDYLkqK2sI",
        "colab": {
          "base_uri": "https://localhost:8080/"
        },
        "outputId": "b7923e58-6f1f-4d13-cd9a-143397b4628a"
      },
      "execution_count": 52,
      "outputs": [
        {
          "output_type": "stream",
          "name": "stdout",
          "text": [
            "[1, 2, 3, 4, 5, 6, 7, 8, 9, 10]\n"
          ]
        }
      ]
    },
    {
      "cell_type": "code",
      "source": [
        "# Question 2 - Find the length of a list without using the `len()` function.\n",
        "def list_length(lst):\n",
        "    count = 0\n",
        "    for item in lst:\n",
        "        count += 1\n",
        "    return count\n",
        "\n",
        "numbers = [1, 2, 3, 4, 5, 6, 7, 8, 9, 10]\n",
        "print(list_length(numbers))\n"
      ],
      "metadata": {
        "colab": {
          "base_uri": "https://localhost:8080/"
        },
        "id": "ygJc1Erv4ATj",
        "outputId": "e465a70a-a1fd-4427-e6d2-d5a272a124b1"
      },
      "execution_count": 53,
      "outputs": [
        {
          "output_type": "stream",
          "name": "stdout",
          "text": [
            "10\n"
          ]
        }
      ]
    },
    {
      "cell_type": "code",
      "source": [
        "# Question 3 - Append an element to the end of a list.\n",
        "numbers = [1, 2, 3]\n",
        "numbers.append(4)\n",
        "print(numbers)\n"
      ],
      "metadata": {
        "colab": {
          "base_uri": "https://localhost:8080/"
        },
        "id": "PgWYZ3IB4AZa",
        "outputId": "7b7a64da-872a-41f8-ea55-272e759fbc6e"
      },
      "execution_count": 54,
      "outputs": [
        {
          "output_type": "stream",
          "name": "stdout",
          "text": [
            "[1, 2, 3, 4]\n"
          ]
        }
      ]
    },
    {
      "cell_type": "code",
      "source": [
        "# Question 4 - Insert an element at a specific index in a list.\n",
        "numbers = [1, 2, 3, 5]\n",
        "numbers.insert(3, 4)\n",
        "print(numbers)\n"
      ],
      "metadata": {
        "colab": {
          "base_uri": "https://localhost:8080/"
        },
        "id": "_ln8Qz3t4Ago",
        "outputId": "432c8a13-caae-4248-e86e-c50d1f33be22"
      },
      "execution_count": 55,
      "outputs": [
        {
          "output_type": "stream",
          "name": "stdout",
          "text": [
            "[1, 2, 3, 4, 5]\n"
          ]
        }
      ]
    },
    {
      "cell_type": "code",
      "source": [
        "# Question 5 - Remove an element from a list by its value.\n",
        "numbers = [1, 2, 3, 4, 5]\n",
        "numbers.remove(3)\n",
        "print(numbers)\n"
      ],
      "metadata": {
        "colab": {
          "base_uri": "https://localhost:8080/"
        },
        "id": "xzvQ59gC4Amz",
        "outputId": "444e6952-93db-453c-e275-d1b581803b2c"
      },
      "execution_count": 56,
      "outputs": [
        {
          "output_type": "stream",
          "name": "stdout",
          "text": [
            "[1, 2, 4, 5]\n"
          ]
        }
      ]
    },
    {
      "cell_type": "code",
      "source": [
        "# Question 6 - Remove an element from a list by its index.\n",
        "numbers = [1, 2, 3, 4, 5]\n",
        "del numbers[2]\n",
        "print(numbers)\n"
      ],
      "metadata": {
        "colab": {
          "base_uri": "https://localhost:8080/"
        },
        "id": "KCyJitel4BRG",
        "outputId": "8bd74eac-fc56-4285-a466-259db890c668"
      },
      "execution_count": 57,
      "outputs": [
        {
          "output_type": "stream",
          "name": "stdout",
          "text": [
            "[1, 2, 4, 5]\n"
          ]
        }
      ]
    },
    {
      "cell_type": "code",
      "source": [
        "# Question 7 - Check if an element exists in a list.\n",
        "numbers = [1, 2, 3, 4, 5]\n",
        "exists = 3 in numbers\n",
        "print(exists)\n"
      ],
      "metadata": {
        "colab": {
          "base_uri": "https://localhost:8080/"
        },
        "id": "cGSNokcS4BZR",
        "outputId": "26b6b511-d64e-4be9-bf25-b135dd03b256"
      },
      "execution_count": 58,
      "outputs": [
        {
          "output_type": "stream",
          "name": "stdout",
          "text": [
            "True\n"
          ]
        }
      ]
    },
    {
      "cell_type": "code",
      "source": [
        "# Question 8 - Find the index of the first occurrence of an element in a list.\n",
        "numbers = [1, 2, 3, 4, 3, 5]\n",
        "index = numbers.index(3)\n",
        "print(index)\n"
      ],
      "metadata": {
        "colab": {
          "base_uri": "https://localhost:8080/"
        },
        "id": "1nWuM8184BfT",
        "outputId": "81e864e4-d1ea-4b3c-9db8-7d48737b36d8"
      },
      "execution_count": 59,
      "outputs": [
        {
          "output_type": "stream",
          "name": "stdout",
          "text": [
            "2\n"
          ]
        }
      ]
    },
    {
      "cell_type": "code",
      "source": [
        "# Question 9 - Count the occurrences of an element in a list.\n",
        "numbers = [1, 2, 3, 4, 3, 5]\n",
        "count = numbers.count(3)\n",
        "print(count)\n"
      ],
      "metadata": {
        "colab": {
          "base_uri": "https://localhost:8080/"
        },
        "id": "RRxEcxO24Bk6",
        "outputId": "f3129454-a922-46ef-dc17-91ea51cfd6fb"
      },
      "execution_count": 60,
      "outputs": [
        {
          "output_type": "stream",
          "name": "stdout",
          "text": [
            "2\n"
          ]
        }
      ]
    },
    {
      "cell_type": "code",
      "source": [
        "# Question 10 - Reverse the order of elements in a list.\n",
        "numbers = [1, 2, 3, 4, 5]\n",
        "numbers.reverse()\n",
        "print(numbers)\n"
      ],
      "metadata": {
        "colab": {
          "base_uri": "https://localhost:8080/"
        },
        "id": "KA4j1_rm4BqU",
        "outputId": "0103d474-d22c-42da-a072-8b184f6ecf3b"
      },
      "execution_count": 61,
      "outputs": [
        {
          "output_type": "stream",
          "name": "stdout",
          "text": [
            "[5, 4, 3, 2, 1]\n"
          ]
        }
      ]
    },
    {
      "cell_type": "code",
      "source": [
        "# Question 11 - Sort a list in ascending order.\n",
        "numbers = [5, 3, 1, 4, 2]\n",
        "numbers.sort()\n",
        "print(numbers)\n"
      ],
      "metadata": {
        "colab": {
          "base_uri": "https://localhost:8080/"
        },
        "id": "gQIYyeRz4Bwd",
        "outputId": "643a3326-c983-4476-872a-25464d738fa5"
      },
      "execution_count": 62,
      "outputs": [
        {
          "output_type": "stream",
          "name": "stdout",
          "text": [
            "[1, 2, 3, 4, 5]\n"
          ]
        }
      ]
    },
    {
      "cell_type": "code",
      "source": [
        "# Question 12 - Sort a list in descending order.\n",
        "numbers = [5, 3, 1, 4, 2]\n",
        "numbers.sort(reverse=True)\n",
        "print(numbers)\n"
      ],
      "metadata": {
        "colab": {
          "base_uri": "https://localhost:8080/"
        },
        "id": "D-gZRB_g4B1E",
        "outputId": "7e3216ac-ff35-4c69-d2a3-d21680b01f17"
      },
      "execution_count": 63,
      "outputs": [
        {
          "output_type": "stream",
          "name": "stdout",
          "text": [
            "[5, 4, 3, 2, 1]\n"
          ]
        }
      ]
    },
    {
      "cell_type": "code",
      "source": [
        "# Question 13 - Create a list of even numbers from 1 to 20.\n",
        "even_numbers = [x for x in range(1, 21) if x % 2 == 0]\n",
        "print(even_numbers)\n"
      ],
      "metadata": {
        "colab": {
          "base_uri": "https://localhost:8080/"
        },
        "id": "xNNzJKSQ4B5r",
        "outputId": "e360afb1-b497-47a3-8196-9b41c6f4ce24"
      },
      "execution_count": 64,
      "outputs": [
        {
          "output_type": "stream",
          "name": "stdout",
          "text": [
            "[2, 4, 6, 8, 10, 12, 14, 16, 18, 20]\n"
          ]
        }
      ]
    },
    {
      "cell_type": "code",
      "source": [
        "# Question 14 - Create a list of odd numbers from 1 to 20.\n",
        "odd_numbers = [x for x in range(1, 21) if x % 2 != 0]\n",
        "print(odd_numbers)\n"
      ],
      "metadata": {
        "colab": {
          "base_uri": "https://localhost:8080/"
        },
        "id": "uNSctdJS4B_O",
        "outputId": "eeb073c1-b9a7-4c54-bb71-9d5ff8d1e3eb"
      },
      "execution_count": 65,
      "outputs": [
        {
          "output_type": "stream",
          "name": "stdout",
          "text": [
            "[1, 3, 5, 7, 9, 11, 13, 15, 17, 19]\n"
          ]
        }
      ]
    },
    {
      "cell_type": "code",
      "source": [
        "# Question 15 - Find the sum of all elements in a list.\n",
        "numbers = [1, 2, 3, 4, 5]\n",
        "sum_numbers = sum(numbers)\n",
        "print(sum_numbers)\n"
      ],
      "metadata": {
        "colab": {
          "base_uri": "https://localhost:8080/"
        },
        "id": "aKva7ZAa4CD8",
        "outputId": "1992526c-519b-4172-9d91-9f4887271e30"
      },
      "execution_count": 66,
      "outputs": [
        {
          "output_type": "stream",
          "name": "stdout",
          "text": [
            "15\n"
          ]
        }
      ]
    },
    {
      "cell_type": "code",
      "source": [
        "# Question 16 - Find the maximum value in a list.\n",
        "numbers = [1, 2, 3, 4, 5]\n",
        "max_value = max(numbers)\n",
        "print(max_value)\n"
      ],
      "metadata": {
        "colab": {
          "base_uri": "https://localhost:8080/"
        },
        "id": "44e__fwe4CIx",
        "outputId": "00d893cf-b779-4083-af48-daeb3de1e248"
      },
      "execution_count": 67,
      "outputs": [
        {
          "output_type": "stream",
          "name": "stdout",
          "text": [
            "5\n"
          ]
        }
      ]
    },
    {
      "cell_type": "code",
      "source": [
        "# Question 17 - Find the minimum value in a list.\n",
        "numbers = [1, 2, 3, 4, 5]\n",
        "min_value = min(numbers)\n",
        "print(min_value)\n"
      ],
      "metadata": {
        "colab": {
          "base_uri": "https://localhost:8080/"
        },
        "id": "tBk2b1ll4COQ",
        "outputId": "a36c5216-c237-425f-b371-e15eb06d3a86"
      },
      "execution_count": 68,
      "outputs": [
        {
          "output_type": "stream",
          "name": "stdout",
          "text": [
            "1\n"
          ]
        }
      ]
    },
    {
      "cell_type": "code",
      "source": [
        "# Question 18 - Create a list of squares of numbers from 1 to 10.\n",
        "squares = [x**2 for x in range(1, 11)]\n",
        "print(squares)\n"
      ],
      "metadata": {
        "colab": {
          "base_uri": "https://localhost:8080/"
        },
        "id": "QZzdj_-d4CTx",
        "outputId": "03656383-8cd2-442a-a8f7-4c995900fc1a"
      },
      "execution_count": 69,
      "outputs": [
        {
          "output_type": "stream",
          "name": "stdout",
          "text": [
            "[1, 4, 9, 16, 25, 36, 49, 64, 81, 100]\n"
          ]
        }
      ]
    },
    {
      "cell_type": "code",
      "source": [
        "# Question 19 - Create a list of random numbers.\n",
        "import random\n",
        "random_numbers = [random.randint(1, 100) for _ in range(10)]\n",
        "print(random_numbers)\n"
      ],
      "metadata": {
        "colab": {
          "base_uri": "https://localhost:8080/"
        },
        "id": "uppS50GN4CYp",
        "outputId": "ede4d8cc-ca3c-4e9a-d7e7-8e5f7caa7c09"
      },
      "execution_count": 70,
      "outputs": [
        {
          "output_type": "stream",
          "name": "stdout",
          "text": [
            "[21, 39, 86, 36, 100, 38, 9, 44, 48, 77]\n"
          ]
        }
      ]
    },
    {
      "cell_type": "code",
      "source": [
        "# Question 20 - Remove duplicates from a list.\n",
        "numbers = [1, 2, 2, 3, 4, 4, 5]\n",
        "unique_numbers = list(set(numbers))\n",
        "print(unique_numbers)\n"
      ],
      "metadata": {
        "colab": {
          "base_uri": "https://localhost:8080/"
        },
        "id": "dO4BAgmR4CdY",
        "outputId": "f3370f5f-266b-4235-c934-aecb2ea17253"
      },
      "execution_count": 71,
      "outputs": [
        {
          "output_type": "stream",
          "name": "stdout",
          "text": [
            "[1, 2, 3, 4, 5]\n"
          ]
        }
      ]
    },
    {
      "cell_type": "code",
      "source": [
        "# Question 21 - Find the common elements between two lists.\n",
        "list1 = [1, 2, 3, 4]\n",
        "list2 = [3, 4, 5, 6]\n",
        "common_elements = list(set(list1) & set(list2))\n",
        "print(common_elements)\n"
      ],
      "metadata": {
        "colab": {
          "base_uri": "https://localhost:8080/"
        },
        "id": "XDFcXKGs4Chw",
        "outputId": "9b8d2912-dace-4911-85ae-ece74c229542"
      },
      "execution_count": 72,
      "outputs": [
        {
          "output_type": "stream",
          "name": "stdout",
          "text": [
            "[3, 4]\n"
          ]
        }
      ]
    },
    {
      "cell_type": "code",
      "source": [
        "# Question 22 - Find the difference between two lists.\n",
        "list1 = [1, 2, 3, 4]\n",
        "list2 = [3, 4, 5, 6]\n",
        "difference = list(set(list1) - set(list2))\n",
        "print(difference)\n"
      ],
      "metadata": {
        "colab": {
          "base_uri": "https://localhost:8080/"
        },
        "id": "yVbgnqMU4CmY",
        "outputId": "1f49315f-5ba8-4629-b08a-19910eff06bb"
      },
      "execution_count": 73,
      "outputs": [
        {
          "output_type": "stream",
          "name": "stdout",
          "text": [
            "[1, 2]\n"
          ]
        }
      ]
    },
    {
      "cell_type": "code",
      "source": [
        "# Question 23 - Merge two lists.\n",
        "list1 = [1, 2, 3]\n",
        "list2 = [4, 5, 6]\n",
        "merged_list = list1 + list2\n",
        "print(merged_list)\n"
      ],
      "metadata": {
        "colab": {
          "base_uri": "https://localhost:8080/"
        },
        "id": "TiF_RCn04Crb",
        "outputId": "9df0a6e3-87f5-48cc-f5bc-b00090d0ecb1"
      },
      "execution_count": 74,
      "outputs": [
        {
          "output_type": "stream",
          "name": "stdout",
          "text": [
            "[1, 2, 3, 4, 5, 6]\n"
          ]
        }
      ]
    },
    {
      "cell_type": "code",
      "source": [
        "# Question 24 - Multiply all elements in a list by 2.\n",
        "numbers = [1, 2, 3, 4, 5]\n",
        "multiplied_numbers = [x * 2 for x in numbers]\n",
        "print(multiplied_numbers)\n"
      ],
      "metadata": {
        "colab": {
          "base_uri": "https://localhost:8080/"
        },
        "id": "A0jhKkdt4CwQ",
        "outputId": "e4d5d99c-1a89-4fe2-d7fc-90e9e8b3cb3e"
      },
      "execution_count": 75,
      "outputs": [
        {
          "output_type": "stream",
          "name": "stdout",
          "text": [
            "[2, 4, 6, 8, 10]\n"
          ]
        }
      ]
    },
    {
      "cell_type": "code",
      "source": [
        "# Question 25 - Filter out all even numbers from a list.\n",
        "numbers = [1, 2, 3, 4, 5, 6]\n",
        "odd_numbers = [x for x in numbers if x % 2 != 0]\n",
        "print(odd_numbers)\n"
      ],
      "metadata": {
        "colab": {
          "base_uri": "https://localhost:8080/"
        },
        "id": "ca7O-2fG4C0z",
        "outputId": "49186e2b-92d9-49ea-909f-89cb452e4ce0"
      },
      "execution_count": 76,
      "outputs": [
        {
          "output_type": "stream",
          "name": "stdout",
          "text": [
            "[1, 3, 5]\n"
          ]
        }
      ]
    },
    {
      "cell_type": "code",
      "source": [
        "# Question 26 - Convert a list of strings to a list of integers.\n",
        "strings = [\"1\", \"2\", \"3\"]\n",
        "integers = list(map(int, strings))\n",
        "print(integers)\n"
      ],
      "metadata": {
        "colab": {
          "base_uri": "https://localhost:8080/"
        },
        "id": "7aTuCMk_4C5X",
        "outputId": "91f74a96-4b9b-4158-dc13-921656426342"
      },
      "execution_count": 77,
      "outputs": [
        {
          "output_type": "stream",
          "name": "stdout",
          "text": [
            "[1, 2, 3]\n"
          ]
        }
      ]
    },
    {
      "cell_type": "code",
      "source": [
        "# Question 27 - Convert a list of integers to a list of strings.\n",
        "integers = [1, 2, 3]\n",
        "strings = list(map(str, integers))\n",
        "print(strings)\n"
      ],
      "metadata": {
        "colab": {
          "base_uri": "https://localhost:8080/"
        },
        "id": "2YGr32YM4C--",
        "outputId": "19536797-0345-445e-9c65-f769f02a10d4"
      },
      "execution_count": 78,
      "outputs": [
        {
          "output_type": "stream",
          "name": "stdout",
          "text": [
            "['1', '2', '3']\n"
          ]
        }
      ]
    },
    {
      "cell_type": "code",
      "source": [
        "# Question 28 - Flatten a nested list.\n",
        "nested_list = [[1, 2], [3, 4], [5, 6]]\n",
        "flattened_list = [item for sublist in nested_list for item in sublist]\n",
        "print(flattened_list)\n"
      ],
      "metadata": {
        "colab": {
          "base_uri": "https://localhost:8080/"
        },
        "id": "qhw0dKey4DES",
        "outputId": "42afd56d-5a2c-4afd-fff2-a18a3b8954de"
      },
      "execution_count": 79,
      "outputs": [
        {
          "output_type": "stream",
          "name": "stdout",
          "text": [
            "[1, 2, 3, 4, 5, 6]\n"
          ]
        }
      ]
    },
    {
      "cell_type": "code",
      "source": [
        "# Question 29 - Create a list of the first 10 Fibonacci numbers.\n",
        "def fibonacci(n):\n",
        "    fib = [0, 1]\n",
        "    for i in range(2, n):\n",
        "        fib.append(fib[i-1] + fib[i-2])\n",
        "    return fib\n",
        "\n",
        "print(fibonacci(10))\n"
      ],
      "metadata": {
        "colab": {
          "base_uri": "https://localhost:8080/"
        },
        "id": "UW6dWLei4DJe",
        "outputId": "880cdf83-118d-46fe-d3db-1871eabaffbd"
      },
      "execution_count": 80,
      "outputs": [
        {
          "output_type": "stream",
          "name": "stdout",
          "text": [
            "[0, 1, 1, 2, 3, 5, 8, 13, 21, 34]\n"
          ]
        }
      ]
    },
    {
      "cell_type": "code",
      "source": [
        "# Question 30 - Check if a list is sorted.\n",
        "numbers = [1, 2, 3, 4, 5]\n",
        "is_sorted = all(numbers[i] <= numbers[i+1] for i in range(len(numbers)-1))\n",
        "print(is_sorted)\n"
      ],
      "metadata": {
        "colab": {
          "base_uri": "https://localhost:8080/"
        },
        "id": "JsFKDR2P4DNm",
        "outputId": "643f649d-69fd-4b9e-c64e-e2ddba579017"
      },
      "execution_count": 81,
      "outputs": [
        {
          "output_type": "stream",
          "name": "stdout",
          "text": [
            "True\n"
          ]
        }
      ]
    },
    {
      "cell_type": "code",
      "source": [
        "# Question 31 - Rotate a list to the left by `n` positions.\n",
        "def rotate_left(lst, n):\n",
        "    return lst[n:] + lst[:n]\n",
        "\n",
        "numbers = [1, 2, 3, 4, 5]\n",
        "print(rotate_left(numbers, 2))\n"
      ],
      "metadata": {
        "colab": {
          "base_uri": "https://localhost:8080/"
        },
        "id": "rXAY__Ks4DSu",
        "outputId": "8ff25664-a712-491e-fd2b-70e7ca0bb1cb"
      },
      "execution_count": 82,
      "outputs": [
        {
          "output_type": "stream",
          "name": "stdout",
          "text": [
            "[3, 4, 5, 1, 2]\n"
          ]
        }
      ]
    },
    {
      "cell_type": "code",
      "source": [
        "# Question 32 - Rotate a list to the right by `n` positions.\n",
        "def rotate_right(lst, n):\n",
        "    return lst[-n:] + lst[:-n]\n",
        "\n",
        "numbers = [1, 2, 3, 4, 5]\n",
        "print(rotate_right(numbers, 2))\n"
      ],
      "metadata": {
        "colab": {
          "base_uri": "https://localhost:8080/"
        },
        "id": "dxRn56Mw4DX0",
        "outputId": "0f57d75b-287f-46fb-dca5-a53d20fb798c"
      },
      "execution_count": 83,
      "outputs": [
        {
          "output_type": "stream",
          "name": "stdout",
          "text": [
            "[4, 5, 1, 2, 3]\n"
          ]
        }
      ]
    },
    {
      "cell_type": "code",
      "source": [
        "# Question 33 - Create a list of prime numbers up to 50.\n",
        "def is_prime(n):\n",
        "    if n <= 1:\n",
        "        return False\n",
        "    for i in range(2, int(n**0.5) + 1):\n",
        "        if n % i == 0:\n",
        "            return False\n",
        "    return True\n",
        "\n",
        "primes = [x for x in range(1, 51) if is_prime(x)]\n",
        "print(primes)\n"
      ],
      "metadata": {
        "colab": {
          "base_uri": "https://localhost:8080/"
        },
        "id": "58gioyyh4DdU",
        "outputId": "2ba6b6c4-bc1d-4069-b091-47e41b7bd03a"
      },
      "execution_count": 84,
      "outputs": [
        {
          "output_type": "stream",
          "name": "stdout",
          "text": [
            "[2, 3, 5, 7, 11, 13, 17, 19, 23, 29, 31, 37, 41, 43, 47]\n"
          ]
        }
      ]
    },
    {
      "cell_type": "code",
      "source": [
        "# Question 34 - Split a list into chunks of size `n`.\n",
        "def chunk_list(lst, n):\n",
        "    return [lst[i:i + n] for i in range(0, len(lst), n)]\n",
        "\n",
        "numbers = [1, 2, 3, 4, 5, 6, 7, 8, 9]\n",
        "print(chunk_list(numbers, 3))\n"
      ],
      "metadata": {
        "colab": {
          "base_uri": "https://localhost:8080/"
        },
        "id": "L5XKtpuN4Dim",
        "outputId": "d020a574-2017-45ba-defc-57f703fd5782"
      },
      "execution_count": 85,
      "outputs": [
        {
          "output_type": "stream",
          "name": "stdout",
          "text": [
            "[[1, 2, 3], [4, 5, 6], [7, 8, 9]]\n"
          ]
        }
      ]
    },
    {
      "cell_type": "code",
      "source": [
        "# Question 35 - Find the second largest number in a list.\n",
        "numbers = [1, 2, 3, 4, 5]\n",
        "numbers.sort()\n",
        "second_largest = numbers[-2]\n",
        "print(second_largest)\n"
      ],
      "metadata": {
        "colab": {
          "base_uri": "https://localhost:8080/"
        },
        "id": "M8y2WPhs4Dnr",
        "outputId": "27f8fc36-e2a9-4bbd-b894-03a16f49a705"
      },
      "execution_count": 86,
      "outputs": [
        {
          "output_type": "stream",
          "name": "stdout",
          "text": [
            "4\n"
          ]
        }
      ]
    },
    {
      "cell_type": "code",
      "source": [
        "# Question 36 - Replace every element in a list with its square.\n",
        "numbers = [1, 2, 3, 4, 5]\n",
        "squares = [x**2 for x in numbers]\n",
        "print(squares)\n"
      ],
      "metadata": {
        "colab": {
          "base_uri": "https://localhost:8080/"
        },
        "id": "AjIB7NeN4Dtw",
        "outputId": "cc741dde-dfce-43cd-c5e2-fa060625fc33"
      },
      "execution_count": 87,
      "outputs": [
        {
          "output_type": "stream",
          "name": "stdout",
          "text": [
            "[1, 4, 9, 16, 25]\n"
          ]
        }
      ]
    },
    {
      "cell_type": "code",
      "source": [
        "# Question 37 - Convert a list to a dictionary where list elements become keys and their indices become values.\n",
        "numbers = ['a', 'b', 'c']\n",
        "dictionary = {numbers[i]: i for i in range(len(numbers))}\n",
        "print(dictionary)\n"
      ],
      "metadata": {
        "colab": {
          "base_uri": "https://localhost:8080/"
        },
        "id": "AE31iXto4DzS",
        "outputId": "6c890d70-b5df-4a9f-bc26-efad89641e0a"
      },
      "execution_count": 88,
      "outputs": [
        {
          "output_type": "stream",
          "name": "stdout",
          "text": [
            "{'a': 0, 'b': 1, 'c': 2}\n"
          ]
        }
      ]
    },
    {
      "cell_type": "code",
      "source": [
        "# Question 38 - Shuffle the elements of a list randomly.\n",
        "import random\n",
        "numbers = [1, 2, 3, 4, 5]\n",
        "random.shuffle(numbers)\n",
        "print(numbers)\n"
      ],
      "metadata": {
        "colab": {
          "base_uri": "https://localhost:8080/"
        },
        "id": "K6OMAQHI4D5D",
        "outputId": "ad62f797-07c0-40f1-e852-10e093724587"
      },
      "execution_count": 89,
      "outputs": [
        {
          "output_type": "stream",
          "name": "stdout",
          "text": [
            "[3, 1, 2, 4, 5]\n"
          ]
        }
      ]
    },
    {
      "cell_type": "code",
      "source": [
        "# Question 39 - Create a list of the first 10 factorial numbers.\n",
        "import math\n",
        "factorials = [math.factorial(x) for x in range(1, 11)]\n",
        "print(factorials)\n"
      ],
      "metadata": {
        "colab": {
          "base_uri": "https://localhost:8080/"
        },
        "id": "JCvLxUB44D-P",
        "outputId": "4691b651-4cdd-42c0-b8f0-6f61206a0d47"
      },
      "execution_count": 90,
      "outputs": [
        {
          "output_type": "stream",
          "name": "stdout",
          "text": [
            "[1, 2, 6, 24, 120, 720, 5040, 40320, 362880, 3628800]\n"
          ]
        }
      ]
    },
    {
      "cell_type": "code",
      "source": [
        "# Question 40 - Check if two lists have at least one element in common.\n",
        "list1 = [1, 2, 3, 4]\n",
        "list2 = [3, 5, 6]\n",
        "has_common = bool(set(list1) & set(list2))\n",
        "print(has_common)\n"
      ],
      "metadata": {
        "colab": {
          "base_uri": "https://localhost:8080/"
        },
        "id": "JYPF34-f4EDU",
        "outputId": "4d904120-6599-437d-88e3-779862a6bf64"
      },
      "execution_count": 91,
      "outputs": [
        {
          "output_type": "stream",
          "name": "stdout",
          "text": [
            "True\n"
          ]
        }
      ]
    },
    {
      "cell_type": "code",
      "source": [
        "# Question 41 - Remove all elements from a list.\n",
        "numbers = [1, 2, 3, 4, 5]\n",
        "numbers.clear()\n",
        "print(numbers)\n"
      ],
      "metadata": {
        "colab": {
          "base_uri": "https://localhost:8080/"
        },
        "id": "FrBFPAee4EIX",
        "outputId": "1eb11949-ce70-42f6-fbbf-efce16458a0b"
      },
      "execution_count": 92,
      "outputs": [
        {
          "output_type": "stream",
          "name": "stdout",
          "text": [
            "[]\n"
          ]
        }
      ]
    },
    {
      "cell_type": "code",
      "source": [
        "# Question 42 - Replace negative numbers in a list with 0.\n",
        "numbers = [-1, 2, -3, 4, -5]\n",
        "numbers = [max(0, x) for x in numbers]\n",
        "print(numbers)\n"
      ],
      "metadata": {
        "colab": {
          "base_uri": "https://localhost:8080/"
        },
        "id": "5E1G1J6O4ENO",
        "outputId": "d8418447-fe75-4169-84f5-22d321a41bc6"
      },
      "execution_count": 93,
      "outputs": [
        {
          "output_type": "stream",
          "name": "stdout",
          "text": [
            "[0, 2, 0, 4, 0]\n"
          ]
        }
      ]
    },
    {
      "cell_type": "code",
      "source": [
        "# Question 43 - Convert a string into a list of words.\n",
        "s = \"The quick brown fox\"\n",
        "words = s.split()\n",
        "print(words)\n"
      ],
      "metadata": {
        "colab": {
          "base_uri": "https://localhost:8080/"
        },
        "id": "oxulQNSa4ETF",
        "outputId": "e07cf2ae-0d6a-4142-bcfd-9868f001dfb2"
      },
      "execution_count": 94,
      "outputs": [
        {
          "output_type": "stream",
          "name": "stdout",
          "text": [
            "['The', 'quick', 'brown', 'fox']\n"
          ]
        }
      ]
    },
    {
      "cell_type": "code",
      "source": [
        "# Question 44 - Convert a list of words into a string.\n",
        "words = ['The', 'quick', 'brown', 'fox']\n",
        "s = ' '.join(words)\n",
        "print(s)\n"
      ],
      "metadata": {
        "colab": {
          "base_uri": "https://localhost:8080/"
        },
        "id": "8RbhUiV34EX9",
        "outputId": "ce00c9b7-f310-42a6-bfff-c1d2a6c4d466"
      },
      "execution_count": 95,
      "outputs": [
        {
          "output_type": "stream",
          "name": "stdout",
          "text": [
            "The quick brown fox\n"
          ]
        }
      ]
    },
    {
      "cell_type": "code",
      "source": [
        "# Question 45 - Create a list of the first `n` powers of 2.\n",
        "n = 5\n",
        "powers_of_two = [2**x for x in range(n)]\n",
        "print(powers_of_two)\n"
      ],
      "metadata": {
        "colab": {
          "base_uri": "https://localhost:8080/"
        },
        "id": "Q-hXtMQV4Edo",
        "outputId": "33a4b3c7-fcc7-4d28-a5c7-586dc3e5c029"
      },
      "execution_count": 96,
      "outputs": [
        {
          "output_type": "stream",
          "name": "stdout",
          "text": [
            "[1, 2, 4, 8, 16]\n"
          ]
        }
      ]
    },
    {
      "cell_type": "code",
      "source": [
        "# Question 46 - Find the longest string in a list of strings.\n",
        "strings = [\"apple\", \"banana\", \"kiwi\", \"orange\"]\n",
        "longest_string = max(strings, key=len)\n",
        "print(longest_string)\n"
      ],
      "metadata": {
        "colab": {
          "base_uri": "https://localhost:8080/"
        },
        "id": "Qo-390ka4EjY",
        "outputId": "d9c32ae3-25b4-49d9-dd93-89bddec0577b"
      },
      "execution_count": 97,
      "outputs": [
        {
          "output_type": "stream",
          "name": "stdout",
          "text": [
            "banana\n"
          ]
        }
      ]
    },
    {
      "cell_type": "code",
      "source": [
        "# Question 47 - Find the shortest string in a list of strings.\n",
        "strings = [\"apple\", \"banana\", \"kiwi\", \"orange\"]\n",
        "shortest_string = min(strings, key=len)\n",
        "print(shortest_string)\n"
      ],
      "metadata": {
        "colab": {
          "base_uri": "https://localhost:8080/"
        },
        "id": "tgnrYzA94End",
        "outputId": "73b42425-0584-40a2-9d27-cb193e81cb82"
      },
      "execution_count": 98,
      "outputs": [
        {
          "output_type": "stream",
          "name": "stdout",
          "text": [
            "kiwi\n"
          ]
        }
      ]
    },
    {
      "cell_type": "code",
      "source": [
        "# Question 48 - Create a list of the first `n` triangular numbers.\n",
        "def triangular_numbers(n):\n",
        "    return [sum(range(1, x+1)) for x in range(1, n+1)]\n",
        "\n",
        "print(triangular_numbers(5))\n"
      ],
      "metadata": {
        "colab": {
          "base_uri": "https://localhost:8080/"
        },
        "id": "4J95e6ke4Ets",
        "outputId": "1a77542c-716d-4131-c533-0f0bc13a1330"
      },
      "execution_count": 99,
      "outputs": [
        {
          "output_type": "stream",
          "name": "stdout",
          "text": [
            "[1, 3, 6, 10, 15]\n"
          ]
        }
      ]
    },
    {
      "cell_type": "code",
      "source": [
        "# Question 49 - Check if a list contains another list as a subsequence.\n",
        "def is_subsequence(lst1, lst2):\n",
        "    it = iter(lst1)\n",
        "    return all(item in it for item in lst2)\n",
        "\n",
        "lst1 = [1, 2, 3, 4, 5]\n",
        "lst2 = [2, 4]\n",
        "print(is_subsequence(lst1, lst2))\n"
      ],
      "metadata": {
        "colab": {
          "base_uri": "https://localhost:8080/"
        },
        "id": "AF-0Y4ok4E3u",
        "outputId": "ee5035ae-e287-4c87-9b99-ed11cb5a0a39"
      },
      "execution_count": 100,
      "outputs": [
        {
          "output_type": "stream",
          "name": "stdout",
          "text": [
            "True\n"
          ]
        }
      ]
    },
    {
      "cell_type": "code",
      "source": [
        "# Question 50 - Swap two elements in a list by their indices.\n",
        "def swap_elements(lst, index1, index2):\n",
        "    lst[index1], lst[index2] = lst[index2], lst[index1]\n",
        "    return lst\n",
        "\n",
        "numbers = [1, 2, 3, 4, 5]\n",
        "print(swap_elements(numbers, 1, 3))\n"
      ],
      "metadata": {
        "colab": {
          "base_uri": "https://localhost:8080/"
        },
        "id": "JScV3lAE4E_k",
        "outputId": "f46b4873-6664-46ed-84f0-85b718731319"
      },
      "execution_count": 101,
      "outputs": [
        {
          "output_type": "stream",
          "name": "stdout",
          "text": [
            "[1, 4, 3, 2, 5]\n"
          ]
        }
      ]
    },
    {
      "cell_type": "markdown",
      "source": [
        "**Tuple Based Practice Problem :**"
      ],
      "metadata": {
        "id": "kuthfvne57Da"
      }
    },
    {
      "cell_type": "code",
      "source": [
        "# Question 1 - Create a tuple with integers from 1 to 5.\n",
        "numbers = tuple(range(1, 6))\n",
        "print(numbers)\n"
      ],
      "metadata": {
        "colab": {
          "base_uri": "https://localhost:8080/"
        },
        "id": "1hg3HIbx58Xk",
        "outputId": "d0eb555b-97bb-4d5b-ea51-99fa2296ea1c"
      },
      "execution_count": 102,
      "outputs": [
        {
          "output_type": "stream",
          "name": "stdout",
          "text": [
            "(1, 2, 3, 4, 5)\n"
          ]
        }
      ]
    },
    {
      "cell_type": "code",
      "source": [
        "# Question 2 - Access the third element of a tuple.\n",
        "numbers = (1, 2, 3, 4, 5)\n",
        "third_element = numbers[2]\n",
        "print(third_element)\n"
      ],
      "metadata": {
        "colab": {
          "base_uri": "https://localhost:8080/"
        },
        "id": "YtdaC6cp582S",
        "outputId": "e785cf48-6383-49c3-f198-71def95bcf36"
      },
      "execution_count": 103,
      "outputs": [
        {
          "output_type": "stream",
          "name": "stdout",
          "text": [
            "3\n"
          ]
        }
      ]
    },
    {
      "cell_type": "code",
      "source": [
        "# Question 3 - Find the length of a tuple without using the `len()` function.\n",
        "def tuple_length(tpl):\n",
        "    count = 0\n",
        "    for item in tpl:\n",
        "        count += 1\n",
        "    return count\n",
        "\n",
        "numbers = (1, 2, 3, 4, 5)\n",
        "print(tuple_length(numbers))\n"
      ],
      "metadata": {
        "colab": {
          "base_uri": "https://localhost:8080/"
        },
        "id": "Om1T9fyn59Br",
        "outputId": "5c17abde-63e6-42e9-adf5-3d6f3ffe7e80"
      },
      "execution_count": 104,
      "outputs": [
        {
          "output_type": "stream",
          "name": "stdout",
          "text": [
            "5\n"
          ]
        }
      ]
    },
    {
      "cell_type": "code",
      "source": [
        "# Question 4 - Count the occurrences of an element in a tuple.\n",
        "numbers = (1, 2, 3, 4, 5, 3, 3)\n",
        "count = numbers.count(3)\n",
        "print(count)\n"
      ],
      "metadata": {
        "colab": {
          "base_uri": "https://localhost:8080/"
        },
        "id": "rL0HO7e859Ix",
        "outputId": "ecaf54e1-e74a-4549-df05-cd5a967d33f5"
      },
      "execution_count": 105,
      "outputs": [
        {
          "output_type": "stream",
          "name": "stdout",
          "text": [
            "3\n"
          ]
        }
      ]
    },
    {
      "cell_type": "code",
      "source": [
        "# Question 5 - Find the index of the first occurrence of an element in a tuple.\n",
        "numbers = (1, 2, 3, 4, 5, 3)\n",
        "index = numbers.index(3)\n",
        "print(index)\n"
      ],
      "metadata": {
        "colab": {
          "base_uri": "https://localhost:8080/"
        },
        "id": "WwbcH1Rb59QF",
        "outputId": "d9284564-c435-49d9-eddb-3dd27d2dbcb3"
      },
      "execution_count": 106,
      "outputs": [
        {
          "output_type": "stream",
          "name": "stdout",
          "text": [
            "2\n"
          ]
        }
      ]
    },
    {
      "cell_type": "code",
      "source": [
        "# Question 6 - Check if an element exists in a tuple.\n",
        "numbers = (1, 2, 3, 4, 5)\n",
        "exists = 3 in numbers\n",
        "print(exists)\n"
      ],
      "metadata": {
        "colab": {
          "base_uri": "https://localhost:8080/"
        },
        "id": "58w1q-m-59XF",
        "outputId": "bb41c952-4fb3-4d12-fab2-26184e5f2d09"
      },
      "execution_count": 107,
      "outputs": [
        {
          "output_type": "stream",
          "name": "stdout",
          "text": [
            "True\n"
          ]
        }
      ]
    },
    {
      "cell_type": "code",
      "source": [
        "# Question 7 - Convert a tuple to a list.\n",
        "numbers = (1, 2, 3, 4, 5)\n",
        "numbers_list = list(numbers)\n",
        "print(numbers_list)\n"
      ],
      "metadata": {
        "colab": {
          "base_uri": "https://localhost:8080/"
        },
        "id": "HzBkeR_l59d5",
        "outputId": "7e431eb3-fe5e-41c9-c9d6-8bca246458a6"
      },
      "execution_count": 108,
      "outputs": [
        {
          "output_type": "stream",
          "name": "stdout",
          "text": [
            "[1, 2, 3, 4, 5]\n"
          ]
        }
      ]
    },
    {
      "cell_type": "code",
      "source": [
        "# Question 8 - Convert a list to a tuple.\n",
        "numbers_list = [1, 2, 3, 4, 5]\n",
        "numbers_tuple = tuple(numbers_list)\n",
        "print(numbers_tuple)\n"
      ],
      "metadata": {
        "colab": {
          "base_uri": "https://localhost:8080/"
        },
        "id": "w_C_sAKn59kO",
        "outputId": "5f8c83fa-b2f1-403d-c6c1-8b36da344c3e"
      },
      "execution_count": 109,
      "outputs": [
        {
          "output_type": "stream",
          "name": "stdout",
          "text": [
            "(1, 2, 3, 4, 5)\n"
          ]
        }
      ]
    },
    {
      "cell_type": "code",
      "source": [
        "# Question 9 - Unpack the elements of a tuple into variables.\n",
        "numbers = (1, 2, 3)\n",
        "a, b, c = numbers\n",
        "print(a, b, c)\n"
      ],
      "metadata": {
        "colab": {
          "base_uri": "https://localhost:8080/"
        },
        "id": "PPMiV_Dt59qz",
        "outputId": "b3ecbfff-3217-4c1b-f876-2dc613ace479"
      },
      "execution_count": 110,
      "outputs": [
        {
          "output_type": "stream",
          "name": "stdout",
          "text": [
            "1 2 3\n"
          ]
        }
      ]
    },
    {
      "cell_type": "code",
      "source": [
        "# Question 10 - Create a tuple of even numbers from 1 to 10.\n",
        "even_numbers = tuple(x for x in range(1, 11) if x % 2 == 0)\n",
        "print(even_numbers)\n"
      ],
      "metadata": {
        "colab": {
          "base_uri": "https://localhost:8080/"
        },
        "id": "VN_8as2f59xl",
        "outputId": "82baef83-1205-488f-eb36-7c5f602b1630"
      },
      "execution_count": 111,
      "outputs": [
        {
          "output_type": "stream",
          "name": "stdout",
          "text": [
            "(2, 4, 6, 8, 10)\n"
          ]
        }
      ]
    },
    {
      "cell_type": "code",
      "source": [
        "# Question 11 - Create a tuple of odd numbers from 1 to 10.\n",
        "odd_numbers = tuple(x for x in range(1, 11) if x % 2 != 0)\n",
        "print(odd_numbers)\n"
      ],
      "metadata": {
        "colab": {
          "base_uri": "https://localhost:8080/"
        },
        "id": "ejdslPxh594j",
        "outputId": "a3a49a56-f5a7-4fd2-c1b5-68fd3866626d"
      },
      "execution_count": 112,
      "outputs": [
        {
          "output_type": "stream",
          "name": "stdout",
          "text": [
            "(1, 3, 5, 7, 9)\n"
          ]
        }
      ]
    },
    {
      "cell_type": "code",
      "source": [
        "# Question 12 - Concatenate two tuples.\n",
        "tuple1 = (1, 2, 3)\n",
        "tuple2 = (4, 5, 6)\n",
        "concatenated = tuple1 + tuple2\n",
        "print(concatenated)\n"
      ],
      "metadata": {
        "colab": {
          "base_uri": "https://localhost:8080/"
        },
        "id": "kM9ymMRt59-s",
        "outputId": "fc902c94-ed33-4cc2-b389-728454c58a44"
      },
      "execution_count": 113,
      "outputs": [
        {
          "output_type": "stream",
          "name": "stdout",
          "text": [
            "(1, 2, 3, 4, 5, 6)\n"
          ]
        }
      ]
    },
    {
      "cell_type": "code",
      "source": [
        "# Question 13 - Repeat a tuple three times.\n",
        "numbers = (1, 2, 3)\n",
        "repeated = numbers * 3\n",
        "print(repeated)\n"
      ],
      "metadata": {
        "colab": {
          "base_uri": "https://localhost:8080/"
        },
        "id": "RZ37R0pO5-Fl",
        "outputId": "c6528642-69c8-4b1a-8144-a7630fe116f5"
      },
      "execution_count": 114,
      "outputs": [
        {
          "output_type": "stream",
          "name": "stdout",
          "text": [
            "(1, 2, 3, 1, 2, 3, 1, 2, 3)\n"
          ]
        }
      ]
    },
    {
      "cell_type": "code",
      "source": [
        "# Question 14 - Check if a tuple is empty.\n",
        "numbers = ()\n",
        "is_empty = len(numbers) == 0\n",
        "print(is_empty)\n"
      ],
      "metadata": {
        "colab": {
          "base_uri": "https://localhost:8080/"
        },
        "id": "pn3KGFOS5-M9",
        "outputId": "b14a05c7-21ca-4f13-b01f-13d61a52f98c"
      },
      "execution_count": 115,
      "outputs": [
        {
          "output_type": "stream",
          "name": "stdout",
          "text": [
            "True\n"
          ]
        }
      ]
    },
    {
      "cell_type": "code",
      "source": [
        "# Question 15 - Create a nested tuple.\n",
        "nested_tuple = ((1, 2), (3, 4), (5, 6))\n",
        "print(nested_tuple)\n"
      ],
      "metadata": {
        "colab": {
          "base_uri": "https://localhost:8080/"
        },
        "id": "O6vE78mt5-Tq",
        "outputId": "345443c0-6b61-4c13-c18d-e2eb12503511"
      },
      "execution_count": 116,
      "outputs": [
        {
          "output_type": "stream",
          "name": "stdout",
          "text": [
            "((1, 2), (3, 4), (5, 6))\n"
          ]
        }
      ]
    },
    {
      "cell_type": "code",
      "source": [
        "# Question 16 - Access the first element of a nested tuple.\n",
        "nested_tuple = ((1, 2), (3, 4), (5, 6))\n",
        "first_element = nested_tuple[0]\n",
        "print(first_element)\n"
      ],
      "metadata": {
        "colab": {
          "base_uri": "https://localhost:8080/"
        },
        "id": "hYPaFRIB5-Z3",
        "outputId": "28ade872-f2da-4a2a-fb98-922c6f6a5fe8"
      },
      "execution_count": 117,
      "outputs": [
        {
          "output_type": "stream",
          "name": "stdout",
          "text": [
            "(1, 2)\n"
          ]
        }
      ]
    },
    {
      "cell_type": "code",
      "source": [
        "# Question 17 - Create a tuple with a single element.\n",
        "single_element_tuple = (1,)\n",
        "print(single_element_tuple)\n"
      ],
      "metadata": {
        "colab": {
          "base_uri": "https://localhost:8080/"
        },
        "id": "pIKLFF_85-hD",
        "outputId": "634c9d56-0ec1-4e54-f805-5da386d469af"
      },
      "execution_count": 118,
      "outputs": [
        {
          "output_type": "stream",
          "name": "stdout",
          "text": [
            "(1,)\n"
          ]
        }
      ]
    },
    {
      "cell_type": "code",
      "source": [
        "# Question 18 - Compare two tuples.\n",
        "tuple1 = (1, 2, 3)\n",
        "tuple2 = (1, 2, 3)\n",
        "are_equal = tuple1 == tuple2\n",
        "print(are_equal)\n"
      ],
      "metadata": {
        "colab": {
          "base_uri": "https://localhost:8080/"
        },
        "id": "3D2QLDyy5-n8",
        "outputId": "170d9c84-cabb-4441-ad5c-adcd93723260"
      },
      "execution_count": 119,
      "outputs": [
        {
          "output_type": "stream",
          "name": "stdout",
          "text": [
            "True\n"
          ]
        }
      ]
    },
    {
      "cell_type": "code",
      "source": [
        "# Question 19 - Delete a tuple.\n",
        "numbers = (1, 2, 3, 4, 5)\n",
        "del numbers\n",
        "# print(numbers)  # This will raise an error because 'numbers' is deleted.\n"
      ],
      "metadata": {
        "id": "m27SYuN75-xL"
      },
      "execution_count": 120,
      "outputs": []
    },
    {
      "cell_type": "code",
      "source": [
        "# Question 20 - Slice a tuple.\n",
        "numbers = (1, 2, 3, 4, 5)\n",
        "sliced = numbers[1:4]\n",
        "print(sliced)\n"
      ],
      "metadata": {
        "colab": {
          "base_uri": "https://localhost:8080/"
        },
        "id": "sUOlavHg5-3c",
        "outputId": "90ca8b2d-44b5-4b72-9b28-c129930a6231"
      },
      "execution_count": 121,
      "outputs": [
        {
          "output_type": "stream",
          "name": "stdout",
          "text": [
            "(2, 3, 4)\n"
          ]
        }
      ]
    },
    {
      "cell_type": "code",
      "source": [
        "# Question 21 - Find the maximum value in a tuple.\n",
        "numbers = (1, 2, 3, 4, 5)\n",
        "max_value = max(numbers)\n",
        "print(max_value)\n"
      ],
      "metadata": {
        "colab": {
          "base_uri": "https://localhost:8080/"
        },
        "id": "-HlxH-gu5--T",
        "outputId": "18c191c4-f3b7-46e6-8f5b-6145bde41637"
      },
      "execution_count": 122,
      "outputs": [
        {
          "output_type": "stream",
          "name": "stdout",
          "text": [
            "5\n"
          ]
        }
      ]
    },
    {
      "cell_type": "code",
      "source": [
        "# Question 22 - Find the minimum value in a tuple.\n",
        "numbers = (1, 2, 3, 4, 5)\n",
        "min_value = min(numbers)\n",
        "print(min_value)\n"
      ],
      "metadata": {
        "colab": {
          "base_uri": "https://localhost:8080/"
        },
        "id": "boISXik05_EX",
        "outputId": "673142c8-780d-43fd-ced8-e070b2b2da98"
      },
      "execution_count": 123,
      "outputs": [
        {
          "output_type": "stream",
          "name": "stdout",
          "text": [
            "1\n"
          ]
        }
      ]
    },
    {
      "cell_type": "code",
      "source": [
        "# Question 23 - Convert a string to a tuple of characters.\n",
        "string = \"hello\"\n",
        "char_tuple = tuple(string)\n",
        "print(char_tuple)\n"
      ],
      "metadata": {
        "colab": {
          "base_uri": "https://localhost:8080/"
        },
        "id": "GK09EbEb5_KY",
        "outputId": "d68aa932-8e0f-4cc4-d92c-cebb30b2d57f"
      },
      "execution_count": 124,
      "outputs": [
        {
          "output_type": "stream",
          "name": "stdout",
          "text": [
            "('h', 'e', 'l', 'l', 'o')\n"
          ]
        }
      ]
    },
    {
      "cell_type": "code",
      "source": [
        "# Question 24 - Convert a tuple of characters to a string.\n",
        "char_tuple = ('h', 'e', 'l', 'l', 'o')\n",
        "string = ''.join(char_tuple)\n",
        "print(string)\n"
      ],
      "metadata": {
        "colab": {
          "base_uri": "https://localhost:8080/"
        },
        "id": "CZXBNxOV5_Qd",
        "outputId": "6e9f7c5a-ff71-4602-d5a2-dd77f8da1b01"
      },
      "execution_count": 125,
      "outputs": [
        {
          "output_type": "stream",
          "name": "stdout",
          "text": [
            "hello\n"
          ]
        }
      ]
    },
    {
      "cell_type": "code",
      "source": [
        "# Question 25 - Create a tuple from multiple data types.\n",
        "mixed_tuple = (1, \"apple\", 3.14, True)\n",
        "print(mixed_tuple)\n"
      ],
      "metadata": {
        "colab": {
          "base_uri": "https://localhost:8080/"
        },
        "id": "8l2D94pR5_Wd",
        "outputId": "418cd9ef-986b-432e-880b-b6e70917e96e"
      },
      "execution_count": 126,
      "outputs": [
        {
          "output_type": "stream",
          "name": "stdout",
          "text": [
            "(1, 'apple', 3.14, True)\n"
          ]
        }
      ]
    },
    {
      "cell_type": "code",
      "source": [
        "# Question 26 - Check if two tuples are identical.\n",
        "tuple1 = (1, 2, 3)\n",
        "tuple2 = (1, 2, 3)\n",
        "are_identical = tuple1 == tuple2\n",
        "print(are_identical)\n"
      ],
      "metadata": {
        "colab": {
          "base_uri": "https://localhost:8080/"
        },
        "id": "yh9TvYrD5_d8",
        "outputId": "30f257ba-aeb9-47a5-a50d-e3e77efa34ed"
      },
      "execution_count": 127,
      "outputs": [
        {
          "output_type": "stream",
          "name": "stdout",
          "text": [
            "True\n"
          ]
        }
      ]
    },
    {
      "cell_type": "code",
      "source": [
        "# Question 27 - Sort the elements of a tuple.\n",
        "numbers = (5, 3, 1, 4, 2)\n",
        "sorted_tuple = tuple(sorted(numbers))\n",
        "print(sorted_tuple)\n"
      ],
      "metadata": {
        "colab": {
          "base_uri": "https://localhost:8080/"
        },
        "id": "OUAj-Ays5_kH",
        "outputId": "fbf113d8-6d37-4bc1-bd40-91d8585eba90"
      },
      "execution_count": 128,
      "outputs": [
        {
          "output_type": "stream",
          "name": "stdout",
          "text": [
            "(1, 2, 3, 4, 5)\n"
          ]
        }
      ]
    },
    {
      "cell_type": "code",
      "source": [
        "# Question 28 - Convert a tuple of integers to a tuple of strings.\n",
        "numbers = (1, 2, 3, 4, 5)\n",
        "string_tuple = tuple(map(str, numbers))\n",
        "print(string_tuple)\n"
      ],
      "metadata": {
        "colab": {
          "base_uri": "https://localhost:8080/"
        },
        "id": "cgZMJE-P5_pd",
        "outputId": "d1ba72fd-f786-41eb-84fc-42e31d18040d"
      },
      "execution_count": 129,
      "outputs": [
        {
          "output_type": "stream",
          "name": "stdout",
          "text": [
            "('1', '2', '3', '4', '5')\n"
          ]
        }
      ]
    },
    {
      "cell_type": "code",
      "source": [
        "# Question 29 - Convert a tuple of strings to a tuple of integers.\n",
        "string_tuple = ('1', '2', '3', '4', '5')\n",
        "int_tuple = tuple(map(int, string_tuple))\n",
        "print(int_tuple)\n"
      ],
      "metadata": {
        "colab": {
          "base_uri": "https://localhost:8080/"
        },
        "id": "mpjYtS_Z5_vN",
        "outputId": "f6c54b71-5500-494d-98e5-8fb3ab99649c"
      },
      "execution_count": 130,
      "outputs": [
        {
          "output_type": "stream",
          "name": "stdout",
          "text": [
            "(1, 2, 3, 4, 5)\n"
          ]
        }
      ]
    },
    {
      "cell_type": "code",
      "source": [
        "# Question 30 - Merge two tuples.\n",
        "tuple1 = (1, 2, 3)\n",
        "tuple2 = (4, 5, 6)\n",
        "merged_tuple = tuple1 + tuple2\n",
        "print(merged_tuple)\n"
      ],
      "metadata": {
        "colab": {
          "base_uri": "https://localhost:8080/"
        },
        "id": "4HN1aiO25_1u",
        "outputId": "5682fb77-3625-4e36-de80-56858b950d8f"
      },
      "execution_count": 131,
      "outputs": [
        {
          "output_type": "stream",
          "name": "stdout",
          "text": [
            "(1, 2, 3, 4, 5, 6)\n"
          ]
        }
      ]
    },
    {
      "cell_type": "code",
      "source": [
        "# Question 31 - Flatten a nested tuple.\n",
        "nested_tuple = ((1, 2), (3, 4), (5, 6))\n",
        "flattened_tuple = tuple(item for subtuple in nested_tuple for item in subtuple)\n",
        "print(flattened_tuple)\n"
      ],
      "metadata": {
        "colab": {
          "base_uri": "https://localhost:8080/"
        },
        "id": "dfInneqm5_9X",
        "outputId": "4f66a2aa-f3c1-4444-e6b3-87901e6f8d8f"
      },
      "execution_count": 132,
      "outputs": [
        {
          "output_type": "stream",
          "name": "stdout",
          "text": [
            "(1, 2, 3, 4, 5, 6)\n"
          ]
        }
      ]
    },
    {
      "cell_type": "code",
      "source": [
        "# Question 32 - Create a tuple of the first 5 prime numbers.\n",
        "def is_prime(n):\n",
        "    if n <= 1:\n",
        "        return False\n",
        "    for i in range(2, int(n**0.5) + 1):\n",
        "        if n % i == 0:\n",
        "            return False\n",
        "    return True\n",
        "\n",
        "primes = tuple(x for x in range(1, 15) if is_prime(x))[:5]\n",
        "print(primes)\n"
      ],
      "metadata": {
        "colab": {
          "base_uri": "https://localhost:8080/"
        },
        "id": "fcQ7UmqV6AEA",
        "outputId": "240793dd-494b-4183-8d42-3ca56d71c82b"
      },
      "execution_count": 133,
      "outputs": [
        {
          "output_type": "stream",
          "name": "stdout",
          "text": [
            "(2, 3, 5, 7, 11)\n"
          ]
        }
      ]
    },
    {
      "cell_type": "code",
      "source": [
        "# Question 33 - Check if a tuple is a palindrome.\n",
        "numbers = (1, 2, 3, 2, 1)\n",
        "is_palindrome = numbers == numbers[::-1]\n",
        "print(is_palindrome)\n"
      ],
      "metadata": {
        "colab": {
          "base_uri": "https://localhost:8080/"
        },
        "id": "aqafH5Jo6ALM",
        "outputId": "31082c5c-22d6-4008-d376-147ca07d65dc"
      },
      "execution_count": 134,
      "outputs": [
        {
          "output_type": "stream",
          "name": "stdout",
          "text": [
            "True\n"
          ]
        }
      ]
    },
    {
      "cell_type": "code",
      "source": [
        "# Question 34 - Create a tuple of squares of numbers from 1 to 5.\n",
        "squares = tuple(x**2 for x in range(1, 6))\n",
        "print(squares)\n"
      ],
      "metadata": {
        "colab": {
          "base_uri": "https://localhost:8080/"
        },
        "id": "6u8v-Kt56AR6",
        "outputId": "655127ad-4ada-4dae-ec7a-c8743ddd7398"
      },
      "execution_count": 135,
      "outputs": [
        {
          "output_type": "stream",
          "name": "stdout",
          "text": [
            "(1, 4, 9, 16, 25)\n"
          ]
        }
      ]
    },
    {
      "cell_type": "code",
      "source": [
        "# Question 35 - Filter out all even numbers from a tuple.\n",
        "numbers = (1, 2, 3, 4, 5, 6)\n",
        "odd_numbers = tuple(x for x in numbers if x % 2 != 0)\n",
        "print(odd_numbers)\n"
      ],
      "metadata": {
        "colab": {
          "base_uri": "https://localhost:8080/"
        },
        "id": "4YgX-ShH6AZW",
        "outputId": "96b71192-1a25-4678-c859-35bdb1556585"
      },
      "execution_count": 136,
      "outputs": [
        {
          "output_type": "stream",
          "name": "stdout",
          "text": [
            "(1, 3, 5)\n"
          ]
        }
      ]
    },
    {
      "cell_type": "code",
      "source": [
        "# Question 36 - Multiply all elements in a tuple by 2.\n",
        "numbers = (1, 2, 3, 4, 5)\n",
        "doubled_numbers = tuple(x * 2 for x in numbers)\n",
        "print(doubled_numbers)\n"
      ],
      "metadata": {
        "colab": {
          "base_uri": "https://localhost:8080/"
        },
        "id": "xpEfgsFM6Ag9",
        "outputId": "dba196c7-b4a3-4aba-ea8c-fd214cbbc9ba"
      },
      "execution_count": 137,
      "outputs": [
        {
          "output_type": "stream",
          "name": "stdout",
          "text": [
            "(2, 4, 6, 8, 10)\n"
          ]
        }
      ]
    },
    {
      "cell_type": "code",
      "source": [
        "# Question 37 - Create a tuple of random numbers.\n",
        "import random\n",
        "random_numbers = tuple(random.randint(1, 100) for _ in range(10))\n",
        "print(random_numbers)\n"
      ],
      "metadata": {
        "colab": {
          "base_uri": "https://localhost:8080/"
        },
        "id": "f01_b8SL6An_",
        "outputId": "4e6b4df8-cb62-440e-8894-ebfdc4426c3c"
      },
      "execution_count": 138,
      "outputs": [
        {
          "output_type": "stream",
          "name": "stdout",
          "text": [
            "(78, 58, 4, 41, 62, 3, 35, 89, 67, 77)\n"
          ]
        }
      ]
    },
    {
      "cell_type": "code",
      "source": [
        "# Question 38 - Check if a tuple is sorted.\n",
        "numbers = (1, 2, 3, 4, 5)\n",
        "is_sorted = all(numbers[i] <= numbers[i+1] for i in range(len(numbers)-1))\n",
        "print(is_sorted)\n"
      ],
      "metadata": {
        "colab": {
          "base_uri": "https://localhost:8080/"
        },
        "id": "lWxw_ZYA6Ave",
        "outputId": "ad80eb71-47a8-424f-9710-52d4a0401bb0"
      },
      "execution_count": 139,
      "outputs": [
        {
          "output_type": "stream",
          "name": "stdout",
          "text": [
            "True\n"
          ]
        }
      ]
    },
    {
      "cell_type": "code",
      "source": [
        "# Question 39 - Rotate a tuple to the left by `n` positions.\n",
        "def rotate_left(tpl, n):\n",
        "    return tpl[n:] + tpl[:n]\n",
        "\n",
        "numbers = (1, 2, 3, 4, 5)\n",
        "rotated = rotate_left(numbers, 2)\n",
        "print(rotated)\n"
      ],
      "metadata": {
        "colab": {
          "base_uri": "https://localhost:8080/"
        },
        "id": "HAcBQIPL6A2o",
        "outputId": "76b9c70b-1e92-45bc-ddc9-6fab37be180c"
      },
      "execution_count": 140,
      "outputs": [
        {
          "output_type": "stream",
          "name": "stdout",
          "text": [
            "(3, 4, 5, 1, 2)\n"
          ]
        }
      ]
    },
    {
      "cell_type": "code",
      "source": [
        "# Question 40 - Rotate a tuple to the right by `n` positions.\n",
        "def rotate_right(tpl, n):\n",
        "    return tpl[-n:] + tpl[:-n]\n",
        "\n",
        "numbers = (1, 2, 3, 4, 5)\n",
        "rotated = rotate_right(numbers, 2)\n",
        "print(rotated)\n"
      ],
      "metadata": {
        "colab": {
          "base_uri": "https://localhost:8080/"
        },
        "id": "1TDgRcrM6A99",
        "outputId": "5a3c3bff-6dba-4f79-b5cc-d8c2a381f7f5"
      },
      "execution_count": 141,
      "outputs": [
        {
          "output_type": "stream",
          "name": "stdout",
          "text": [
            "(4, 5, 1, 2, 3)\n"
          ]
        }
      ]
    },
    {
      "cell_type": "code",
      "source": [
        "# Question 41 - Create a tuple of the first 5 Fibonacci numbers.\n",
        "def fibonacci(n):\n",
        "    fib = [0, 1]\n",
        "    for i in range(2, n):\n",
        "        fib.append(fib[i-1] + fib[i-2])\n",
        "    return tuple(fib)\n",
        "\n",
        "print(fibonacci(5))\n"
      ],
      "metadata": {
        "colab": {
          "base_uri": "https://localhost:8080/"
        },
        "id": "W-oJehXo6BFj",
        "outputId": "d8c710b3-fb8f-4180-85bf-2de134ad86fb"
      },
      "execution_count": 142,
      "outputs": [
        {
          "output_type": "stream",
          "name": "stdout",
          "text": [
            "(0, 1, 1, 2, 3)\n"
          ]
        }
      ]
    },
    {
      "cell_type": "code",
      "source": [
        "# Question 42 - Create a tuple from user input.\n",
        "user_input = tuple(input(\"Enter values separated by spaces: \").split())\n",
        "print(user_input)\n"
      ],
      "metadata": {
        "colab": {
          "base_uri": "https://localhost:8080/"
        },
        "id": "iB8TkaMH6BNm",
        "outputId": "e2af2cf7-cdc7-4f1b-d8cf-92e70efe43ae"
      },
      "execution_count": 143,
      "outputs": [
        {
          "output_type": "stream",
          "name": "stdout",
          "text": [
            "Enter values separated by spaces: 1,2\n",
            "('1,2',)\n"
          ]
        }
      ]
    },
    {
      "cell_type": "code",
      "source": [
        "# Question 43 - Swap two elements in a tuple.\n",
        "def swap_elements(tpl, index1, index2):\n",
        "    tpl = list(tpl)\n",
        "    tpl[index1], tpl[index2] = tpl[index2], tpl[index1]\n",
        "    return tuple(tpl)\n",
        "\n",
        "numbers = (1, 2, 3, 4, 5)\n",
        "print(swap_elements(numbers, 1, 3))\n"
      ],
      "metadata": {
        "colab": {
          "base_uri": "https://localhost:8080/"
        },
        "id": "NqX-FMK96BWW",
        "outputId": "99cefbd9-08d1-47dd-a49b-fa04c6623df7"
      },
      "execution_count": 144,
      "outputs": [
        {
          "output_type": "stream",
          "name": "stdout",
          "text": [
            "(1, 4, 3, 2, 5)\n"
          ]
        }
      ]
    },
    {
      "cell_type": "code",
      "source": [
        "# Question 44 - Reverse the elements of a tuple.\n",
        "numbers = (1, 2, 3, 4, 5)\n",
        "reversed_tuple = numbers[::-1]\n",
        "print(reversed_tuple)\n"
      ],
      "metadata": {
        "colab": {
          "base_uri": "https://localhost:8080/"
        },
        "id": "_zZXmur-6BfI",
        "outputId": "c0406a2a-7a0b-4191-d718-8c178c9dd461"
      },
      "execution_count": 145,
      "outputs": [
        {
          "output_type": "stream",
          "name": "stdout",
          "text": [
            "(5, 4, 3, 2, 1)\n"
          ]
        }
      ]
    },
    {
      "cell_type": "code",
      "source": [
        "# Question 45 - Create a tuple of the first `n` powers of 2.\n",
        "n = 5\n",
        "powers_of_two = tuple(2**x for x in range(n))\n",
        "print(powers_of_two)\n"
      ],
      "metadata": {
        "colab": {
          "base_uri": "https://localhost:8080/"
        },
        "id": "4CVtag0B6Bor",
        "outputId": "94dca187-2c11-49e3-edb7-95e110b558d8"
      },
      "execution_count": 146,
      "outputs": [
        {
          "output_type": "stream",
          "name": "stdout",
          "text": [
            "(1, 2, 4, 8, 16)\n"
          ]
        }
      ]
    },
    {
      "cell_type": "code",
      "source": [
        "# Question 46 - Find the longest string in a tuple of strings.\n",
        "strings = (\"apple\", \"banana\", \"kiwi\", \"orange\")\n",
        "longest_string = max(strings, key=len)\n",
        "print(longest_string)\n"
      ],
      "metadata": {
        "colab": {
          "base_uri": "https://localhost:8080/"
        },
        "id": "Qj1r3eL96Bwk",
        "outputId": "c7ae0a0f-7156-40b1-f50b-8cab3dbca889"
      },
      "execution_count": 147,
      "outputs": [
        {
          "output_type": "stream",
          "name": "stdout",
          "text": [
            "banana\n"
          ]
        }
      ]
    },
    {
      "cell_type": "code",
      "source": [
        "# Question 47 - Find the shortest string in a tuple of strings.\n",
        "strings = (\"apple\", \"banana\", \"kiwi\", \"orange\")\n",
        "shortest_string = min(strings, key=len)\n",
        "print(shortest_string)\n"
      ],
      "metadata": {
        "colab": {
          "base_uri": "https://localhost:8080/"
        },
        "id": "iTnz9_yA6B5J",
        "outputId": "e4dda39a-2b62-43f2-dcc3-c93f11bb99c6"
      },
      "execution_count": 148,
      "outputs": [
        {
          "output_type": "stream",
          "name": "stdout",
          "text": [
            "kiwi\n"
          ]
        }
      ]
    },
    {
      "cell_type": "code",
      "source": [
        "# Question 48 - Create a tuple of the first `n` triangular numbers.\n",
        "def triangular_numbers(n):\n",
        "    return tuple(sum(range(1, x+1)) for x in range(1, n+1))\n",
        "\n",
        "print(triangular_numbers(5))\n"
      ],
      "metadata": {
        "colab": {
          "base_uri": "https://localhost:8080/"
        },
        "id": "7YeMRUC66CBR",
        "outputId": "76791d46-7787-45ca-dab8-7ddf845dad91"
      },
      "execution_count": 149,
      "outputs": [
        {
          "output_type": "stream",
          "name": "stdout",
          "text": [
            "(1, 3, 6, 10, 15)\n"
          ]
        }
      ]
    },
    {
      "cell_type": "code",
      "source": [
        "# Question 49 - Check if a tuple contains another tuple as a subsequence.\n",
        "def is_subsequence(tpl1, tpl2):\n",
        "    it = iter(tpl1)\n",
        "    return all(item in it for item in tpl2)\n",
        "\n",
        "tpl1 = (1, 2, 3, 4, 5)\n",
        "tpl2 = (2, 4)\n",
        "print(is_subsequence(tpl1, tpl2))\n"
      ],
      "metadata": {
        "colab": {
          "base_uri": "https://localhost:8080/"
        },
        "id": "g0uc3_BT6CKF",
        "outputId": "1455cfe3-5051-42ff-d8dc-c96ca28cb2fc"
      },
      "execution_count": 150,
      "outputs": [
        {
          "output_type": "stream",
          "name": "stdout",
          "text": [
            "True\n"
          ]
        }
      ]
    },
    {
      "cell_type": "code",
      "source": [
        "# Question 50 - Create a tuple of alternating 1s and 0s of length `n`.\n",
        "n = 6\n",
        "alternating = tuple(1 if i % 2 == 0 else 0 for i in range(n))\n",
        "print(alternating)\n"
      ],
      "metadata": {
        "colab": {
          "base_uri": "https://localhost:8080/"
        },
        "id": "mvLe2gbK6CTV",
        "outputId": "0ef62c24-35e6-4921-f479-2b78a8f0bd09"
      },
      "execution_count": 151,
      "outputs": [
        {
          "output_type": "stream",
          "name": "stdout",
          "text": [
            "(1, 0, 1, 0, 1, 0)\n"
          ]
        }
      ]
    },
    {
      "cell_type": "markdown",
      "source": [
        "**Set Based Practice Problem :**"
      ],
      "metadata": {
        "id": "0-DC402P7VKz"
      }
    },
    {
      "cell_type": "code",
      "source": [
        "# Question 1 - Create a set with integers from 1 to 5.\n",
        "numbers = {1, 2, 3, 4, 5}\n",
        "print(numbers)\n"
      ],
      "metadata": {
        "colab": {
          "base_uri": "https://localhost:8080/"
        },
        "id": "oUu21JiP7hIs",
        "outputId": "2bb97371-504f-487e-a40a-77606f7f4113"
      },
      "execution_count": 152,
      "outputs": [
        {
          "output_type": "stream",
          "name": "stdout",
          "text": [
            "{1, 2, 3, 4, 5}\n"
          ]
        }
      ]
    },
    {
      "cell_type": "code",
      "source": [
        "# Question 2 - Add an element to a set.\n",
        "numbers = {1, 2, 3, 4, 5}\n",
        "numbers.add(6)\n",
        "print(numbers)\n"
      ],
      "metadata": {
        "colab": {
          "base_uri": "https://localhost:8080/"
        },
        "id": "7boiYcE37hU2",
        "outputId": "a5184636-fa4b-4ab7-fb60-d62a0af43beb"
      },
      "execution_count": 153,
      "outputs": [
        {
          "output_type": "stream",
          "name": "stdout",
          "text": [
            "{1, 2, 3, 4, 5, 6}\n"
          ]
        }
      ]
    },
    {
      "cell_type": "code",
      "source": [
        "# Question 3 - Remove an element from a set.\n",
        "numbers = {1, 2, 3, 4, 5}\n",
        "numbers.remove(3)\n",
        "print(numbers)\n"
      ],
      "metadata": {
        "colab": {
          "base_uri": "https://localhost:8080/"
        },
        "id": "TnmBzFU17he7",
        "outputId": "044b28f7-0037-4d29-f008-099a375f9472"
      },
      "execution_count": 154,
      "outputs": [
        {
          "output_type": "stream",
          "name": "stdout",
          "text": [
            "{1, 2, 4, 5}\n"
          ]
        }
      ]
    },
    {
      "cell_type": "code",
      "source": [
        "# Question 4 - Check if an element exists in a set.\n",
        "numbers = {1, 2, 3, 4, 5}\n",
        "exists = 3 in numbers\n",
        "print(exists)\n"
      ],
      "metadata": {
        "colab": {
          "base_uri": "https://localhost:8080/"
        },
        "id": "-4fDjvKD7hnS",
        "outputId": "440910e6-0ba7-4d93-90d9-7732e5ed1e43"
      },
      "execution_count": 155,
      "outputs": [
        {
          "output_type": "stream",
          "name": "stdout",
          "text": [
            "True\n"
          ]
        }
      ]
    },
    {
      "cell_type": "code",
      "source": [
        "# Question 5 - Find the length of a set without using the `len()` function.\n",
        "def set_length(s):\n",
        "    count = 0\n",
        "    for _ in s:\n",
        "        count += 1\n",
        "    return count\n",
        "\n",
        "numbers = {1, 2, 3, 4, 5}\n",
        "print(set_length(numbers))\n"
      ],
      "metadata": {
        "colab": {
          "base_uri": "https://localhost:8080/"
        },
        "id": "avSKGSE27hvQ",
        "outputId": "6b85f1a2-9566-49cc-ee5e-c355d3a800a0"
      },
      "execution_count": 156,
      "outputs": [
        {
          "output_type": "stream",
          "name": "stdout",
          "text": [
            "5\n"
          ]
        }
      ]
    },
    {
      "cell_type": "code",
      "source": [
        "# Question 6 - Clear all elements from a set.\n",
        "numbers = {1, 2, 3, 4, 5}\n",
        "numbers.clear()\n",
        "print(numbers)\n"
      ],
      "metadata": {
        "colab": {
          "base_uri": "https://localhost:8080/"
        },
        "id": "iC4jR5JT7h3B",
        "outputId": "e77ac679-2d5e-46e7-a001-f4934be25a2b"
      },
      "execution_count": 157,
      "outputs": [
        {
          "output_type": "stream",
          "name": "stdout",
          "text": [
            "set()\n"
          ]
        }
      ]
    },
    {
      "cell_type": "code",
      "source": [
        "# Question 7 - Create a set of even numbers from 1 to 10.\n",
        "even_numbers = {x for x in range(1, 11) if x % 2 == 0}\n",
        "print(even_numbers)\n"
      ],
      "metadata": {
        "colab": {
          "base_uri": "https://localhost:8080/"
        },
        "id": "mGT4n2m-7h-l",
        "outputId": "3706265e-62e2-4ca5-999b-d121ed73ec23"
      },
      "execution_count": 158,
      "outputs": [
        {
          "output_type": "stream",
          "name": "stdout",
          "text": [
            "{2, 4, 6, 8, 10}\n"
          ]
        }
      ]
    },
    {
      "cell_type": "code",
      "source": [
        "# Question 8 - Create a set of odd numbers from 1 to 10.\n",
        "odd_numbers = {x for x in range(1, 11) if x % 2 != 0}\n",
        "print(odd_numbers)\n"
      ],
      "metadata": {
        "colab": {
          "base_uri": "https://localhost:8080/"
        },
        "id": "nyDf8qTL7iGp",
        "outputId": "c66668be-f2ba-4a05-bc3c-e1cdcc2acd3f"
      },
      "execution_count": 159,
      "outputs": [
        {
          "output_type": "stream",
          "name": "stdout",
          "text": [
            "{1, 3, 5, 7, 9}\n"
          ]
        }
      ]
    },
    {
      "cell_type": "code",
      "source": [
        "# Question 9 - Find the union of two sets.\n",
        "set1 = {1, 2, 3}\n",
        "set2 = {3, 4, 5}\n",
        "union = set1 | set2\n",
        "print(union)\n"
      ],
      "metadata": {
        "colab": {
          "base_uri": "https://localhost:8080/"
        },
        "id": "SYK8poD27iOC",
        "outputId": "631ee3b8-c9c5-4cd6-db7f-848eeaa52744"
      },
      "execution_count": 160,
      "outputs": [
        {
          "output_type": "stream",
          "name": "stdout",
          "text": [
            "{1, 2, 3, 4, 5}\n"
          ]
        }
      ]
    },
    {
      "cell_type": "code",
      "source": [
        "# Question 10 - Find the intersection of two sets.\n",
        "set1 = {1, 2, 3}\n",
        "set2 = {3, 4, 5}\n",
        "intersection = set1 & set2\n",
        "print(intersection)\n"
      ],
      "metadata": {
        "colab": {
          "base_uri": "https://localhost:8080/"
        },
        "id": "6STM958t7iVs",
        "outputId": "b4b3a867-909b-4f6c-d43e-9e7cdeb63b10"
      },
      "execution_count": 161,
      "outputs": [
        {
          "output_type": "stream",
          "name": "stdout",
          "text": [
            "{3}\n"
          ]
        }
      ]
    },
    {
      "cell_type": "code",
      "source": [
        "# Question 11 - Find the difference between two sets.\n",
        "set1 = {1, 2, 3}\n",
        "set2 = {3, 4, 5}\n",
        "difference = set1 - set2\n",
        "print(difference)\n"
      ],
      "metadata": {
        "colab": {
          "base_uri": "https://localhost:8080/"
        },
        "id": "aEA1eWn37ids",
        "outputId": "2236e5f3-170a-4e5e-f735-4f8a80f32440"
      },
      "execution_count": 162,
      "outputs": [
        {
          "output_type": "stream",
          "name": "stdout",
          "text": [
            "{1, 2}\n"
          ]
        }
      ]
    },
    {
      "cell_type": "code",
      "source": [
        "# Question 12 - Check if a set is a subset of another set.\n",
        "set1 = {1, 2}\n",
        "set2 = {1, 2, 3, 4}\n",
        "is_subset = set1.issubset(set2)\n",
        "print(is_subset)\n"
      ],
      "metadata": {
        "colab": {
          "base_uri": "https://localhost:8080/"
        },
        "id": "8mP7Q2t67ilX",
        "outputId": "0cfec918-6d5b-4f7d-889c-4982c45ea280"
      },
      "execution_count": 163,
      "outputs": [
        {
          "output_type": "stream",
          "name": "stdout",
          "text": [
            "True\n"
          ]
        }
      ]
    },
    {
      "cell_type": "code",
      "source": [
        "# Question 13 - Check if a set is a superset of another set.\n",
        "set1 = {1, 2, 3, 4}\n",
        "set2 = {1, 2}\n",
        "is_superset = set1.issuperset(set2)\n",
        "print(is_superset)\n"
      ],
      "metadata": {
        "colab": {
          "base_uri": "https://localhost:8080/"
        },
        "id": "5Io1vTei7itN",
        "outputId": "9d10df37-f4ad-4025-ff48-88799275850d"
      },
      "execution_count": 164,
      "outputs": [
        {
          "output_type": "stream",
          "name": "stdout",
          "text": [
            "True\n"
          ]
        }
      ]
    },
    {
      "cell_type": "code",
      "source": [
        "# Question 14 - Create a set from a list.\n",
        "numbers_list = [1, 2, 3, 4, 5]\n",
        "numbers_set = set(numbers_list)\n",
        "print(numbers_set)\n"
      ],
      "metadata": {
        "colab": {
          "base_uri": "https://localhost:8080/"
        },
        "id": "ysor4Tl87i03",
        "outputId": "88d0285a-6996-40fa-8841-33e88ed9c6e5"
      },
      "execution_count": 165,
      "outputs": [
        {
          "output_type": "stream",
          "name": "stdout",
          "text": [
            "{1, 2, 3, 4, 5}\n"
          ]
        }
      ]
    },
    {
      "cell_type": "code",
      "source": [
        "# Question 15 - Convert a set to a list.\n",
        "numbers_set = {1, 2, 3, 4, 5}\n",
        "numbers_list = list(numbers_set)\n",
        "print(numbers_list)\n"
      ],
      "metadata": {
        "colab": {
          "base_uri": "https://localhost:8080/"
        },
        "id": "wxhgSXBy7i8F",
        "outputId": "b5b011e4-d6bf-4165-f202-2ff0bc9a005d"
      },
      "execution_count": 166,
      "outputs": [
        {
          "output_type": "stream",
          "name": "stdout",
          "text": [
            "[1, 2, 3, 4, 5]\n"
          ]
        }
      ]
    },
    {
      "cell_type": "code",
      "source": [
        "# Question 16 - Remove a random element from a set.\n",
        "import random\n",
        "numbers = {1, 2, 3, 4, 5}\n",
        "random_element = random.choice(list(numbers))\n",
        "numbers.remove(random_element)\n",
        "print(numbers)\n"
      ],
      "metadata": {
        "colab": {
          "base_uri": "https://localhost:8080/"
        },
        "id": "VKxZkAJe7jB0",
        "outputId": "8fb0d76c-de53-40fa-e765-029d06df0cac"
      },
      "execution_count": 167,
      "outputs": [
        {
          "output_type": "stream",
          "name": "stdout",
          "text": [
            "{1, 3, 4, 5}\n"
          ]
        }
      ]
    },
    {
      "cell_type": "code",
      "source": [
        "# Question 17 - Pop an element from a set.\n",
        "numbers = {1, 2, 3, 4, 5}\n",
        "popped_element = numbers.pop()\n",
        "print(popped_element, numbers)\n"
      ],
      "metadata": {
        "colab": {
          "base_uri": "https://localhost:8080/"
        },
        "id": "iQwN5QRj7jHF",
        "outputId": "5f0bcfe8-b050-4527-d62b-9259163f45e3"
      },
      "execution_count": 168,
      "outputs": [
        {
          "output_type": "stream",
          "name": "stdout",
          "text": [
            "1 {2, 3, 4, 5}\n"
          ]
        }
      ]
    },
    {
      "cell_type": "code",
      "source": [
        "# Question 18 - Check if two sets have no elements in common.\n",
        "set1 = {1, 2, 3}\n",
        "set2 = {4, 5, 6}\n",
        "no_common = set1.isdisjoint(set2)\n",
        "print(no_common)\n"
      ],
      "metadata": {
        "colab": {
          "base_uri": "https://localhost:8080/"
        },
        "id": "SoJcPoEM7jLo",
        "outputId": "0673bf46-ccd0-4ce9-8296-be3e01c432f2"
      },
      "execution_count": 169,
      "outputs": [
        {
          "output_type": "stream",
          "name": "stdout",
          "text": [
            "True\n"
          ]
        }
      ]
    },
    {
      "cell_type": "code",
      "source": [
        "# Question 19 - Find the symmetric difference between two sets.\n",
        "set1 = {1, 2, 3}\n",
        "set2 = {3, 4, 5}\n",
        "symmetric_diff = set1 ^ set2\n",
        "print(symmetric_diff)\n"
      ],
      "metadata": {
        "colab": {
          "base_uri": "https://localhost:8080/"
        },
        "id": "tFENqvEW7jQB",
        "outputId": "99a488a9-e47e-4749-faf0-c88b938aa4e9"
      },
      "execution_count": 170,
      "outputs": [
        {
          "output_type": "stream",
          "name": "stdout",
          "text": [
            "{1, 2, 4, 5}\n"
          ]
        }
      ]
    },
    {
      "cell_type": "code",
      "source": [
        "# Question 20 - Update a set with elements from another set.\n",
        "set1 = {1, 2, 3}\n",
        "set2 = {4, 5, 6}\n",
        "set1.update(set2)\n",
        "print(set1)\n"
      ],
      "metadata": {
        "colab": {
          "base_uri": "https://localhost:8080/"
        },
        "id": "icAoJ2777jTa",
        "outputId": "6102a57a-b0f1-4fbe-c8c6-383a722e9da5"
      },
      "execution_count": 171,
      "outputs": [
        {
          "output_type": "stream",
          "name": "stdout",
          "text": [
            "{1, 2, 3, 4, 5, 6}\n"
          ]
        }
      ]
    },
    {
      "cell_type": "code",
      "source": [
        "# Question 21 - Create a set of the first 5 prime numbers.\n",
        "def is_prime(n):\n",
        "    if n <= 1:\n",
        "        return False\n",
        "    for i in range(2, int(n**0.5) + 1):\n",
        "        if n % i == 0:\n",
        "            return False\n",
        "    return True\n",
        "\n",
        "primes = {x for x in range(1, 20) if is_prime(x)}\n",
        "primes = set(list(primes)[:5])\n",
        "print(primes)\n"
      ],
      "metadata": {
        "colab": {
          "base_uri": "https://localhost:8080/"
        },
        "id": "yxFRhrU97jWs",
        "outputId": "88403bd5-f8e6-4288-a4f3-648949a41c9a"
      },
      "execution_count": 172,
      "outputs": [
        {
          "output_type": "stream",
          "name": "stdout",
          "text": [
            "{2, 3, 5, 7, 11}\n"
          ]
        }
      ]
    },
    {
      "cell_type": "code",
      "source": [
        "# Question 22 - Check if two sets are identical.\n",
        "set1 = {1, 2, 3}\n",
        "set2 = {1, 2, 3}\n",
        "are_identical = set1 == set2\n",
        "print(are_identical)\n"
      ],
      "metadata": {
        "colab": {
          "base_uri": "https://localhost:8080/"
        },
        "id": "-7HHVOyS7jZx",
        "outputId": "d72950e9-8dbb-47f0-9853-6350acb13d60"
      },
      "execution_count": 173,
      "outputs": [
        {
          "output_type": "stream",
          "name": "stdout",
          "text": [
            "True\n"
          ]
        }
      ]
    },
    {
      "cell_type": "code",
      "source": [
        "# Question 23 - Create a frozen set.\n",
        "frozen_set = frozenset([1, 2, 3, 4, 5])\n",
        "print(frozen_set)\n"
      ],
      "metadata": {
        "colab": {
          "base_uri": "https://localhost:8080/"
        },
        "id": "vFy9PYVN7jds",
        "outputId": "8f9664ae-4dbd-4d4b-8c7d-85252aee94e2"
      },
      "execution_count": 174,
      "outputs": [
        {
          "output_type": "stream",
          "name": "stdout",
          "text": [
            "frozenset({1, 2, 3, 4, 5})\n"
          ]
        }
      ]
    },
    {
      "cell_type": "code",
      "source": [
        "# Question 24 - Check if a set is disjoint with another set.\n",
        "set1 = {1, 2, 3}\n",
        "set2 = {4, 5, 6}\n",
        "is_disjoint = set1.isdisjoint(set2)\n",
        "print(is_disjoint)\n"
      ],
      "metadata": {
        "colab": {
          "base_uri": "https://localhost:8080/"
        },
        "id": "wrd49pT07jkg",
        "outputId": "5e25a69e-5865-4e26-f6c3-14e3879a1371"
      },
      "execution_count": 175,
      "outputs": [
        {
          "output_type": "stream",
          "name": "stdout",
          "text": [
            "True\n"
          ]
        }
      ]
    },
    {
      "cell_type": "code",
      "source": [
        "# Question 25 - Create a set of squares of numbers from 1 to 5.\n",
        "squares = {x**2 for x in range(1, 6)}\n",
        "print(squares)\n"
      ],
      "metadata": {
        "colab": {
          "base_uri": "https://localhost:8080/"
        },
        "id": "_Mzs5o_g7j1b",
        "outputId": "4d250e36-d7e3-45da-8d7b-4db89589ae28"
      },
      "execution_count": 176,
      "outputs": [
        {
          "output_type": "stream",
          "name": "stdout",
          "text": [
            "{1, 4, 9, 16, 25}\n"
          ]
        }
      ]
    },
    {
      "cell_type": "code",
      "source": [
        "# Question 26 - Filter out all even numbers from a set.\n",
        "numbers = {1, 2, 3, 4, 5, 6}\n",
        "odd_numbers = {x for x in numbers if x % 2 != 0}\n",
        "print(odd_numbers)\n"
      ],
      "metadata": {
        "colab": {
          "base_uri": "https://localhost:8080/"
        },
        "id": "vSVFcTGO7j_4",
        "outputId": "cec0b36e-7e21-4bf4-a605-7ece8d5475ce"
      },
      "execution_count": 177,
      "outputs": [
        {
          "output_type": "stream",
          "name": "stdout",
          "text": [
            "{1, 3, 5}\n"
          ]
        }
      ]
    },
    {
      "cell_type": "code",
      "source": [
        "# Question 27 - Multiply all elements in a set by 2.\n",
        "numbers = {1, 2, 3, 4, 5}\n",
        "doubled = {x * 2 for x in numbers}\n",
        "print(doubled)\n"
      ],
      "metadata": {
        "colab": {
          "base_uri": "https://localhost:8080/"
        },
        "id": "2PnmhuQz7kFl",
        "outputId": "7097eae4-7f46-4316-acc9-372f2202d61c"
      },
      "execution_count": 178,
      "outputs": [
        {
          "output_type": "stream",
          "name": "stdout",
          "text": [
            "{2, 4, 6, 8, 10}\n"
          ]
        }
      ]
    },
    {
      "cell_type": "code",
      "source": [
        "# Question 28 - Create a set of random numbers.\n",
        "import random\n",
        "random_numbers = {random.randint(1, 100) for _ in range(10)}\n",
        "print(random_numbers)\n"
      ],
      "metadata": {
        "colab": {
          "base_uri": "https://localhost:8080/"
        },
        "id": "6D7CB0z-7kJo",
        "outputId": "c3bad0b0-17e6-489f-d208-961ee13bf594"
      },
      "execution_count": 179,
      "outputs": [
        {
          "output_type": "stream",
          "name": "stdout",
          "text": [
            "{3, 73, 75, 48, 53, 55, 58, 92, 61, 30}\n"
          ]
        }
      ]
    },
    {
      "cell_type": "code",
      "source": [
        "# Question 29 - Check if a set is empty.\n",
        "numbers = {1, 2, 3}\n",
        "is_empty = len(numbers) == 0\n",
        "print(is_empty)\n"
      ],
      "metadata": {
        "colab": {
          "base_uri": "https://localhost:8080/"
        },
        "id": "jqynoN1d7kN5",
        "outputId": "bfea4df5-b70a-4876-f059-7308e4ad4c10"
      },
      "execution_count": 180,
      "outputs": [
        {
          "output_type": "stream",
          "name": "stdout",
          "text": [
            "False\n"
          ]
        }
      ]
    },
    {
      "cell_type": "code",
      "source": [
        "# Question 30 - Create a nested set (hint: use frozenset).\n",
        "nested_set = {frozenset([1, 2]), frozenset([3, 4])}\n",
        "print(nested_set)\n"
      ],
      "metadata": {
        "colab": {
          "base_uri": "https://localhost:8080/"
        },
        "id": "jNR5TdWQ7kTJ",
        "outputId": "639a2051-7de3-4dd5-abbe-9fa4a1a387f7"
      },
      "execution_count": 181,
      "outputs": [
        {
          "output_type": "stream",
          "name": "stdout",
          "text": [
            "{frozenset({3, 4}), frozenset({1, 2})}\n"
          ]
        }
      ]
    },
    {
      "cell_type": "code",
      "source": [
        "# Question 31 - Remove an element from a set using the discard method.\n",
        "numbers = {1, 2, 3, 4, 5}\n",
        "numbers.discard(3)\n",
        "print(numbers)\n"
      ],
      "metadata": {
        "colab": {
          "base_uri": "https://localhost:8080/"
        },
        "id": "m36EKAuA7kYW",
        "outputId": "6d78fb77-8590-4bf0-97ac-80182ef34705"
      },
      "execution_count": 182,
      "outputs": [
        {
          "output_type": "stream",
          "name": "stdout",
          "text": [
            "{1, 2, 4, 5}\n"
          ]
        }
      ]
    },
    {
      "cell_type": "code",
      "source": [
        "# Question 32 - Compare two sets.\n",
        "set1 = {1, 2, 3}\n",
        "set2 = {3, 2, 1}\n",
        "are_equal = set1 == set2\n",
        "print(are_equal)\n"
      ],
      "metadata": {
        "colab": {
          "base_uri": "https://localhost:8080/"
        },
        "id": "ybxsJEGE7kdU",
        "outputId": "32ef4ac6-cd9a-42b2-e013-24e8759be624"
      },
      "execution_count": 183,
      "outputs": [
        {
          "output_type": "stream",
          "name": "stdout",
          "text": [
            "True\n"
          ]
        }
      ]
    },
    {
      "cell_type": "code",
      "source": [
        "# Question 33 - Create a set from a string.\n",
        "string = \"hello\"\n",
        "char_set = set(string)\n",
        "print(char_set)\n"
      ],
      "metadata": {
        "colab": {
          "base_uri": "https://localhost:8080/"
        },
        "id": "ShMz7fG-7kjP",
        "outputId": "df2cb58e-c113-4ca9-f115-6e2ab3cc4113"
      },
      "execution_count": 184,
      "outputs": [
        {
          "output_type": "stream",
          "name": "stdout",
          "text": [
            "{'h', 'l', 'e', 'o'}\n"
          ]
        }
      ]
    },
    {
      "cell_type": "code",
      "source": [
        "# Question 34 - Convert a set of strings to a set of integers.\n",
        "string_set = {\"1\", \"2\", \"3\", \"4\", \"5\"}\n",
        "int_set = {int(x) for x in string_set}\n",
        "print(int_set)\n"
      ],
      "metadata": {
        "colab": {
          "base_uri": "https://localhost:8080/"
        },
        "id": "Fhb2lUCv7kpH",
        "outputId": "2b59ff36-beea-4ddd-dfc1-028c0577253c"
      },
      "execution_count": 185,
      "outputs": [
        {
          "output_type": "stream",
          "name": "stdout",
          "text": [
            "{1, 2, 3, 4, 5}\n"
          ]
        }
      ]
    },
    {
      "cell_type": "code",
      "source": [
        "# Question 35 - Convert a set of integers to a set of strings.\n",
        "int_set = {1, 2, 3, 4, 5}\n",
        "string_set = {str(x) for x in int_set}\n",
        "print(string_set)\n"
      ],
      "metadata": {
        "colab": {
          "base_uri": "https://localhost:8080/"
        },
        "id": "KzCHkw0l7kut",
        "outputId": "63ca578e-b94f-42c5-b011-7bae4e32c46b"
      },
      "execution_count": 186,
      "outputs": [
        {
          "output_type": "stream",
          "name": "stdout",
          "text": [
            "{'3', '1', '2', '5', '4'}\n"
          ]
        }
      ]
    },
    {
      "cell_type": "code",
      "source": [
        "# Question 36 - Create a set from a tuple.\n",
        "numbers_tuple = (1, 2, 3, 4, 5)\n",
        "numbers_set = set(numbers_tuple)\n",
        "print(numbers_set)\n"
      ],
      "metadata": {
        "colab": {
          "base_uri": "https://localhost:8080/"
        },
        "id": "wq9iVZwC7k0A",
        "outputId": "856b0d39-0989-4aa5-e90a-cbec4b3afa2c"
      },
      "execution_count": 187,
      "outputs": [
        {
          "output_type": "stream",
          "name": "stdout",
          "text": [
            "{1, 2, 3, 4, 5}\n"
          ]
        }
      ]
    },
    {
      "cell_type": "code",
      "source": [
        "# Question 37 - Convert a set to a tuple.\n",
        "numbers_set = {1, 2, 3, 4, 5}\n",
        "numbers_tuple = tuple(numbers_set)\n",
        "print(numbers_tuple)\n"
      ],
      "metadata": {
        "colab": {
          "base_uri": "https://localhost:8080/"
        },
        "id": "mye-wOkC7k5R",
        "outputId": "053cef40-a363-4271-b0fc-ad48b5665b3b"
      },
      "execution_count": 188,
      "outputs": [
        {
          "output_type": "stream",
          "name": "stdout",
          "text": [
            "(1, 2, 3, 4, 5)\n"
          ]
        }
      ]
    },
    {
      "cell_type": "code",
      "source": [
        "# Question 38 - Find the maximum value in a set.\n",
        "numbers = {1, 2, 3, 4, 5}\n",
        "max_value = max(numbers)\n",
        "print(max_value)\n"
      ],
      "metadata": {
        "colab": {
          "base_uri": "https://localhost:8080/"
        },
        "id": "HakUa7107k-p",
        "outputId": "62e3cb0d-4681-474e-fdab-c2436f2413fb"
      },
      "execution_count": 189,
      "outputs": [
        {
          "output_type": "stream",
          "name": "stdout",
          "text": [
            "5\n"
          ]
        }
      ]
    },
    {
      "cell_type": "code",
      "source": [
        "# Question 40 - Create a set from user input.\n",
        "user_input = input(\"Enter values separated by spaces: \").split()\n",
        "user_set = set(user_input)\n",
        "print(user_set)\n"
      ],
      "metadata": {
        "colab": {
          "base_uri": "https://localhost:8080/"
        },
        "id": "no8b-89D7lD3",
        "outputId": "db5ff96a-3aa3-498b-8540-332947705f9e"
      },
      "execution_count": 190,
      "outputs": [
        {
          "output_type": "stream",
          "name": "stdout",
          "text": [
            "Enter values separated by spaces: 1 2\n",
            "{'1', '2'}\n"
          ]
        }
      ]
    },
    {
      "cell_type": "code",
      "source": [
        "# Question 41 - Check if the intersection of two sets is empty.\n",
        "set1 = {1, 2, 3}\n",
        "set2 = {4, 5, 6}\n",
        "is_empty = set1 & set2 == set()\n",
        "print(is_empty)\n"
      ],
      "metadata": {
        "colab": {
          "base_uri": "https://localhost:8080/"
        },
        "id": "7YdOQXR67lJD",
        "outputId": "ebb8ac18-e184-4277-bc1f-f2fb94dc4b5c"
      },
      "execution_count": 191,
      "outputs": [
        {
          "output_type": "stream",
          "name": "stdout",
          "text": [
            "True\n"
          ]
        }
      ]
    },
    {
      "cell_type": "code",
      "source": [
        "# Question 42 - Create a set of the first 5 Fibonacci numbers.\n",
        "def fibonacci(n):\n",
        "    fib = [0, 1]\n",
        "    for i in range(2, n):\n",
        "        fib.append(fib[i-1] + fib[i-2])\n",
        "    return set(fib)\n",
        "\n",
        "print(fibonacci(5))\n"
      ],
      "metadata": {
        "colab": {
          "base_uri": "https://localhost:8080/"
        },
        "id": "PsdVB59u7lON",
        "outputId": "948b2c82-e5a4-4277-afb7-1ee1fdaf8165"
      },
      "execution_count": 192,
      "outputs": [
        {
          "output_type": "stream",
          "name": "stdout",
          "text": [
            "{0, 1, 2, 3}\n"
          ]
        }
      ]
    },
    {
      "cell_type": "code",
      "source": [
        "# Question 43 - Remove duplicates from a list using sets.\n",
        "numbers_list = [1, 2, 3, 1, 4, 5, 2]\n",
        "unique_numbers = set(numbers_list)\n",
        "print(unique_numbers)\n"
      ],
      "metadata": {
        "colab": {
          "base_uri": "https://localhost:8080/"
        },
        "id": "tdjNotm37lTl",
        "outputId": "94d4a571-b899-419a-a579-cef6c8beb7ca"
      },
      "execution_count": 193,
      "outputs": [
        {
          "output_type": "stream",
          "name": "stdout",
          "text": [
            "{1, 2, 3, 4, 5}\n"
          ]
        }
      ]
    },
    {
      "cell_type": "code",
      "source": [
        "# Question 44 - Check if two sets have the same elements, regardless of their count.\n",
        "set1 = {1, 2, 3}\n",
        "set2 = {3, 2, 1}\n",
        "are_equal = set1 == set2\n",
        "print(are_equal)\n"
      ],
      "metadata": {
        "colab": {
          "base_uri": "https://localhost:8080/"
        },
        "id": "uNv4o3mf7lZL",
        "outputId": "6f7ce349-3627-4e64-ed48-79bfb2835161"
      },
      "execution_count": 194,
      "outputs": [
        {
          "output_type": "stream",
          "name": "stdout",
          "text": [
            "True\n"
          ]
        }
      ]
    },
    {
      "cell_type": "code",
      "source": [
        "# Question 45 - Create a set of the first `n` powers of 2.\n",
        "n = 5\n",
        "powers_of_2 = {2**x for x in range(n)}\n",
        "print(powers_of_2)\n"
      ],
      "metadata": {
        "colab": {
          "base_uri": "https://localhost:8080/"
        },
        "id": "99tAgETY7leS",
        "outputId": "2383efd1-3e62-4336-9dc6-9f2be7d7995d"
      },
      "execution_count": 195,
      "outputs": [
        {
          "output_type": "stream",
          "name": "stdout",
          "text": [
            "{1, 2, 4, 8, 16}\n"
          ]
        }
      ]
    },
    {
      "cell_type": "code",
      "source": [
        "# Question 46 - Find the common elements between a set and a list.\n",
        "numbers_set = {1, 2, 3, 4, 5}\n",
        "numbers_list = [3, 4, 6, 7]\n",
        "common_elements = numbers_set.intersection(numbers_list)\n",
        "print(common_elements)\n"
      ],
      "metadata": {
        "colab": {
          "base_uri": "https://localhost:8080/"
        },
        "id": "a8r5eqOf7ljr",
        "outputId": "cef236e0-c596-4714-8586-80192cf3e8c0"
      },
      "execution_count": 196,
      "outputs": [
        {
          "output_type": "stream",
          "name": "stdout",
          "text": [
            "{3, 4}\n"
          ]
        }
      ]
    },
    {
      "cell_type": "code",
      "source": [
        "# Question 47 - Create a set of the first `n` triangular numbers.\n",
        "def triangular_numbers(n):\n",
        "    return {sum(range(1, x+1)) for x in range(1, n+1)}\n",
        "\n",
        "print(triangular_numbers(5))\n"
      ],
      "metadata": {
        "colab": {
          "base_uri": "https://localhost:8080/"
        },
        "id": "_yMr15h67loU",
        "outputId": "f4a992e2-a5a4-4ca9-8d07-75b5eed7a5a4"
      },
      "execution_count": 197,
      "outputs": [
        {
          "output_type": "stream",
          "name": "stdout",
          "text": [
            "{1, 3, 6, 10, 15}\n"
          ]
        }
      ]
    },
    {
      "cell_type": "code",
      "source": [
        "# Question 48 - Check if a set contains another set as a subset.\n",
        "set1 = {1, 2, 3, 4}\n",
        "set2 = {2, 3}\n",
        "is_subset = set2.issubset(set1)\n",
        "print(is_subset)\n"
      ],
      "metadata": {
        "colab": {
          "base_uri": "https://localhost:8080/"
        },
        "id": "8DBHsycU7ltu",
        "outputId": "a04cd276-7fb2-4cbf-93c2-dee58ce7f5e4"
      },
      "execution_count": 198,
      "outputs": [
        {
          "output_type": "stream",
          "name": "stdout",
          "text": [
            "True\n"
          ]
        }
      ]
    },
    {
      "cell_type": "code",
      "source": [
        "# Question 49 - Create a set of alternating 1s and 0s of length `n`.\n",
        "n = 6\n",
        "alternating_set = {1 if i % 2 == 0 else 0 for i in range(n)}\n",
        "print(alternating_set)\n"
      ],
      "metadata": {
        "colab": {
          "base_uri": "https://localhost:8080/"
        },
        "id": "qUX0Mrsp7lzr",
        "outputId": "b0a457ba-04a9-4a24-87a8-6ed22906ea30"
      },
      "execution_count": 199,
      "outputs": [
        {
          "output_type": "stream",
          "name": "stdout",
          "text": [
            "{0, 1}\n"
          ]
        }
      ]
    },
    {
      "cell_type": "code",
      "source": [
        "# Question 50 - Merge multiple sets into one.\n",
        "set1 = {1, 2}\n",
        "set2 = {3, 4}\n",
        "set3 = {5, 6}\n",
        "merged_set = set1 | set2 | set3\n",
        "print(merged_set)\n"
      ],
      "metadata": {
        "colab": {
          "base_uri": "https://localhost:8080/"
        },
        "id": "OkO8_V6_7l42",
        "outputId": "dedb62b7-b0d9-44ee-cbf4-224218809f2e"
      },
      "execution_count": 200,
      "outputs": [
        {
          "output_type": "stream",
          "name": "stdout",
          "text": [
            "{1, 2, 3, 4, 5, 6}\n"
          ]
        }
      ]
    },
    {
      "cell_type": "code",
      "source": [],
      "metadata": {
        "id": "fqKVPPK77l93"
      },
      "execution_count": 200,
      "outputs": []
    }
  ]
}