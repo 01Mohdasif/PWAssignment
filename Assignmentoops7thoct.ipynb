{
  "nbformat": 4,
  "nbformat_minor": 0,
  "metadata": {
    "colab": {
      "provenance": []
    },
    "kernelspec": {
      "name": "python3",
      "display_name": "Python 3"
    },
    "language_info": {
      "name": "python"
    }
  },
  "cells": [
    {
      "cell_type": "markdown",
      "source": [
        "**Problem 1: Bank Account Create a class representing a bank account with attributes like account number, account holder name, and balance. Implement methods to deposit and withdraw money from the account.**"
      ],
      "metadata": {
        "id": "DINvPRnLHHlM"
      }
    },
    {
      "cell_type": "code",
      "source": [
        "# Problem 1: Bank Account\n",
        "class BankAccount:\n",
        "    def __init__(self, account_number, holder_name, balance=0):\n",
        "        self.account_number = account_number\n",
        "        self.holder_name = holder_name\n",
        "        self.balance = balance\n",
        "\n",
        "    def deposit(self, amount):\n",
        "        if amount > 0:\n",
        "            self.balance += amount\n",
        "            print(f\"Deposited ${amount}. Current balance: ${self.balance}\")\n",
        "        else:\n",
        "            print(\"Amount to deposit should be greater than zero.\")\n",
        "\n",
        "    def withdraw(self, amount):\n",
        "        if 0 < amount <= self.balance:\n",
        "            self.balance -= amount\n",
        "            print(f\"Withdrew ${amount}. Current balance: ${self.balance}\")\n",
        "        else:\n",
        "            print(\"Insufficient balance or invalid withdrawal amount.\")\n",
        "\n",
        "    def get_balance(self):\n",
        "        return self.balance\n",
        "\n",
        "# Example Usage:\n",
        "account = BankAccount(123456, \"John Doe\")\n",
        "account.deposit(500)\n",
        "account.withdraw(200)\n",
        "print(account.get_balance())\n"
      ],
      "metadata": {
        "colab": {
          "base_uri": "https://localhost:8080/"
        },
        "id": "Fp9aC-YRHKs2",
        "outputId": "e3be9bdc-ef83-4932-d9f7-e4c2c504a6b6"
      },
      "execution_count": 1,
      "outputs": [
        {
          "output_type": "stream",
          "name": "stdout",
          "text": [
            "Deposited $500. Current balance: $500\n",
            "Withdrew $200. Current balance: $300\n",
            "300\n"
          ]
        }
      ]
    },
    {
      "cell_type": "markdown",
      "source": [
        "**Problem 2: Employee Management Create a class representing an employee with attributes like employee ID, name, and salary. Implement methods to calculate the yearly bonus and display employee details.**"
      ],
      "metadata": {
        "id": "ClepKVeQHOYd"
      }
    },
    {
      "cell_type": "code",
      "source": [
        "# Problem 2: Employee Management\n",
        "class Employee:\n",
        "    def __init__(self, employee_id, name, salary):\n",
        "        self.employee_id = employee_id\n",
        "        self.name = name\n",
        "        self.salary = salary\n",
        "\n",
        "    def calculate_bonus(self):\n",
        "        return self.salary * 0.1  # 10% bonus\n",
        "\n",
        "    def display_employee_details(self):\n",
        "        return f\"Employee ID: {self.employee_id}, Name: {self.name}, Salary: ${self.salary}, Bonus: ${self.calculate_bonus()}\"\n",
        "\n",
        "# Example Usage:\n",
        "employee = Employee(101, \"Alice\", 50000)\n",
        "print(employee.display_employee_details())\n"
      ],
      "metadata": {
        "colab": {
          "base_uri": "https://localhost:8080/"
        },
        "id": "6CjFn-d3HqRR",
        "outputId": "cd91256c-987f-4218-cfd9-e18fbbc4a16b"
      },
      "execution_count": 2,
      "outputs": [
        {
          "output_type": "stream",
          "name": "stdout",
          "text": [
            "Employee ID: 101, Name: Alice, Salary: $50000, Bonus: $5000.0\n"
          ]
        }
      ]
    },
    {
      "cell_type": "markdown",
      "source": [
        "**Problem 3: Vehicle Rental Create a class representing a vehicle rental system. Implement methods to rent a vehicle, return a vehicle, and display available vehicles.**"
      ],
      "metadata": {
        "id": "8r67OWrZHR22"
      }
    },
    {
      "cell_type": "code",
      "source": [
        "# Problem 3: Vehicle Rental\n",
        "class VehicleRental:\n",
        "    def __init__(self):\n",
        "        self.available_vehicles = [\"Car\", \"Bike\", \"Van\"]\n",
        "        self.rented_vehicles = []\n",
        "\n",
        "    def rent_vehicle(self, vehicle):\n",
        "        if vehicle in self.available_vehicles:\n",
        "            self.available_vehicles.remove(vehicle)\n",
        "            self.rented_vehicles.append(vehicle)\n",
        "            print(f\"{vehicle} rented successfully.\")\n",
        "        else:\n",
        "            print(f\"{vehicle} is not available for rent.\")\n",
        "\n",
        "    def return_vehicle(self, vehicle):\n",
        "        if vehicle in self.rented_vehicles:\n",
        "            self.rented_vehicles.remove(vehicle)\n",
        "            self.available_vehicles.append(vehicle)\n",
        "            print(f\"{vehicle} returned successfully.\")\n",
        "        else:\n",
        "            print(f\"{vehicle} was not rented.\")\n",
        "\n",
        "    def display_available_vehicles(self):\n",
        "        return f\"Available vehicles: {', '.join(self.available_vehicles)}\"\n",
        "\n",
        "# Example Usage:\n",
        "rental = VehicleRental()\n",
        "rental.rent_vehicle(\"Car\")\n",
        "rental.return_vehicle(\"Car\")\n",
        "print(rental.display_available_vehicles())\n"
      ],
      "metadata": {
        "colab": {
          "base_uri": "https://localhost:8080/"
        },
        "id": "ttvg9--NHvTB",
        "outputId": "d3977325-0c93-4b90-d7e4-371d692ab1f1"
      },
      "execution_count": 3,
      "outputs": [
        {
          "output_type": "stream",
          "name": "stdout",
          "text": [
            "Car rented successfully.\n",
            "Car returned successfully.\n",
            "Available vehicles: Bike, Van, Car\n"
          ]
        }
      ]
    },
    {
      "cell_type": "markdown",
      "source": [
        "**Problem 4: Library Catalog Create classes representing a library and a book. Implement methods to add books to the library, borrow books, and display available books.**"
      ],
      "metadata": {
        "id": "K7nuS-DcHR_D"
      }
    },
    {
      "cell_type": "code",
      "source": [
        "# Problem 4: Library Catalog\n",
        "class Book:\n",
        "    def __init__(self, title, author, isbn):\n",
        "        self.title = title\n",
        "        self.author = author\n",
        "        self.isbn = isbn\n",
        "\n",
        "class Library:\n",
        "    def __init__(self):\n",
        "        self.books = []\n",
        "\n",
        "    def add_book(self, book):\n",
        "        self.books.append(book)\n",
        "        print(f\"Book '{book.title}' added to the library.\")\n",
        "\n",
        "    def borrow_book(self, isbn):\n",
        "        for book in self.books:\n",
        "            if book.isbn == isbn:\n",
        "                self.books.remove(book)\n",
        "                print(f\"Book '{book.title}' borrowed.\")\n",
        "                return\n",
        "        print(\"Book not available.\")\n",
        "\n",
        "    def display_available_books(self):\n",
        "        if self.books:\n",
        "            return [f\"{book.title} by {book.author} (ISBN: {book.isbn})\" for book in self.books]\n",
        "        else:\n",
        "            return \"No books available.\"\n",
        "\n",
        "# Example Usage:\n",
        "library = Library()\n",
        "book1 = Book(\"Python Programming\", \"John Smith\", \"123456\")\n",
        "book2 = Book(\"Data Science\", \"Alice Brown\", \"789101\")\n",
        "library.add_book(book1)\n",
        "library.add_book(book2)\n",
        "print(library.display_available_books())\n",
        "library.borrow_book(\"123456\")\n",
        "print(library.display_available_books())\n"
      ],
      "metadata": {
        "colab": {
          "base_uri": "https://localhost:8080/"
        },
        "id": "g8unvOIyH6DP",
        "outputId": "183158f2-cd61-4435-c5e4-d466a7340376"
      },
      "execution_count": 4,
      "outputs": [
        {
          "output_type": "stream",
          "name": "stdout",
          "text": [
            "Book 'Python Programming' added to the library.\n",
            "Book 'Data Science' added to the library.\n",
            "['Python Programming by John Smith (ISBN: 123456)', 'Data Science by Alice Brown (ISBN: 789101)']\n",
            "Book 'Python Programming' borrowed.\n",
            "['Data Science by Alice Brown (ISBN: 789101)']\n"
          ]
        }
      ]
    },
    {
      "cell_type": "markdown",
      "source": [
        "**Problem 5: Product Inventory Create classes representing a product and an inventory system. Implement methods to add products to the inventory, update product quantity, and display available products.**"
      ],
      "metadata": {
        "id": "Mq9N804qHSWA"
      }
    },
    {
      "cell_type": "code",
      "source": [
        "# Problem 5: Product Inventory\n",
        "class Product:\n",
        "    def __init__(self, name, price, quantity):\n",
        "        self.name = name\n",
        "        self.price = price\n",
        "        self.quantity = quantity\n",
        "\n",
        "class Inventory:\n",
        "    def __init__(self):\n",
        "        self.products = []\n",
        "\n",
        "    def add_product(self, product):\n",
        "        self.products.append(product)\n",
        "        print(f\"Product '{product.name}' added to inventory.\")\n",
        "\n",
        "    def update_product_quantity(self, product_name, new_quantity):\n",
        "        for product in self.products:\n",
        "            if product.name == product_name:\n",
        "                product.quantity = new_quantity\n",
        "                print(f\"Updated quantity of '{product.name}' to {new_quantity}.\")\n",
        "                return\n",
        "        print(f\"Product '{product_name}' not found.\")\n",
        "\n",
        "    def display_available_products(self):\n",
        "        return [f\"{product.name}: ${product.price}, Quantity: {product.quantity}\" for product in self.products]\n",
        "\n",
        "# Example Usage:\n",
        "inventory = Inventory()\n",
        "product1 = Product(\"Laptop\", 1200, 10)\n",
        "product2 = Product(\"Headphones\", 100, 50)\n",
        "inventory.add_product(product1)\n",
        "inventory.add_product(product2)\n",
        "inventory.update_product_quantity(\"Laptop\", 8)\n",
        "print(inventory.display_available_products())\n"
      ],
      "metadata": {
        "colab": {
          "base_uri": "https://localhost:8080/"
        },
        "id": "8-uluB0MH97F",
        "outputId": "415118e8-4574-4387-feec-f84c9d9181a3"
      },
      "execution_count": 5,
      "outputs": [
        {
          "output_type": "stream",
          "name": "stdout",
          "text": [
            "Product 'Laptop' added to inventory.\n",
            "Product 'Headphones' added to inventory.\n",
            "Updated quantity of 'Laptop' to 8.\n",
            "['Laptop: $1200, Quantity: 8', 'Headphones: $100, Quantity: 50']\n"
          ]
        }
      ]
    },
    {
      "cell_type": "markdown",
      "source": [
        "**Problem 6: Shape Calculation Create a class representing a shape with attributes like length, width, and height. Implement methods to calculate the area and perimeter of the shape.**"
      ],
      "metadata": {
        "id": "nIsuUbn8HScu"
      }
    },
    {
      "cell_type": "code",
      "source": [
        "# Problem 6: Shape Calculation\n",
        "class Shape:\n",
        "    def __init__(self, length, width=0, height=0):\n",
        "        self.length = length\n",
        "        self.width = width\n",
        "        self.height = height\n",
        "\n",
        "    def calculate_area(self):\n",
        "        if self.width == 0:  # It's a square\n",
        "            return self.length ** 2\n",
        "        elif self.height == 0:  # It's a rectangle\n",
        "            return self.length * self.width\n",
        "        else:  # It's a cuboid\n",
        "            return self.length * self.width * self.height\n",
        "\n",
        "    def calculate_perimeter(self):\n",
        "        if self.width == 0:  # Square\n",
        "            return 4 * self.length\n",
        "        elif self.height == 0:  # Rectangle\n",
        "            return 2 * (self.length + self.width)\n",
        "        else:  # Cuboid\n",
        "            return 4 * (self.length + self.width + self.height)\n",
        "\n",
        "# Example Usage:\n",
        "shape = Shape(5, 3)\n",
        "print(f\"Area: {shape.calculate_area()}, Perimeter: {shape.calculate_perimeter()}\")\n"
      ],
      "metadata": {
        "colab": {
          "base_uri": "https://localhost:8080/"
        },
        "id": "yiE8nClAIAnJ",
        "outputId": "e805dd35-5439-473e-cef0-d7e098668afb"
      },
      "execution_count": 6,
      "outputs": [
        {
          "output_type": "stream",
          "name": "stdout",
          "text": [
            "Area: 15, Perimeter: 16\n"
          ]
        }
      ]
    },
    {
      "cell_type": "markdown",
      "source": [
        "**Problem 7: Student Management Create a class representing a student with attributes like student ID, name, and grades. Implement methods to calculate the average grade and display student details.**"
      ],
      "metadata": {
        "id": "x7mLwmb5HSlr"
      }
    },
    {
      "cell_type": "code",
      "source": [
        "# Problem 7: Student Management\n",
        "class Student:\n",
        "    def __init__(self, student_id, name, grades):\n",
        "        self.student_id = student_id\n",
        "        self.name = name\n",
        "        self.grades = grades\n",
        "\n",
        "    def calculate_average(self):\n",
        "        return sum(self.grades) / len(self.grades)\n",
        "\n",
        "    def display_student_details(self):\n",
        "        return f\"Student ID: {self.student_id}, Name: {self.name}, Average Grade: {self.calculate_average():.2f}\"\n",
        "\n",
        "# Example Usage:\n",
        "student = Student(101, \"John Doe\", [85, 90, 88, 92])\n",
        "print(student.display_student_details())\n"
      ],
      "metadata": {
        "colab": {
          "base_uri": "https://localhost:8080/"
        },
        "id": "0xtXLmngICw9",
        "outputId": "67ff5647-e454-4d7e-9eb5-53a514dc43ee"
      },
      "execution_count": 7,
      "outputs": [
        {
          "output_type": "stream",
          "name": "stdout",
          "text": [
            "Student ID: 101, Name: John Doe, Average Grade: 88.75\n"
          ]
        }
      ]
    },
    {
      "cell_type": "markdown",
      "source": [
        "**Problem 8: Email Management Create a class representing an email with attributes like sender, recipient, and subject. Implement methods to send an email and display email details.**"
      ],
      "metadata": {
        "id": "9IX-yTzOHSt2"
      }
    },
    {
      "cell_type": "code",
      "source": [
        "# Problem 8: Email Management\n",
        "class Email:\n",
        "    def __init__(self, sender, recipient, subject, body):\n",
        "        self.sender = sender\n",
        "        self.recipient = recipient\n",
        "        self.subject = subject\n",
        "        self.body = body\n",
        "\n",
        "    def send_email(self):\n",
        "        return f\"Email sent from {self.sender} to {self.recipient} with subject '{self.subject}'.\"\n",
        "\n",
        "    def display_email_details(self):\n",
        "        return f\"From: {self.sender}\\nTo: {self.recipient}\\nSubject: {self.subject}\\nBody: {self.body}\"\n",
        "\n",
        "# Example Usage:\n",
        "email = Email(\"john.doe@example.com\", \"jane.smith@example.com\", \"Meeting Reminder\", \"Don't forget the meeting tomorrow!\")\n",
        "print(email.send_email())\n",
        "print(email.display_email_details())\n"
      ],
      "metadata": {
        "colab": {
          "base_uri": "https://localhost:8080/"
        },
        "id": "s3ech-tTIGKw",
        "outputId": "727d05c3-385e-4b4e-bf03-7fcac29884f0"
      },
      "execution_count": 8,
      "outputs": [
        {
          "output_type": "stream",
          "name": "stdout",
          "text": [
            "Email sent from john.doe@example.com to jane.smith@example.com with subject 'Meeting Reminder'.\n",
            "From: john.doe@example.com\n",
            "To: jane.smith@example.com\n",
            "Subject: Meeting Reminder\n",
            "Body: Don't forget the meeting tomorrow!\n"
          ]
        }
      ]
    },
    {
      "cell_type": "markdown",
      "source": [
        "**Problem 9: Social Media Profile Create a class representing a social media profile with attributes like username and posts. Implement methods to add posts, display posts, and search for posts by keyword.**"
      ],
      "metadata": {
        "id": "GwggTe0JHS0E"
      }
    },
    {
      "cell_type": "code",
      "source": [
        "# Problem 9: Social Media Profile\n",
        "class SocialMediaProfile:\n",
        "    def __init__(self, username):\n",
        "        self.username = username\n",
        "        self.posts = []\n",
        "\n",
        "    def add_post(self, post):\n",
        "        self.posts.append(post)\n",
        "        print(f\"Post added by {self.username}: {post}\")\n",
        "\n",
        "    def display_posts(self):\n",
        "        return self.posts\n",
        "\n",
        "    def search_posts(self, keyword):\n",
        "        return [post for post in self.posts if keyword in post]\n",
        "\n",
        "# Example Usage:\n",
        "profile = SocialMediaProfile(\"john_doe\")\n",
        "profile.add_post(\"My first post!\")\n",
        "profile.add_post(\"Excited for the weekend!\")\n",
        "print(profile.search_posts(\"weekend\"))\n"
      ],
      "metadata": {
        "colab": {
          "base_uri": "https://localhost:8080/"
        },
        "id": "_Klwjkb9ILDt",
        "outputId": "f6a00006-c7c5-44c6-cea3-0717228bc808"
      },
      "execution_count": 9,
      "outputs": [
        {
          "output_type": "stream",
          "name": "stdout",
          "text": [
            "Post added by john_doe: My first post!\n",
            "Post added by john_doe: Excited for the weekend!\n",
            "['Excited for the weekend!']\n"
          ]
        }
      ]
    },
    {
      "cell_type": "markdown",
      "source": [
        "**Problem 10: ToDo List Create a class representing a ToDo list with attributes like tasks and due dates. Implement methods to add tasks, mark tasks as completed, and display pending tasks.**"
      ],
      "metadata": {
        "id": "BdReZr0MHS5c"
      }
    },
    {
      "cell_type": "code",
      "source": [
        "# Problem 10: ToDo List\n",
        "class ToDoList:\n",
        "    def __init__(self):\n",
        "        self.tasks = []\n",
        "\n",
        "    def add_task(self, task, due_date):\n",
        "        self.tasks.append({\"task\": task, \"due_date\": due_date, \"completed\": False})\n",
        "        print(f\"Task '{task}' added with due date {due_date}.\")\n",
        "\n",
        "    def mark_task_completed(self, task):\n",
        "        for t in self.tasks:\n",
        "            if t[\"task\"] == task:\n",
        "                t[\"completed\"] = True\n",
        "                print(f\"Task '{task}' marked as completed.\")\n",
        "                return\n",
        "        print(f\"Task '{task}' not found.\")\n",
        "\n",
        "    def display_pending_tasks(self):\n",
        "        return [t for t in self.tasks if not t[\"completed\"]]\n",
        "\n",
        "# Example Usage:\n",
        "todo = ToDoList()\n",
        "todo.add_task(\"Finish Python homework\", \"2024-12-10\")\n",
        "todo.add_task(\"Buy groceries\", \"2024-12-08\")\n",
        "todo.mark_task_completed(\"Buy groceries\")\n",
        "print(todo.display_pending_tasks())\n"
      ],
      "metadata": {
        "colab": {
          "base_uri": "https://localhost:8080/"
        },
        "id": "d4yeQ725INWn",
        "outputId": "3c93a2cf-bd85-4da0-9d3d-871e86abcd1c"
      },
      "execution_count": 10,
      "outputs": [
        {
          "output_type": "stream",
          "name": "stdout",
          "text": [
            "Task 'Finish Python homework' added with due date 2024-12-10.\n",
            "Task 'Buy groceries' added with due date 2024-12-08.\n",
            "Task 'Buy groceries' marked as completed.\n",
            "[{'task': 'Finish Python homework', 'due_date': '2024-12-10', 'completed': False}]\n"
          ]
        }
      ]
    }
  ]
}