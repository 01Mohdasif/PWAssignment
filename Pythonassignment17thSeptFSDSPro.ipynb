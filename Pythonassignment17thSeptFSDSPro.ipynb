{
  "nbformat": 4,
  "nbformat_minor": 0,
  "metadata": {
    "colab": {
      "provenance": []
    },
    "kernelspec": {
      "name": "python3",
      "display_name": "Python 3"
    },
    "language_info": {
      "name": "python"
    }
  },
  "cells": [
    {
      "cell_type": "markdown",
      "source": [
        "**For Loop :-**"
      ],
      "metadata": {
        "id": "4qF7Wqdv_txJ"
      }
    },
    {
      "cell_type": "code",
      "source": [
        "# Question 1 - Print numbers from 1 to 10 using a for loop.\n",
        "for i in range(1, 11):\n",
        "    print(i)\n"
      ],
      "metadata": {
        "colab": {
          "base_uri": "https://localhost:8080/"
        },
        "id": "5MOKZ9Ij_z-l",
        "outputId": "feb0f63f-3e3b-4ae5-96f7-aa0768eaab0e"
      },
      "execution_count": 1,
      "outputs": [
        {
          "output_type": "stream",
          "name": "stdout",
          "text": [
            "1\n",
            "2\n",
            "3\n",
            "4\n",
            "5\n",
            "6\n",
            "7\n",
            "8\n",
            "9\n",
            "10\n"
          ]
        }
      ]
    },
    {
      "cell_type": "markdown",
      "source": [
        "# Question 2 - Explain the difference between a for loop and a while loop in Python.\n",
        "# A 'for' loop is used when the number of iterations is known beforehand, and it iterates over a sequence (e.g., list, range).\n",
        "# A 'while' loop continues iterating as long as a given condition is True, and is used when the number of iterations is not known in advance.\n",
        "\n",
        "# Example:\n",
        "# for i in range(1, 11):  # Executes 10 times, from 1 to 10.\n",
        "#     print(i)\n",
        "\n",
        "# while condition:  # Executes until the condition becomes False.\n",
        "#     do_something()"
      ],
      "metadata": {
        "id": "IE0vipkmEwMv"
      }
    },
    {
      "cell_type": "code",
      "source": [
        "# Question 3 - Calculate the sum of all numbers from 1 to 100 using a for loop.\n",
        "total_sum = 0\n",
        "for i in range(1, 101):\n",
        "    total_sum += i\n",
        "print(total_sum)\n"
      ],
      "metadata": {
        "colab": {
          "base_uri": "https://localhost:8080/"
        },
        "id": "33xBJqWf_0ox",
        "outputId": "3a942622-b44e-48df-9da0-e5614c3894a4"
      },
      "execution_count": 2,
      "outputs": [
        {
          "output_type": "stream",
          "name": "stdout",
          "text": [
            "5050\n"
          ]
        }
      ]
    },
    {
      "cell_type": "code",
      "source": [
        "# Question 4 - Iterate through a list using a for loop in Python.\n",
        "numbers = [1, 2, 3, 4, 5]\n",
        "for number in numbers:\n",
        "    print(number)\n"
      ],
      "metadata": {
        "colab": {
          "base_uri": "https://localhost:8080/"
        },
        "id": "KdQZUBnJ_0x4",
        "outputId": "6a263daa-eb72-4fe3-dfa0-3959aae3f4f0"
      },
      "execution_count": 3,
      "outputs": [
        {
          "output_type": "stream",
          "name": "stdout",
          "text": [
            "1\n",
            "2\n",
            "3\n",
            "4\n",
            "5\n"
          ]
        }
      ]
    },
    {
      "cell_type": "code",
      "source": [
        "# Question 5 - Find the product of all elements in a list using a for loop.\n",
        "numbers = [1, 2, 3, 4, 5]\n",
        "product = 1\n",
        "for number in numbers:\n",
        "    product *= number\n",
        "print(product)\n"
      ],
      "metadata": {
        "colab": {
          "base_uri": "https://localhost:8080/"
        },
        "id": "AqJBMpeY_04n",
        "outputId": "dd151ba2-ddc0-42bd-b848-6ebb30c48f2a"
      },
      "execution_count": 4,
      "outputs": [
        {
          "output_type": "stream",
          "name": "stdout",
          "text": [
            "120\n"
          ]
        }
      ]
    },
    {
      "cell_type": "code",
      "source": [
        "# Question 6 - Print all even numbers from 1 to 20 using a for loop.\n",
        "for i in range(1, 21):\n",
        "    if i % 2 == 0:\n",
        "        print(i)\n"
      ],
      "metadata": {
        "colab": {
          "base_uri": "https://localhost:8080/"
        },
        "id": "VvTss7SI_0_v",
        "outputId": "e403e512-803b-42fe-bc8c-855d84514c47"
      },
      "execution_count": 5,
      "outputs": [
        {
          "output_type": "stream",
          "name": "stdout",
          "text": [
            "2\n",
            "4\n",
            "6\n",
            "8\n",
            "10\n",
            "12\n",
            "14\n",
            "16\n",
            "18\n",
            "20\n"
          ]
        }
      ]
    },
    {
      "cell_type": "code",
      "source": [
        "# Question 7 - Calculate the factorial of a number using a for loop.\n",
        "number = 5\n",
        "factorial = 1\n",
        "for i in range(1, number + 1):\n",
        "    factorial *= i\n",
        "print(factorial)\n"
      ],
      "metadata": {
        "colab": {
          "base_uri": "https://localhost:8080/"
        },
        "id": "NRtRYcC8_1G-",
        "outputId": "9e8ab0bd-3be4-4ed2-c7a9-83f33a105d22"
      },
      "execution_count": 6,
      "outputs": [
        {
          "output_type": "stream",
          "name": "stdout",
          "text": [
            "120\n"
          ]
        }
      ]
    },
    {
      "cell_type": "code",
      "source": [
        "# Question 8 - Iterate through the characters of a string using a for loop.\n",
        "string = \"Hello\"\n",
        "for char in string:\n",
        "    print(char)\n"
      ],
      "metadata": {
        "colab": {
          "base_uri": "https://localhost:8080/"
        },
        "id": "iJDad5wR_1Nx",
        "outputId": "2e9dc640-bd3f-4535-bc06-044e398c35ff"
      },
      "execution_count": 7,
      "outputs": [
        {
          "output_type": "stream",
          "name": "stdout",
          "text": [
            "H\n",
            "e\n",
            "l\n",
            "l\n",
            "o\n"
          ]
        }
      ]
    },
    {
      "cell_type": "code",
      "source": [
        "# Question 9 - Find the largest number in a list using a for loop.\n",
        "numbers = [1, 2, 3, 4, 5, 6]\n",
        "largest = numbers[0]\n",
        "for number in numbers:\n",
        "    if number > largest:\n",
        "        largest = number\n",
        "print(largest)\n"
      ],
      "metadata": {
        "colab": {
          "base_uri": "https://localhost:8080/"
        },
        "id": "Gu8NUCwi_1Ut",
        "outputId": "7328d6ec-9d40-4735-d27a-23e209fb0869"
      },
      "execution_count": 8,
      "outputs": [
        {
          "output_type": "stream",
          "name": "stdout",
          "text": [
            "6\n"
          ]
        }
      ]
    },
    {
      "cell_type": "code",
      "source": [
        "# Question 10 - Print the Fibonacci sequence up to a specified limit using a for loop.\n",
        "limit = 100\n",
        "a, b = 0, 1\n",
        "while a <= limit:\n",
        "    print(a, end=\" \")\n",
        "    a, b = b, a + b\n"
      ],
      "metadata": {
        "colab": {
          "base_uri": "https://localhost:8080/"
        },
        "id": "u91aoKBg_1bi",
        "outputId": "8752b375-7a52-4c98-b637-2f5ccb5fadca"
      },
      "execution_count": 9,
      "outputs": [
        {
          "output_type": "stream",
          "name": "stdout",
          "text": [
            "0 1 1 2 3 5 8 13 21 34 55 89 "
          ]
        }
      ]
    },
    {
      "cell_type": "code",
      "source": [
        "# Question 11 - Count the number of vowels in a given string using a for loop.\n",
        "string = \"Hello World\"\n",
        "vowels = \"aeiouAEIOU\"\n",
        "vowel_count = 0\n",
        "for char in string:\n",
        "    if char in vowels:\n",
        "        vowel_count += 1\n",
        "print(vowel_count)\n"
      ],
      "metadata": {
        "colab": {
          "base_uri": "https://localhost:8080/"
        },
        "id": "rQwtPF4V_1i3",
        "outputId": "790b5644-9961-474e-8d65-ea8e289a4ba5"
      },
      "execution_count": 10,
      "outputs": [
        {
          "output_type": "stream",
          "name": "stdout",
          "text": [
            "3\n"
          ]
        }
      ]
    },
    {
      "cell_type": "code",
      "source": [
        "# Question 12 - Generate a multiplication table for a given number using a for loop.\n",
        "number = 7\n",
        "for i in range(1, 11):\n",
        "    print(f\"{number} x {i} = {number * i}\")\n"
      ],
      "metadata": {
        "colab": {
          "base_uri": "https://localhost:8080/"
        },
        "id": "OnNtUcKz_1qa",
        "outputId": "0df81e3a-7c3e-45fb-d8e8-fa6a65a240c0"
      },
      "execution_count": 11,
      "outputs": [
        {
          "output_type": "stream",
          "name": "stdout",
          "text": [
            "7 x 1 = 7\n",
            "7 x 2 = 14\n",
            "7 x 3 = 21\n",
            "7 x 4 = 28\n",
            "7 x 5 = 35\n",
            "7 x 6 = 42\n",
            "7 x 7 = 49\n",
            "7 x 8 = 56\n",
            "7 x 9 = 63\n",
            "7 x 10 = 70\n"
          ]
        }
      ]
    },
    {
      "cell_type": "code",
      "source": [
        "# Question 13 - Reverse a list using a for loop.\n",
        "numbers = [1, 2, 3, 4, 5]\n",
        "reversed_list = []\n",
        "for i in range(len(numbers) - 1, -1, -1):\n",
        "    reversed_list.append(numbers[i])\n",
        "print(reversed_list)\n"
      ],
      "metadata": {
        "colab": {
          "base_uri": "https://localhost:8080/"
        },
        "id": "FvZRkAv3_1yh",
        "outputId": "a7be1f9c-b320-4f90-ff50-4318149ae457"
      },
      "execution_count": 12,
      "outputs": [
        {
          "output_type": "stream",
          "name": "stdout",
          "text": [
            "[5, 4, 3, 2, 1]\n"
          ]
        }
      ]
    },
    {
      "cell_type": "code",
      "source": [
        "# Question 14 - Find the common elements between two lists using a for loop.\n",
        "list1 = [1, 2, 3, 4, 5]\n",
        "list2 = [3, 4, 5, 6, 7]\n",
        "common_elements = []\n",
        "for element in list1:\n",
        "    if element in list2:\n",
        "        common_elements.append(element)\n",
        "print(common_elements)\n"
      ],
      "metadata": {
        "colab": {
          "base_uri": "https://localhost:8080/"
        },
        "id": "TKc49i-Y_16y",
        "outputId": "91609d63-c5a1-4e19-8512-ede61eefcf1e"
      },
      "execution_count": 13,
      "outputs": [
        {
          "output_type": "stream",
          "name": "stdout",
          "text": [
            "[3, 4, 5]\n"
          ]
        }
      ]
    },
    {
      "cell_type": "code",
      "source": [
        "# Question 15 - Iterate through the keys and values of a dictionary using a for loop.\n",
        "dictionary = {\"a\": 1, \"b\": 2, \"c\": 3}\n",
        "for key, value in dictionary.items():\n",
        "    print(f\"{key}: {value}\")\n"
      ],
      "metadata": {
        "colab": {
          "base_uri": "https://localhost:8080/"
        },
        "id": "_J2Kx91m_2De",
        "outputId": "66bfda64-1bfa-4711-b869-bd6ef535700e"
      },
      "execution_count": 14,
      "outputs": [
        {
          "output_type": "stream",
          "name": "stdout",
          "text": [
            "a: 1\n",
            "b: 2\n",
            "c: 3\n"
          ]
        }
      ]
    },
    {
      "cell_type": "code",
      "source": [
        "# Question 16 - Find the GCD (Greatest Common Divisor) of two numbers using a for loop.\n",
        "def gcd(a, b):\n",
        "    for i in range(min(a, b), 0, -1):\n",
        "        if a % i == 0 and b % i == 0:\n",
        "            return i\n",
        "    return 1\n",
        "\n",
        "print(gcd(56, 98))\n"
      ],
      "metadata": {
        "colab": {
          "base_uri": "https://localhost:8080/"
        },
        "id": "rxOh-erM_2MF",
        "outputId": "abc8c2a3-95eb-4f36-8e9a-f9e33cf6b295"
      },
      "execution_count": 15,
      "outputs": [
        {
          "output_type": "stream",
          "name": "stdout",
          "text": [
            "14\n"
          ]
        }
      ]
    },
    {
      "cell_type": "code",
      "source": [
        "# Question 17 - Check if a string is a palindrome using a for loop.\n",
        "string = \"racecar\"\n",
        "is_palindrome = True\n",
        "for i in range(len(string) // 2):\n",
        "    if string[i] != string[len(string) - 1 - i]:\n",
        "        is_palindrome = False\n",
        "        break\n",
        "print(is_palindrome)\n"
      ],
      "metadata": {
        "colab": {
          "base_uri": "https://localhost:8080/"
        },
        "id": "a4_Nl8wq_2Ts",
        "outputId": "0c7b9136-acd6-4d7f-8e21-d79665384a07"
      },
      "execution_count": 16,
      "outputs": [
        {
          "output_type": "stream",
          "name": "stdout",
          "text": [
            "True\n"
          ]
        }
      ]
    },
    {
      "cell_type": "code",
      "source": [
        "# Question 18 - Remove duplicates from a list using a for loop.\n",
        "numbers = [1, 2, 3, 1, 4, 5, 2]\n",
        "unique_numbers = []\n",
        "for number in numbers:\n",
        "    if number not in unique_numbers:\n",
        "        unique_numbers.append(number)\n",
        "print(unique_numbers)\n"
      ],
      "metadata": {
        "colab": {
          "base_uri": "https://localhost:8080/"
        },
        "id": "mA63BEXI_2cK",
        "outputId": "254d11b8-e4e6-4efc-b9d8-de7ec44533b6"
      },
      "execution_count": 17,
      "outputs": [
        {
          "output_type": "stream",
          "name": "stdout",
          "text": [
            "[1, 2, 3, 4, 5]\n"
          ]
        }
      ]
    },
    {
      "cell_type": "code",
      "source": [
        "# Question 19 - Count the number of words in a sentence using a for loop.\n",
        "sentence = \"This is a test sentence\"\n",
        "word_count = 0\n",
        "for word in sentence.split():\n",
        "    word_count += 1\n",
        "print(word_count)\n"
      ],
      "metadata": {
        "colab": {
          "base_uri": "https://localhost:8080/"
        },
        "id": "p0PAQEqr_2kJ",
        "outputId": "c8e78d3c-f812-4536-a6bb-cdf09b26d4d1"
      },
      "execution_count": 18,
      "outputs": [
        {
          "output_type": "stream",
          "name": "stdout",
          "text": [
            "5\n"
          ]
        }
      ]
    },
    {
      "cell_type": "code",
      "source": [
        "# Question 20 - Find the sum of all odd numbers from 1 to 50 using a for loop.\n",
        "sum_of_odds = 0\n",
        "for i in range(1, 51, 2):\n",
        "    sum_of_odds += i\n",
        "print(sum_of_odds)\n"
      ],
      "metadata": {
        "colab": {
          "base_uri": "https://localhost:8080/"
        },
        "id": "rUeu7cBg_2tC",
        "outputId": "2d6c8e04-4f5d-4b99-cdf1-dd4fe7ee69e4"
      },
      "execution_count": 19,
      "outputs": [
        {
          "output_type": "stream",
          "name": "stdout",
          "text": [
            "625\n"
          ]
        }
      ]
    },
    {
      "cell_type": "code",
      "source": [
        "# Question 21 - Check if a given year is a leap year using a for loop.\n",
        "year = 2024\n",
        "is_leap = False\n",
        "for i in range(1):\n",
        "    if (year % 4 == 0 and year % 100 != 0) or (year % 400 == 0):\n",
        "        is_leap = True\n",
        "print(is_leap)\n"
      ],
      "metadata": {
        "colab": {
          "base_uri": "https://localhost:8080/"
        },
        "id": "1wsUcoag_21i",
        "outputId": "b70cb7fc-e853-4b73-cc31-87a00aa98c30"
      },
      "execution_count": 20,
      "outputs": [
        {
          "output_type": "stream",
          "name": "stdout",
          "text": [
            "True\n"
          ]
        }
      ]
    },
    {
      "cell_type": "code",
      "source": [
        "# Question 22 - Calculate the square root of a number using a for loop.\n",
        "number = 16\n",
        "approximation = number / 2  # Initial guess\n",
        "for _ in range(10):\n",
        "    approximation = (approximation + number / approximation) / 2  # Newton's method\n",
        "print(approximation)\n"
      ],
      "metadata": {
        "colab": {
          "base_uri": "https://localhost:8080/"
        },
        "id": "rEiTj_tV_2_E",
        "outputId": "6afba1a7-73b5-445c-86aa-bb8397a6f1e5"
      },
      "execution_count": 21,
      "outputs": [
        {
          "output_type": "stream",
          "name": "stdout",
          "text": [
            "4.0\n"
          ]
        }
      ]
    },
    {
      "cell_type": "code",
      "source": [
        "# Question 23 - Find the LCM (Least Common Multiple) of two numbers using a for loop.\n",
        "def lcm(a, b):\n",
        "    for i in range(max(a, b), a * b + 1):\n",
        "        if i % a == 0 and i % b == 0:\n",
        "            return i\n",
        "    return a * b\n",
        "\n",
        "print(lcm(4, 5))\n"
      ],
      "metadata": {
        "colab": {
          "base_uri": "https://localhost:8080/"
        },
        "id": "bq0PTkQV_3JP",
        "outputId": "1a5acd4f-ca5b-4d8e-cfc4-2b0bdaa5c5eb"
      },
      "execution_count": 22,
      "outputs": [
        {
          "output_type": "stream",
          "name": "stdout",
          "text": [
            "20\n"
          ]
        }
      ]
    },
    {
      "cell_type": "markdown",
      "source": [
        "**If else :**"
      ],
      "metadata": {
        "id": "HbqjKfFzAbGc"
      }
    },
    {
      "cell_type": "code",
      "source": [
        "# Question 1 - Check if a number is positive, negative, or zero using if-else.\n",
        "number = int(input(\"Enter a number: \"))\n",
        "if number > 0:\n",
        "    print(\"Positive\")\n",
        "elif number < 0:\n",
        "    print(\"Negative\")\n",
        "else:\n",
        "    print(\"Zero\")\n"
      ],
      "metadata": {
        "colab": {
          "base_uri": "https://localhost:8080/"
        },
        "id": "BtnCCiVGAkc9",
        "outputId": "f63e23d3-2480-4296-e7a9-11c742eab904"
      },
      "execution_count": 23,
      "outputs": [
        {
          "output_type": "stream",
          "name": "stdout",
          "text": [
            "Enter a number: 1\n",
            "Positive\n"
          ]
        }
      ]
    },
    {
      "cell_type": "code",
      "source": [
        "# Question 2 - Check if a given number is even or odd using if-else.\n",
        "number = int(input(\"Enter a number: \"))\n",
        "if number % 2 == 0:\n",
        "    print(\"Even\")\n",
        "else:\n",
        "    print(\"Odd\")\n"
      ],
      "metadata": {
        "colab": {
          "base_uri": "https://localhost:8080/"
        },
        "id": "IONzaWdTAknd",
        "outputId": "570fff9b-c9ee-435b-f7e0-a2ba235a7eaa"
      },
      "execution_count": 24,
      "outputs": [
        {
          "output_type": "stream",
          "name": "stdout",
          "text": [
            "Enter a number: 1\n",
            "Odd\n"
          ]
        }
      ]
    },
    {
      "cell_type": "code",
      "source": [
        "# Question 3 - Nested if-else statement example.\n",
        "number = int(input(\"Enter a number: \"))\n",
        "if number > 0:\n",
        "    if number % 2 == 0:\n",
        "        print(\"Positive and Even\")\n",
        "    else:\n",
        "        print(\"Positive and Odd\")\n",
        "elif number < 0:\n",
        "    if number % 2 == 0:\n",
        "        print(\"Negative and Even\")\n",
        "    else:\n",
        "        print(\"Negative and Odd\")\n",
        "else:\n",
        "    print(\"Zero\")\n"
      ],
      "metadata": {
        "colab": {
          "base_uri": "https://localhost:8080/"
        },
        "id": "UFtGF6nyAkwA",
        "outputId": "d01ef6f2-0195-490d-d025-4a52a763799e"
      },
      "execution_count": 25,
      "outputs": [
        {
          "output_type": "stream",
          "name": "stdout",
          "text": [
            "Enter a number: 10\n",
            "Positive and Even\n"
          ]
        }
      ]
    },
    {
      "cell_type": "code",
      "source": [
        "# Question 4 - Determine the largest of three numbers using if-else.\n",
        "a = int(input(\"Enter first number: \"))\n",
        "b = int(input(\"Enter second number: \"))\n",
        "c = int(input(\"Enter third number: \"))\n",
        "\n",
        "if a >= b and a >= c:\n",
        "    print(f\"{a} is the largest\")\n",
        "elif b >= a and b >= c:\n",
        "    print(f\"{b} is the largest\")\n",
        "else:\n",
        "    print(f\"{c} is the largest\")\n"
      ],
      "metadata": {
        "colab": {
          "base_uri": "https://localhost:8080/"
        },
        "id": "wiQU4M6wAk3P",
        "outputId": "fdcae3f5-0fe1-4eab-8be1-6ba80941cbe0"
      },
      "execution_count": 26,
      "outputs": [
        {
          "output_type": "stream",
          "name": "stdout",
          "text": [
            "Enter first number: 1\n",
            "Enter second number: 9\n",
            "Enter third number: 8\n",
            "9 is the largest\n"
          ]
        }
      ]
    },
    {
      "cell_type": "code",
      "source": [
        "# Question 5 - Calculate the absolute value of a number using if-else.\n",
        "number = int(input(\"Enter a number: \"))\n",
        "if number < 0:\n",
        "    absolute_value = -number\n",
        "else:\n",
        "    absolute_value = number\n",
        "print(f\"Absolute value is: {absolute_value}\")\n"
      ],
      "metadata": {
        "colab": {
          "base_uri": "https://localhost:8080/"
        },
        "id": "eI8pb_Y4Ak-S",
        "outputId": "a26ef762-d17a-45bc-d43e-39790225332d"
      },
      "execution_count": 27,
      "outputs": [
        {
          "output_type": "stream",
          "name": "stdout",
          "text": [
            "Enter a number: 12\n",
            "Absolute value is: 12\n"
          ]
        }
      ]
    },
    {
      "cell_type": "code",
      "source": [
        "# Question 6 - Check if a given character is a vowel or consonant using if-else.\n",
        "char = input(\"Enter a character: \").lower()\n",
        "if char in \"aeiou\":\n",
        "    print(\"Vowel\")\n",
        "else:\n",
        "    print(\"Consonant\")\n"
      ],
      "metadata": {
        "colab": {
          "base_uri": "https://localhost:8080/"
        },
        "id": "k7_lSxUJAlFj",
        "outputId": "052d6284-f988-4008-b5f9-e749146dd445"
      },
      "execution_count": 28,
      "outputs": [
        {
          "output_type": "stream",
          "name": "stdout",
          "text": [
            "Enter a character: s\n",
            "Consonant\n"
          ]
        }
      ]
    },
    {
      "cell_type": "code",
      "source": [
        "# Question 7 - Check if a user is eligible to vote based on their age using if-else.\n",
        "age = int(input(\"Enter your age: \"))\n",
        "if age >= 18:\n",
        "    print(\"Eligible to vote\")\n",
        "else:\n",
        "    print(\"Not eligible to vote\")\n"
      ],
      "metadata": {
        "colab": {
          "base_uri": "https://localhost:8080/"
        },
        "id": "pZ7aKGG5AlNl",
        "outputId": "e2d772e2-0fff-4a68-bcd3-8646d507f0b9"
      },
      "execution_count": 29,
      "outputs": [
        {
          "output_type": "stream",
          "name": "stdout",
          "text": [
            "Enter your age: 28\n",
            "Eligible to vote\n"
          ]
        }
      ]
    },
    {
      "cell_type": "code",
      "source": [
        "# Question 8 - Calculate the discount amount based on the purchase amount using if-else.\n",
        "purchase_amount = float(input(\"Enter the purchase amount: \"))\n",
        "if purchase_amount >= 1000:\n",
        "    discount = 0.1 * purchase_amount\n",
        "elif purchase_amount >= 500:\n",
        "    discount = 0.05 * purchase_amount\n",
        "else:\n",
        "    discount = 0\n",
        "print(f\"Discount: {discount}\")\n"
      ],
      "metadata": {
        "colab": {
          "base_uri": "https://localhost:8080/"
        },
        "id": "hmPGGGHXAlVM",
        "outputId": "98036e5d-81b1-4dfc-a4c5-bd57100b2db1"
      },
      "execution_count": 30,
      "outputs": [
        {
          "output_type": "stream",
          "name": "stdout",
          "text": [
            "Enter the purchase amount: 500\n",
            "Discount: 25.0\n"
          ]
        }
      ]
    },
    {
      "cell_type": "code",
      "source": [
        "# Question 9 - Check if a number is within a specified range using if-else.\n",
        "number = int(input(\"Enter a number: \"))\n",
        "if 1 <= number <= 100:\n",
        "    print(\"Number is within the range of 1 to 100.\")\n",
        "else:\n",
        "    print(\"Number is out of the range.\")\n"
      ],
      "metadata": {
        "colab": {
          "base_uri": "https://localhost:8080/"
        },
        "id": "eDZV4kALAlcg",
        "outputId": "161a4816-118d-4e54-b5fc-d7b6ae57b8ad"
      },
      "execution_count": 31,
      "outputs": [
        {
          "output_type": "stream",
          "name": "stdout",
          "text": [
            "Enter a number: 10\n",
            "Number is within the range of 1 to 100.\n"
          ]
        }
      ]
    },
    {
      "cell_type": "code",
      "source": [
        "# Question 10 - Determine the grade of a student based on their score using if-else.\n",
        "score = int(input(\"Enter the score: \"))\n",
        "if score >= 90:\n",
        "    print(\"Grade A\")\n",
        "elif score >= 80:\n",
        "    print(\"Grade B\")\n",
        "elif score >= 70:\n",
        "    print(\"Grade C\")\n",
        "elif score >= 60:\n",
        "    print(\"Grade D\")\n",
        "else:\n",
        "    print(\"Grade F\")\n"
      ],
      "metadata": {
        "colab": {
          "base_uri": "https://localhost:8080/"
        },
        "id": "f5DjAV6dAlkH",
        "outputId": "307b80ac-7034-40ee-a37d-8032200c0dfe"
      },
      "execution_count": 32,
      "outputs": [
        {
          "output_type": "stream",
          "name": "stdout",
          "text": [
            "Enter the score: 100\n",
            "Grade A\n"
          ]
        }
      ]
    },
    {
      "cell_type": "code",
      "source": [
        "# Question 11 - Check if a string is empty or not using if-else.\n",
        "string = input(\"Enter a string: \")\n",
        "if string:\n",
        "    print(\"String is not empty.\")\n",
        "else:\n",
        "    print(\"String is empty.\")\n"
      ],
      "metadata": {
        "colab": {
          "base_uri": "https://localhost:8080/"
        },
        "id": "sKzq3jnTAlr2",
        "outputId": "03075dd4-4e76-4671-8d94-063fb1938e46"
      },
      "execution_count": 33,
      "outputs": [
        {
          "output_type": "stream",
          "name": "stdout",
          "text": [
            "Enter a string: gfrvr\n",
            "String is not empty.\n"
          ]
        }
      ]
    },
    {
      "cell_type": "code",
      "source": [
        "# Question 12 - Identify the type of a triangle based on input values using if-else.\n",
        "a = int(input(\"Enter side 1: \"))\n",
        "b = int(input(\"Enter side 2: \"))\n",
        "c = int(input(\"Enter side 3: \"))\n",
        "\n",
        "if a == b == c:\n",
        "    print(\"Equilateral\")\n",
        "elif a == b or b == c or a == c:\n",
        "    print(\"Isosceles\")\n",
        "else:\n",
        "    print(\"Scalene\")\n"
      ],
      "metadata": {
        "colab": {
          "base_uri": "https://localhost:8080/"
        },
        "id": "pAiwOZ3wAlzp",
        "outputId": "801a5566-679f-44e6-8582-9770a4c22692"
      },
      "execution_count": 34,
      "outputs": [
        {
          "output_type": "stream",
          "name": "stdout",
          "text": [
            "Enter side 1: 1\n",
            "Enter side 2: 2\n",
            "Enter side 3: 3\n",
            "Scalene\n"
          ]
        }
      ]
    },
    {
      "cell_type": "code",
      "source": [
        "# Question 13 - Determine the day of the week based on a user-provided number using if-else.\n",
        "day_number = int(input(\"Enter a number (1-7): \"))\n",
        "if day_number == 1:\n",
        "    print(\"Monday\")\n",
        "elif day_number == 2:\n",
        "    print(\"Tuesday\")\n",
        "elif day_number == 3:\n",
        "    print(\"Wednesday\")\n",
        "elif day_number == 4:\n",
        "    print(\"Thursday\")\n",
        "elif day_number == 5:\n",
        "    print(\"Friday\")\n",
        "elif day_number == 6:\n",
        "    print(\"Saturday\")\n",
        "elif day_number == 7:\n",
        "    print(\"Sunday\")\n",
        "else:\n",
        "    print(\"Invalid number. Enter a number between 1 and 7.\")\n"
      ],
      "metadata": {
        "colab": {
          "base_uri": "https://localhost:8080/"
        },
        "id": "zaYFIhpEAl6q",
        "outputId": "ed54654e-9d24-4a46-cc21-fccd658b9832"
      },
      "execution_count": 35,
      "outputs": [
        {
          "output_type": "stream",
          "name": "stdout",
          "text": [
            "Enter a number (1-7): 6\n",
            "Saturday\n"
          ]
        }
      ]
    },
    {
      "cell_type": "code",
      "source": [
        "# Question 14 - Check if a given year is a leap year using both if-else and a function.\n",
        "def is_leap_year(year):\n",
        "    if (year % 4 == 0 and year % 100 != 0) or (year % 400 == 0):\n",
        "        return True\n",
        "    return False\n",
        "\n",
        "year = int(input(\"Enter a year: \"))\n",
        "if is_leap_year(year):\n",
        "    print(f\"{year} is a leap year.\")\n",
        "else:\n",
        "    print(f\"{year} is not a leap year.\")\n"
      ],
      "metadata": {
        "colab": {
          "base_uri": "https://localhost:8080/"
        },
        "id": "VOm3IFJOAmBt",
        "outputId": "3baf3dfe-1edb-4601-d75a-1cbddb0d1fd3"
      },
      "execution_count": 36,
      "outputs": [
        {
          "output_type": "stream",
          "name": "stdout",
          "text": [
            "Enter a year: 1909\n",
            "1909 is not a leap year.\n"
          ]
        }
      ]
    },
    {
      "cell_type": "code",
      "source": [
        "# Question 15 - Use the \"assert\" statement in Python to add debugging checks within if-else blocks.\n",
        "def check_positive_number(number):\n",
        "    assert number >= 0, \"Number must be positive.\"\n",
        "    if number >= 0:\n",
        "        print(\"Positive number\")\n",
        "    else:\n",
        "        print(\"Negative number\")\n",
        "\n",
        "# Uncomment the following line to test the assert statement:\n",
        "# check_positive_number(-5)\n"
      ],
      "metadata": {
        "id": "Xh9gkwsCAmKG"
      },
      "execution_count": 37,
      "outputs": []
    },
    {
      "cell_type": "code",
      "source": [
        "# Question 16 - Determine eligibility for a senior citizen discount based on age using if-else.\n",
        "age = int(input(\"Enter your age: \"))\n",
        "if age >= 60:\n",
        "    print(\"Eligible for senior citizen discount\")\n",
        "else:\n",
        "    print(\"Not eligible for senior citizen discount\")\n"
      ],
      "metadata": {
        "colab": {
          "base_uri": "https://localhost:8080/"
        },
        "id": "kJVI7UDbAmRJ",
        "outputId": "25f967b8-a868-47bd-b039-ea2c3917f4d4"
      },
      "execution_count": 38,
      "outputs": [
        {
          "output_type": "stream",
          "name": "stdout",
          "text": [
            "Enter your age: 28\n",
            "Not eligible for senior citizen discount\n"
          ]
        }
      ]
    },
    {
      "cell_type": "code",
      "source": [
        "# Question 17 - Categorize a given character as uppercase, lowercase, or neither using if-else.\n",
        "char = input(\"Enter a character: \")\n",
        "if char.isupper():\n",
        "    print(\"Uppercase\")\n",
        "elif char.islower():\n",
        "    print(\"Lowercase\")\n",
        "else:\n",
        "    print(\"Neither uppercase nor lowercase\")\n"
      ],
      "metadata": {
        "colab": {
          "base_uri": "https://localhost:8080/"
        },
        "id": "3EPnp41ZAmZN",
        "outputId": "dfc5268d-456a-424c-8d2a-eecf51927242"
      },
      "execution_count": 39,
      "outputs": [
        {
          "output_type": "stream",
          "name": "stdout",
          "text": [
            "Enter a character: s\n",
            "Lowercase\n"
          ]
        }
      ]
    },
    {
      "cell_type": "code",
      "source": [
        "# Question 18 - Determine the roots of a quadratic equation using if-else.\n",
        "import math\n",
        "\n",
        "a = float(input(\"Enter coefficient a: \"))\n",
        "b = float(input(\"Enter coefficient b: \"))\n",
        "c = float(input(\"Enter coefficient c: \"))\n",
        "\n",
        "discriminant = b**2 - 4*a*c\n",
        "if discriminant > 0:\n",
        "    root1 = (-b + math.sqrt(discriminant)) / (2*a)\n",
        "    root2 = (-b - math.sqrt(discriminant)) / (2*a)\n",
        "    print(f\"Two real roots: {root1}, {root2}\")\n",
        "elif discriminant == 0:\n",
        "    root = -b / (2*a)\n",
        "    print(f\"One real root: {root}\")\n",
        "else:\n",
        "    print(\"No real roots\")\n"
      ],
      "metadata": {
        "colab": {
          "base_uri": "https://localhost:8080/"
        },
        "id": "C026uZu7Amgu",
        "outputId": "fd5db536-720a-46a8-c210-186b712d560b"
      },
      "execution_count": 40,
      "outputs": [
        {
          "output_type": "stream",
          "name": "stdout",
          "text": [
            "Enter coefficient a: 1\n",
            "Enter coefficient b: 2\n",
            "Enter coefficient c: 5\n",
            "No real roots\n"
          ]
        }
      ]
    },
    {
      "cell_type": "code",
      "source": [
        "# Question 19 - Check if a given year is a century year or not using if-else.\n",
        "year = int(input(\"Enter a year: \"))\n",
        "if year % 100 == 0:\n",
        "    print(\"Century year\")\n",
        "else:\n",
        "    print(\"Not a century year\")\n"
      ],
      "metadata": {
        "colab": {
          "base_uri": "https://localhost:8080/"
        },
        "id": "5rEouSMUAmpA",
        "outputId": "928023ee-7d1d-46a5-ea66-4c77c3e5ddb1"
      },
      "execution_count": 41,
      "outputs": [
        {
          "output_type": "stream",
          "name": "stdout",
          "text": [
            "Enter a year: 2090\n",
            "Not a century year\n"
          ]
        }
      ]
    },
    {
      "cell_type": "code",
      "source": [
        "# Question 20 - Determine if a given number is a perfect square using if-else.\n",
        "import math\n",
        "\n",
        "number = int(input(\"Enter a number: \"))\n",
        "sqrt = int(math.sqrt(number))\n",
        "if sqrt * sqrt == number:\n",
        "    print(\"Perfect square\")\n",
        "else:\n",
        "    print(\"Not a perfect square\")\n"
      ],
      "metadata": {
        "colab": {
          "base_uri": "https://localhost:8080/"
        },
        "id": "bKBaow5uAmwa",
        "outputId": "66dcdb26-8069-4c9d-c395-c0667618b02a"
      },
      "execution_count": 42,
      "outputs": [
        {
          "output_type": "stream",
          "name": "stdout",
          "text": [
            "Enter a number: 1\n",
            "Perfect square\n"
          ]
        }
      ]
    },
    {
      "cell_type": "code",
      "source": [
        "# Question 21 - Explain the purpose of the \"continue\" and \"break\" statements within if-else loops.\n",
        "# 'continue' is used to skip the rest of the current iteration and continue with the next iteration.\n",
        "# 'break' is used to exit the loop entirely.\n",
        "\n",
        "for i in range(1, 6):\n",
        "    if i == 3:\n",
        "        continue  # Skip when i is 3\n",
        "    if i == 4:\n",
        "        break  # Stop the loop when i is 4\n",
        "    print(i)\n"
      ],
      "metadata": {
        "colab": {
          "base_uri": "https://localhost:8080/"
        },
        "id": "Qc73XR9JAm4f",
        "outputId": "9ad434e9-421f-428a-8ab3-f90353a8d8a1"
      },
      "execution_count": 43,
      "outputs": [
        {
          "output_type": "stream",
          "name": "stdout",
          "text": [
            "1\n",
            "2\n"
          ]
        }
      ]
    },
    {
      "cell_type": "code",
      "source": [
        "# Question 22 - Calculate BMI (Body Mass Index) of a person based on their weight and height using if-else.\n",
        "weight = float(input(\"Enter weight in kg: \"))\n",
        "height = float(input(\"Enter height in meters: \"))\n",
        "\n",
        "bmi = weight / (height ** 2)\n",
        "if bmi < 18.5:\n",
        "    print(\"Underweight\")\n",
        "elif 18.5 <= bmi < 24.9:\n",
        "    print(\"Normal weight\")\n",
        "elif 25 <= bmi < 29.9:\n",
        "    print(\"Overweight\")\n",
        "else:\n",
        "    print(\"Obese\")\n"
      ],
      "metadata": {
        "colab": {
          "base_uri": "https://localhost:8080/"
        },
        "id": "Nyu9yAtCAnAR",
        "outputId": "817932e2-3029-4245-c346-4235b7847d0a"
      },
      "execution_count": 44,
      "outputs": [
        {
          "output_type": "stream",
          "name": "stdout",
          "text": [
            "Enter weight in kg: 85\n",
            "Enter height in meters: 185\n",
            "Underweight\n"
          ]
        }
      ]
    },
    {
      "cell_type": "code",
      "source": [
        "# Question 23 - Use the \"filter()\" function with if-else statements to filter elements from a list.\n",
        "numbers = [1, 2, 3, 4, 5, 6, 7, 8, 9, 10]\n",
        "even_numbers = filter(lambda x: x % 2 == 0, numbers)\n",
        "print(list(even_numbers))\n"
      ],
      "metadata": {
        "colab": {
          "base_uri": "https://localhost:8080/"
        },
        "id": "dEzkQxfVAnH1",
        "outputId": "5fd5dd2c-e900-41b7-90ca-570fe335b6fa"
      },
      "execution_count": 45,
      "outputs": [
        {
          "output_type": "stream",
          "name": "stdout",
          "text": [
            "[2, 4, 6, 8, 10]\n"
          ]
        }
      ]
    },
    {
      "cell_type": "code",
      "source": [
        "# Question 24 - Check if a given number is prime or not using if-else.\n",
        "number = int(input(\"Enter a number: \"))\n",
        "is_prime = True\n",
        "\n",
        "if number <= 1:\n",
        "    is_prime = False\n",
        "else:\n",
        "    for i in range(2, int(math.sqrt(number)) + 1):\n",
        "        if number % i == 0:\n",
        "            is_prime = False\n",
        "            break\n",
        "\n",
        "if is_prime:\n",
        "    print(\"Prime\")\n",
        "else:\n",
        "    print(\"Not prime\")\n"
      ],
      "metadata": {
        "colab": {
          "base_uri": "https://localhost:8080/"
        },
        "id": "T654SP8gAnQC",
        "outputId": "2b90aff4-0ee6-4166-c517-3f1dddf399eb"
      },
      "execution_count": 46,
      "outputs": [
        {
          "output_type": "stream",
          "name": "stdout",
          "text": [
            "Enter a number: 1\n",
            "Not prime\n"
          ]
        }
      ]
    },
    {
      "cell_type": "markdown",
      "source": [
        "**Map**"
      ],
      "metadata": {
        "id": "O4sdsEF_BhJ_"
      }
    },
    {
      "cell_type": "code",
      "source": [
        "# Question 1 - Explain the purpose of the `map()` function in Python and provide an example.\n",
        "\n",
        "# The `map()` function in Python allows you to apply a function to each item of an iterable (e.g., list, tuple) and returns a map object (an iterator).\n",
        "# Example: Applying a function to square each element in a list.\n",
        "\n",
        "def square(x):\n",
        "    return x ** 2\n",
        "\n",
        "numbers = [1, 2, 3, 4, 5]\n",
        "squared_numbers = map(square, numbers)\n",
        "\n",
        "# Convert the result to a list for easy viewing\n",
        "print(list(squared_numbers))\n"
      ],
      "metadata": {
        "colab": {
          "base_uri": "https://localhost:8080/"
        },
        "id": "cyOpHDKhBkBf",
        "outputId": "2ee2f4b0-3ce2-41e4-f84a-04c647b8303a"
      },
      "execution_count": 47,
      "outputs": [
        {
          "output_type": "stream",
          "name": "stdout",
          "text": [
            "[1, 4, 9, 16, 25]\n"
          ]
        }
      ]
    },
    {
      "cell_type": "code",
      "source": [
        "# Question 2 - Use the `map()` function to square each element of a list of numbers.\n",
        "numbers = [1, 2, 3, 4, 5]\n",
        "squared_numbers = map(lambda x: x ** 2, numbers)\n",
        "\n",
        "# Convert to list to display the result\n",
        "print(list(squared_numbers))\n"
      ],
      "metadata": {
        "colab": {
          "base_uri": "https://localhost:8080/"
        },
        "id": "b_Ko3noEBkJ2",
        "outputId": "548fb614-7a59-41cc-c476-9f2e34df13cb"
      },
      "execution_count": 48,
      "outputs": [
        {
          "output_type": "stream",
          "name": "stdout",
          "text": [
            "[1, 4, 9, 16, 25]\n"
          ]
        }
      ]
    },
    {
      "cell_type": "code",
      "source": [
        "# Question 3 - How does the `map()` function differ from a list comprehension in Python, and when would you choose one over the other?\n",
        "\n",
        "# Difference:\n",
        "# - `map()` applies a function to each item in an iterable and returns a map object (which can be converted to a list).\n",
        "# - List comprehension is a more concise way to create lists by iterating over an iterable and applying a condition or transformation.\n",
        "# - Use `map()` when you need to apply a function to each element of an iterable, and use list comprehension when you need to apply conditions or transformations that involve more complex logic.\n",
        "\n",
        "numbers = [1, 2, 3, 4, 5]\n",
        "\n",
        "# Using map() to square each element\n",
        "squared_map = map(lambda x: x ** 2, numbers)\n",
        "\n",
        "# Using list comprehension to square each element\n",
        "squared_list_comprehension = [x ** 2 for x in numbers]\n",
        "\n",
        "print(list(squared_map))\n",
        "print(squared_list_comprehension)\n"
      ],
      "metadata": {
        "colab": {
          "base_uri": "https://localhost:8080/"
        },
        "id": "7woYjzArBkSn",
        "outputId": "e5c09a9d-ffcf-49e6-822d-f939d3cc6e9c"
      },
      "execution_count": 49,
      "outputs": [
        {
          "output_type": "stream",
          "name": "stdout",
          "text": [
            "[1, 4, 9, 16, 25]\n",
            "[1, 4, 9, 16, 25]\n"
          ]
        }
      ]
    },
    {
      "cell_type": "code",
      "source": [
        "# Question 4 - Use the `map()` function to convert a list of names to uppercase.\n",
        "names = [\"alice\", \"bob\", \"charlie\", \"dave\"]\n",
        "uppercase_names = map(lambda name: name.upper(), names)\n",
        "\n",
        "# Convert to list to display the result\n",
        "print(list(uppercase_names))\n"
      ],
      "metadata": {
        "colab": {
          "base_uri": "https://localhost:8080/"
        },
        "id": "YQkWv411BkZg",
        "outputId": "b968a0c6-8def-4fb0-8f56-01757c072004"
      },
      "execution_count": 50,
      "outputs": [
        {
          "output_type": "stream",
          "name": "stdout",
          "text": [
            "['ALICE', 'BOB', 'CHARLIE', 'DAVE']\n"
          ]
        }
      ]
    },
    {
      "cell_type": "code",
      "source": [
        "# Question 5 - Use the `map()` function to calculate the length of each word in a list of strings.\n",
        "words = [\"apple\", \"banana\", \"cherry\", \"date\"]\n",
        "word_lengths = map(lambda word: len(word), words)\n",
        "\n",
        "# Convert to list to display the result\n",
        "print(list(word_lengths))\n"
      ],
      "metadata": {
        "colab": {
          "base_uri": "https://localhost:8080/"
        },
        "id": "jii_L8_mBkiU",
        "outputId": "fd9af0e2-f8ba-4386-ae4f-92df91d4a2ce"
      },
      "execution_count": 51,
      "outputs": [
        {
          "output_type": "stream",
          "name": "stdout",
          "text": [
            "[5, 6, 6, 4]\n"
          ]
        }
      ]
    },
    {
      "cell_type": "code",
      "source": [
        "# Question 6 - Apply a custom function to elements of multiple lists simultaneously using `map()`.\n",
        "\n",
        "# Custom function to add corresponding elements from two lists\n",
        "def add_elements(x, y):\n",
        "    return x + y\n",
        "\n",
        "list1 = [1, 2, 3, 4, 5]\n",
        "list2 = [6, 7, 8, 9, 10]\n",
        "\n",
        "# Use map to apply the add_elements function to corresponding elements from both lists\n",
        "sum_lists = map(add_elements, list1, list2)\n",
        "\n",
        "# Convert to list to display the result\n",
        "print(list(sum_lists))\n"
      ],
      "metadata": {
        "colab": {
          "base_uri": "https://localhost:8080/"
        },
        "id": "-8u9tNf_BkrZ",
        "outputId": "225bc9ae-bbda-4fde-f002-ac21637fbe1c"
      },
      "execution_count": 52,
      "outputs": [
        {
          "output_type": "stream",
          "name": "stdout",
          "text": [
            "[7, 9, 11, 13, 15]\n"
          ]
        }
      ]
    },
    {
      "cell_type": "code",
      "source": [
        "# Question 7 - Convert a list of temperatures from Celsius to Fahrenheit using `map()`.\n",
        "celsius_temps = [0, 10, 20, 30, 40, 50]\n",
        "fahrenheit_temps = map(lambda c: (c * 9/5) + 32, celsius_temps)\n",
        "\n",
        "# Convert to list to display the result\n",
        "print(list(fahrenheit_temps))\n"
      ],
      "metadata": {
        "colab": {
          "base_uri": "https://localhost:8080/"
        },
        "id": "iQ8Qwsh6BkzJ",
        "outputId": "d70ed12d-5920-451e-f01c-f5bee06c921e"
      },
      "execution_count": 53,
      "outputs": [
        {
          "output_type": "stream",
          "name": "stdout",
          "text": [
            "[32.0, 50.0, 68.0, 86.0, 104.0, 122.0]\n"
          ]
        }
      ]
    },
    {
      "cell_type": "code",
      "source": [
        "# Question 8 - Use the `map()` function to round each element of a list of floating-point numbers to the nearest integer.\n",
        "floats = [1.2, 2.5, 3.7, 4.1, 5.8]\n",
        "rounded_floats = map(round, floats)\n",
        "\n",
        "# Convert to list to display the result\n",
        "print(list(rounded_floats))\n"
      ],
      "metadata": {
        "colab": {
          "base_uri": "https://localhost:8080/"
        },
        "id": "cF4BTx48By2m",
        "outputId": "59cf1493-53b5-49bd-8e0e-70764030d9ee"
      },
      "execution_count": 54,
      "outputs": [
        {
          "output_type": "stream",
          "name": "stdout",
          "text": [
            "[1, 2, 4, 4, 6]\n"
          ]
        }
      ]
    },
    {
      "cell_type": "markdown",
      "source": [
        "**Reduce**"
      ],
      "metadata": {
        "id": "HGK3mqQvB0eS"
      }
    },
    {
      "cell_type": "code",
      "source": [
        "# Question 1 - What is the `reduce()` function in Python, and what module should you import to use it?\n",
        "\n",
        "# The `reduce()` function in Python is used to apply a binary function (a function that takes two arguments) cumulatively to the items of an iterable, from left to right, so as to reduce the iterable to a single value.\n",
        "# To use `reduce()`, you need to import it from the `functools` module.\n",
        "\n",
        "from functools import reduce\n",
        "\n",
        "# Example usage: Sum of elements in a list\n",
        "numbers = [1, 2, 3, 4, 5]\n",
        "sum_of_numbers = reduce(lambda x, y: x + y, numbers)\n",
        "print(sum_of_numbers)\n"
      ],
      "metadata": {
        "colab": {
          "base_uri": "https://localhost:8080/"
        },
        "id": "HwRMqnPqCAbJ",
        "outputId": "b7f7a86c-2a08-437b-e46a-d37b1c226433"
      },
      "execution_count": 55,
      "outputs": [
        {
          "output_type": "stream",
          "name": "stdout",
          "text": [
            "15\n"
          ]
        }
      ]
    },
    {
      "cell_type": "code",
      "source": [
        "# Question 2 - Write a Python program that uses the `reduce()` function to find the product of all elements in a list.\n",
        "\n",
        "from functools import reduce\n",
        "\n",
        "numbers = [1, 2, 3, 4, 5]\n",
        "product_of_numbers = reduce(lambda x, y: x * y, numbers)\n",
        "print(\"Product of all elements:\", product_of_numbers)\n"
      ],
      "metadata": {
        "colab": {
          "base_uri": "https://localhost:8080/"
        },
        "id": "cNbgXEaQCAkV",
        "outputId": "3c16b06e-3b9d-410d-f6b0-eea56855c373"
      },
      "execution_count": 56,
      "outputs": [
        {
          "output_type": "stream",
          "name": "stdout",
          "text": [
            "Product of all elements: 120\n"
          ]
        }
      ]
    },
    {
      "cell_type": "code",
      "source": [
        "# Question 3 - Create a Python program that uses `reduce()` to find the maximum element in a list of numbers.\n",
        "\n",
        "from functools import reduce\n",
        "\n",
        "numbers = [3, 1, 5, 7, 2, 8]\n",
        "max_number = reduce(lambda x, y: x if x > y else y, numbers)\n",
        "print(\"Maximum number:\", max_number)\n"
      ],
      "metadata": {
        "colab": {
          "base_uri": "https://localhost:8080/"
        },
        "id": "ROv0ikrjCAxN",
        "outputId": "414bba92-e0f9-4594-89d7-d59a3dd457a1"
      },
      "execution_count": 57,
      "outputs": [
        {
          "output_type": "stream",
          "name": "stdout",
          "text": [
            "Maximum number: 8\n"
          ]
        }
      ]
    },
    {
      "cell_type": "code",
      "source": [
        "# Question 4 - How can you use the `reduce()` function to concatenate a list of strings into a single string?\n",
        "\n",
        "from functools import reduce\n",
        "\n",
        "strings = [\"Hello\", \" \", \"World\", \"!\"]\n",
        "concatenated_string = reduce(lambda x, y: x + y, strings)\n",
        "print(\"Concatenated string:\", concatenated_string)\n"
      ],
      "metadata": {
        "colab": {
          "base_uri": "https://localhost:8080/"
        },
        "id": "GXCWI64WCA5e",
        "outputId": "ba8bcb8f-e731-46fa-f7af-b1ee5eb44eef"
      },
      "execution_count": 58,
      "outputs": [
        {
          "output_type": "stream",
          "name": "stdout",
          "text": [
            "Concatenated string: Hello World!\n"
          ]
        }
      ]
    },
    {
      "cell_type": "code",
      "source": [
        "# Question 5 - Write a Python program that calculates the factorial of a number using the `reduce()` function.\n",
        "\n",
        "from functools import reduce\n",
        "\n",
        "def factorial(n):\n",
        "    return reduce(lambda x, y: x * y, range(1, n + 1))\n",
        "\n",
        "number = 5\n",
        "factorial_result = factorial(number)\n",
        "print(f\"Factorial of {number}: {factorial_result}\")\n"
      ],
      "metadata": {
        "colab": {
          "base_uri": "https://localhost:8080/"
        },
        "id": "jSHkTKLRCBBa",
        "outputId": "85b2f9c8-896d-4217-9e79-b1c4d8d10c41"
      },
      "execution_count": 59,
      "outputs": [
        {
          "output_type": "stream",
          "name": "stdout",
          "text": [
            "Factorial of 5: 120\n"
          ]
        }
      ]
    },
    {
      "cell_type": "code",
      "source": [
        "# Question 6 - Create a Python program that uses `reduce()` to find the GCD (Greatest Common Divisor) of a list of numbers.\n",
        "\n",
        "from functools import reduce\n",
        "import math\n",
        "\n",
        "numbers = [24, 36, 48]\n",
        "\n",
        "# Use reduce with math.gcd to find the GCD of the list\n",
        "gcd_result = reduce(math.gcd, numbers)\n",
        "print(f\"GCD of the list: {gcd_result}\")\n"
      ],
      "metadata": {
        "colab": {
          "base_uri": "https://localhost:8080/"
        },
        "id": "VeWsP90nCBKN",
        "outputId": "3621a39b-e26b-48e2-b77d-6658fb36ac69"
      },
      "execution_count": 60,
      "outputs": [
        {
          "output_type": "stream",
          "name": "stdout",
          "text": [
            "GCD of the list: 12\n"
          ]
        }
      ]
    },
    {
      "cell_type": "code",
      "source": [
        "# Question 7 - Write a Python program that uses the `reduce()` function to find the sum of the digits of a given number.\n",
        "\n",
        "from functools import reduce\n",
        "\n",
        "number = 12345\n",
        "\n",
        "# Convert the number to a string, split it into digits, and then reduce to sum the digits\n",
        "sum_of_digits = reduce(lambda x, y: x + int(y), str(number), 0)\n",
        "print(f\"Sum of digits of {number}: {sum_of_digits}\")\n"
      ],
      "metadata": {
        "colab": {
          "base_uri": "https://localhost:8080/"
        },
        "id": "7VmGG6LsCBSZ",
        "outputId": "b0e5e848-891d-4d7e-ffda-f0e354d15b3d"
      },
      "execution_count": 61,
      "outputs": [
        {
          "output_type": "stream",
          "name": "stdout",
          "text": [
            "Sum of digits of 12345: 15\n"
          ]
        }
      ]
    },
    {
      "cell_type": "markdown",
      "source": [
        "**Filter**"
      ],
      "metadata": {
        "id": "kN4EyyRWCOy4"
      }
    },
    {
      "cell_type": "code",
      "source": [
        "# Question 1 - Explain the purpose of the `filter()` function in Python and provide an example of how it can be used to filter elements from an iterable.\n",
        "\n",
        "# The `filter()` function in Python is used to filter elements from an iterable based on a given function that returns a boolean value.\n",
        "# It applies the function to each element of the iterable and returns only those elements where the function returns True.\n",
        "\n",
        "# Example: Filtering even numbers from a list\n",
        "numbers = [1, 2, 3, 4, 5, 6, 7, 8, 9, 10]\n",
        "even_numbers = filter(lambda x: x % 2 == 0, numbers)\n",
        "\n",
        "# Convert the result to a list to display\n",
        "print(list(even_numbers))\n"
      ],
      "metadata": {
        "colab": {
          "base_uri": "https://localhost:8080/"
        },
        "id": "8cND8IoGCQb8",
        "outputId": "a97c6870-4704-4f00-9f27-e97ae50d436d"
      },
      "execution_count": 62,
      "outputs": [
        {
          "output_type": "stream",
          "name": "stdout",
          "text": [
            "[2, 4, 6, 8, 10]\n"
          ]
        }
      ]
    },
    {
      "cell_type": "code",
      "source": [
        "# Question 2 - Write a Python program that uses the `filter()` function to select even numbers from a list of integers.\n",
        "\n",
        "numbers = [1, 2, 3, 4, 5, 6, 7, 8, 9, 10]\n",
        "even_numbers = filter(lambda x: x % 2 == 0, numbers)\n",
        "\n",
        "# Convert the result to a list to display\n",
        "print(list(even_numbers))\n"
      ],
      "metadata": {
        "colab": {
          "base_uri": "https://localhost:8080/"
        },
        "id": "3qRBOhWbCQi7",
        "outputId": "368dec25-9fb9-41f3-ed6c-1c5a705bf77a"
      },
      "execution_count": 63,
      "outputs": [
        {
          "output_type": "stream",
          "name": "stdout",
          "text": [
            "[2, 4, 6, 8, 10]\n"
          ]
        }
      ]
    },
    {
      "cell_type": "code",
      "source": [
        "# Question 3 - Create a Python program that uses the `filter()` function to select names that start with a specific letter from a list of strings.\n",
        "\n",
        "names = [\"Alice\", \"Bob\", \"Charlie\", \"David\", \"Eve\"]\n",
        "letter = \"A\"\n",
        "names_starting_with_A = filter(lambda name: name.startswith(letter), names)\n",
        "\n",
        "# Convert the result to a list to display\n",
        "print(list(names_starting_with_A))\n"
      ],
      "metadata": {
        "colab": {
          "base_uri": "https://localhost:8080/"
        },
        "id": "dwML8zZcCQqQ",
        "outputId": "d7bbc639-3213-4798-dadd-0a3f4314ae94"
      },
      "execution_count": 64,
      "outputs": [
        {
          "output_type": "stream",
          "name": "stdout",
          "text": [
            "['Alice']\n"
          ]
        }
      ]
    },
    {
      "cell_type": "code",
      "source": [
        "# Question 4 - Write a Python program that uses the `filter()` function to select prime numbers from a list of integers.\n",
        "\n",
        "def is_prime(n):\n",
        "    if n <= 1:\n",
        "        return False\n",
        "    for i in range(2, int(n ** 0.5) + 1):\n",
        "        if n % i == 0:\n",
        "            return False\n",
        "    return True\n",
        "\n",
        "numbers = [1, 2, 3, 4, 5, 6, 7, 8, 9, 10, 11, 13, 17, 19]\n",
        "prime_numbers = filter(is_prime, numbers)\n",
        "\n",
        "# Convert the result to a list to display\n",
        "print(list(prime_numbers))\n"
      ],
      "metadata": {
        "colab": {
          "base_uri": "https://localhost:8080/"
        },
        "id": "1EWW10dxCQyO",
        "outputId": "ec4908fa-4094-48ff-d77d-c7d3aaa030f6"
      },
      "execution_count": 65,
      "outputs": [
        {
          "output_type": "stream",
          "name": "stdout",
          "text": [
            "[2, 3, 5, 7, 11, 13, 17, 19]\n"
          ]
        }
      ]
    },
    {
      "cell_type": "code",
      "source": [
        "# Question 5 - How can you use the `filter()` function to remove None values from a list in Python?\n",
        "\n",
        "values = [1, 2, None, 3, None, 4, None, 5]\n",
        "filtered_values = filter(lambda x: x is not None, values)\n",
        "\n",
        "# Convert the result to a list to display\n",
        "print(list(filtered_values))\n"
      ],
      "metadata": {
        "colab": {
          "base_uri": "https://localhost:8080/"
        },
        "id": "hnSSkbjwCQ5t",
        "outputId": "2ec737b1-a5c7-4be9-f8bc-1751c77723db"
      },
      "execution_count": 66,
      "outputs": [
        {
          "output_type": "stream",
          "name": "stdout",
          "text": [
            "[1, 2, 3, 4, 5]\n"
          ]
        }
      ]
    },
    {
      "cell_type": "code",
      "source": [
        "# Question 6 - Create a Python program that uses `filter()` to select words longer than a certain length from a list of strings.\n",
        "\n",
        "words = [\"apple\", \"banana\", \"cherry\", \"date\", \"elderberry\", \"fig\"]\n",
        "min_length = 5\n",
        "long_words = filter(lambda word: len(word) > min_length, words)\n",
        "\n",
        "# Convert the result to a list to display\n",
        "print(list(long_words))\n"
      ],
      "metadata": {
        "colab": {
          "base_uri": "https://localhost:8080/"
        },
        "id": "rBDoUGmjCRA9",
        "outputId": "bced0fd0-d94b-4f28-c455-67fa3d8f2f6f"
      },
      "execution_count": 67,
      "outputs": [
        {
          "output_type": "stream",
          "name": "stdout",
          "text": [
            "['banana', 'cherry', 'elderberry']\n"
          ]
        }
      ]
    },
    {
      "cell_type": "code",
      "source": [
        "# Question 7 - Write a Python program that uses the `filter()` function to select elements greater than a specified threshold from a list of values.\n",
        "\n",
        "values = [10, 20, 30, 40, 50, 60, 70]\n",
        "threshold = 40\n",
        "values_greater_than_threshold = filter(lambda x: x > threshold, values)\n",
        "\n",
        "# Convert the result to a list to display\n",
        "print(list(values_greater_than_threshold))\n"
      ],
      "metadata": {
        "colab": {
          "base_uri": "https://localhost:8080/"
        },
        "id": "mbvIhfayCRLd",
        "outputId": "c4974ff7-0171-4195-ffb8-87106ad4b163"
      },
      "execution_count": 68,
      "outputs": [
        {
          "output_type": "stream",
          "name": "stdout",
          "text": [
            "[50, 60, 70]\n"
          ]
        }
      ]
    },
    {
      "cell_type": "markdown",
      "source": [
        "**Recursion:-**"
      ],
      "metadata": {
        "id": "YtCHdPhiCkZJ"
      }
    },
    {
      "cell_type": "markdown",
      "source": [
        "# Question 1 - Explain the concept of recursion in Python. How does it differ from iteration?\n",
        "\n",
        "# Recursion in Python occurs when a function calls itself to solve a problem. It's typically used for problems that can be broken down into smaller, similar subproblems. Each recursive call works on a smaller piece of the problem until a base case is reached.\n",
        "\n",
        "# The difference between recursion and iteration:\n",
        "# - Recursion involves a function calling itself to solve a problem.\n",
        "# - Iteration uses loops (for, while) to repeat an action until a condition is met.\n",
        "\n",
        "# Recursion can be more elegant but may consume more memory due to function call overhead, while iteration is typically more efficient in terms of memory."
      ],
      "metadata": {
        "id": "2vYZvKTzFAYX"
      }
    },
    {
      "cell_type": "code",
      "source": [
        "# Question 2 - Write a Python program to calculate the factorial of a number using recursion.\n",
        "\n",
        "def factorial(n):\n",
        "    # Base case: factorial of 0 or 1 is 1\n",
        "    if n <= 1:\n",
        "        return 1\n",
        "    else:\n",
        "        return n * factorial(n - 1)\n",
        "\n",
        "# Example usage\n",
        "number = 5\n",
        "print(f\"Factorial of {number} is: {factorial(number)}\")\n"
      ],
      "metadata": {
        "colab": {
          "base_uri": "https://localhost:8080/"
        },
        "id": "6ba_9MErCmud",
        "outputId": "8e7bb3b7-0112-46f0-ac62-baca7a402954"
      },
      "execution_count": 69,
      "outputs": [
        {
          "output_type": "stream",
          "name": "stdout",
          "text": [
            "Factorial of 5 is: 120\n"
          ]
        }
      ]
    },
    {
      "cell_type": "code",
      "source": [
        "# Question 3 - Create a recursive Python function to find the nth Fibonacci number.\n",
        "\n",
        "def fibonacci(n):\n",
        "    # Base cases\n",
        "    if n <= 0:\n",
        "        return 0\n",
        "    elif n == 1:\n",
        "        return 1\n",
        "    else:\n",
        "        return fibonacci(n - 1) + fibonacci(n - 2)\n",
        "\n",
        "# Example usage\n",
        "n = 6\n",
        "print(f\"The {n}th Fibonacci number is: {fibonacci(n)}\")\n"
      ],
      "metadata": {
        "colab": {
          "base_uri": "https://localhost:8080/"
        },
        "id": "save0rXZCm1F",
        "outputId": "66ffa475-084a-4926-cf1a-90d7f7ae1798"
      },
      "execution_count": 70,
      "outputs": [
        {
          "output_type": "stream",
          "name": "stdout",
          "text": [
            "The 6th Fibonacci number is: 8\n"
          ]
        }
      ]
    },
    {
      "cell_type": "code",
      "source": [
        "# Question 4 - Write a recursive Python function to calculate the sum of all elements in a list.\n",
        "\n",
        "def sum_list(lst):\n",
        "    # Base case: If the list is empty, return 0\n",
        "    if not lst:\n",
        "        return 0\n",
        "    else:\n",
        "        return lst[0] + sum_list(lst[1:])\n",
        "\n",
        "# Example usage\n",
        "numbers = [1, 2, 3, 4, 5]\n",
        "print(f\"Sum of the list is: {sum_list(numbers)}\")\n"
      ],
      "metadata": {
        "colab": {
          "base_uri": "https://localhost:8080/"
        },
        "id": "3J3Xk5YACm7z",
        "outputId": "eedeefa2-9da6-4644-9658-0b6ebe65c50f"
      },
      "execution_count": 71,
      "outputs": [
        {
          "output_type": "stream",
          "name": "stdout",
          "text": [
            "Sum of the list is: 15\n"
          ]
        }
      ]
    },
    {
      "cell_type": "code",
      "source": [
        "# Question 5 - How can you prevent a recursive function from running indefinitely, causing a stack overflow error?\n",
        "\n",
        "# A stack overflow occurs if the recursion doesn't have a base case or if the base case is never reached.\n",
        "# To prevent it:\n",
        "# 1. Ensure there's a valid base case that will terminate the recursion.\n",
        "# 2. Make sure the function reduces the problem size with each recursive call (e.g., decreasing n).\n",
        "\n",
        "# Example of a safe recursive function:\n",
        "def safe_factorial(n):\n",
        "    if n <= 1:  # Base case\n",
        "        return 1\n",
        "    else:\n",
        "        return n * safe_factorial(n - 1)\n",
        "\n",
        "# Example usage\n",
        "print(safe_factorial(5))\n"
      ],
      "metadata": {
        "colab": {
          "base_uri": "https://localhost:8080/"
        },
        "id": "IWQ46E31CnDD",
        "outputId": "41c03747-0632-40eb-c1d7-750a296a66cd"
      },
      "execution_count": 72,
      "outputs": [
        {
          "output_type": "stream",
          "name": "stdout",
          "text": [
            "120\n"
          ]
        }
      ]
    },
    {
      "cell_type": "code",
      "source": [
        "# Question 6 - Create a recursive Python function to find the greatest common divisor (GCD) of two numbers using the Euclidean algorithm.\n",
        "\n",
        "def gcd(a, b):\n",
        "    # Base case: If b is 0, return a\n",
        "    if b == 0:\n",
        "        return a\n",
        "    else:\n",
        "        return gcd(b, a % b)\n",
        "\n",
        "# Example usage\n",
        "num1 = 56\n",
        "num2 = 98\n",
        "print(f\"The GCD of {num1} and {num2} is: {gcd(num1, num2)}\")\n"
      ],
      "metadata": {
        "colab": {
          "base_uri": "https://localhost:8080/"
        },
        "id": "e4h46kLzCnLf",
        "outputId": "67d882ef-aaf1-4faa-8595-ef5860fdb56b"
      },
      "execution_count": 73,
      "outputs": [
        {
          "output_type": "stream",
          "name": "stdout",
          "text": [
            "The GCD of 56 and 98 is: 14\n"
          ]
        }
      ]
    },
    {
      "cell_type": "code",
      "source": [
        "# Question 7 - Write a recursive Python function to reverse a string.\n",
        "\n",
        "def reverse_string(s):\n",
        "    # Base case: if the string is empty or just 1 character\n",
        "    if len(s) <= 1:\n",
        "        return s\n",
        "    else:\n",
        "        # Recursively reverse the rest of the string and add the first character at the end\n",
        "        return reverse_string(s[1:]) + s[0]\n",
        "\n",
        "# Example usage\n",
        "string = \"recursion\"\n",
        "print(f\"Reversed string is: {reverse_string(string)}\")\n"
      ],
      "metadata": {
        "colab": {
          "base_uri": "https://localhost:8080/"
        },
        "id": "YLEkkXC7CnSr",
        "outputId": "5f6ae942-4d8d-486f-884d-7735b480efc8"
      },
      "execution_count": 74,
      "outputs": [
        {
          "output_type": "stream",
          "name": "stdout",
          "text": [
            "Reversed string is: noisrucer\n"
          ]
        }
      ]
    },
    {
      "cell_type": "code",
      "source": [
        "# Question 8 - Create a recursive Python function to calculate the power of a number (x^n).\n",
        "\n",
        "def power(x, n):\n",
        "    # Base case: if n is 0, return 1 (since x^0 = 1)\n",
        "    if n == 0:\n",
        "        return 1\n",
        "    else:\n",
        "        return x * power(x, n - 1)\n",
        "\n",
        "# Example usage\n",
        "base = 2\n",
        "exponent = 3\n",
        "print(f\"{base} raised to the power {exponent} is: {power(base, exponent)}\")\n"
      ],
      "metadata": {
        "colab": {
          "base_uri": "https://localhost:8080/"
        },
        "id": "PQ7wqehMCnZd",
        "outputId": "42583e6d-022c-4ee7-fd89-3689bd2655ce"
      },
      "execution_count": 75,
      "outputs": [
        {
          "output_type": "stream",
          "name": "stdout",
          "text": [
            "2 raised to the power 3 is: 8\n"
          ]
        }
      ]
    },
    {
      "cell_type": "code",
      "source": [
        "# Question 9 - Write a recursive Python function to find all permutations of a given string.\n",
        "\n",
        "def permutations(s):\n",
        "    # Base case: if the string is empty, return an empty list\n",
        "    if len(s) == 0:\n",
        "        return ['']\n",
        "\n",
        "    result = []\n",
        "    for i in range(len(s)):\n",
        "        # Find the permutations for the substring without the current character\n",
        "        sub_permutations = permutations(s[:i] + s[i+1:])\n",
        "        # Add the current character to the beginning of each permutation of the substring\n",
        "        for sub in sub_permutations:\n",
        "            result.append(s[i] + sub)\n",
        "\n",
        "    return result\n",
        "\n",
        "# Example usage\n",
        "string = \"abc\"\n",
        "print(f\"All permutations of {string}: {permutations(string)}\")\n"
      ],
      "metadata": {
        "colab": {
          "base_uri": "https://localhost:8080/"
        },
        "id": "p3j9sNAKCnfX",
        "outputId": "a0fbe28d-f16e-45ea-97c5-3aaa63b924ac"
      },
      "execution_count": 76,
      "outputs": [
        {
          "output_type": "stream",
          "name": "stdout",
          "text": [
            "All permutations of abc: ['abc', 'acb', 'bac', 'bca', 'cab', 'cba']\n"
          ]
        }
      ]
    },
    {
      "cell_type": "code",
      "source": [
        "# Question 10 - Write a recursive Python function to check if a string is a palindrome.\n",
        "\n",
        "def is_palindrome(s):\n",
        "    # Base case: if the string is empty or a single character, it's a palindrome\n",
        "    if len(s) <= 1:\n",
        "        return True\n",
        "    # If the first and last characters are not equal, it's not a palindrome\n",
        "    if s[0] != s[-1]:\n",
        "        return False\n",
        "    else:\n",
        "        # Recursively check the substring (excluding the first and last characters)\n",
        "        return is_palindrome(s[1:-1])\n",
        "\n",
        "# Example usage\n",
        "string = \"racecar\"\n",
        "print(f\"Is {string} a palindrome? {is_palindrome(string)}\")\n"
      ],
      "metadata": {
        "colab": {
          "base_uri": "https://localhost:8080/"
        },
        "id": "sujrgxJoCnmY",
        "outputId": "012fed10-e398-4c8a-eeae-7de23c20c805"
      },
      "execution_count": 77,
      "outputs": [
        {
          "output_type": "stream",
          "name": "stdout",
          "text": [
            "Is racecar a palindrome? True\n"
          ]
        }
      ]
    },
    {
      "cell_type": "code",
      "source": [
        "# Question 11 - Create a recursive Python function to generate all possible combinations of a list of elements.\n",
        "\n",
        "def combinations(lst):\n",
        "    # Base case: if the list is empty, return a list containing an empty list\n",
        "    if len(lst) == 0:\n",
        "        return [[]]\n",
        "\n",
        "    # Get all combinations of the rest of the list\n",
        "    rest_combinations = combinations(lst[1:])\n",
        "\n",
        "    # Include combinations with and without the first element\n",
        "    return rest_combinations + [[lst[0]] + rest for rest in rest_combinations]\n",
        "\n",
        "# Example usage\n",
        "elements = [1, 2, 3]\n",
        "print(f\"All combinations of {elements}: {combinations(elements)}\")\n"
      ],
      "metadata": {
        "colab": {
          "base_uri": "https://localhost:8080/"
        },
        "id": "bsRJsMcmCoAD",
        "outputId": "0c5a4b51-929e-419a-bb76-af039b8c8ada"
      },
      "execution_count": 78,
      "outputs": [
        {
          "output_type": "stream",
          "name": "stdout",
          "text": [
            "All combinations of [1, 2, 3]: [[], [3], [2], [2, 3], [1], [1, 3], [1, 2], [1, 2, 3]]\n"
          ]
        }
      ]
    },
    {
      "cell_type": "markdown",
      "source": [
        "**Basics of Functions:**"
      ],
      "metadata": {
        "id": "USGtCZYWDCbH"
      }
    },
    {
      "cell_type": "code",
      "source": [
        "# Question 1 - What is a function in Python, and why is it used?\n",
        "\n",
        "# A function in Python is a block of reusable code that performs a specific task.\n",
        "# Functions are used to break down a problem into smaller, manageable parts and to avoid code repetition.\n",
        "# Functions can take input arguments, perform operations, and return a result.\n",
        "\n",
        "# Example:\n",
        "def greet():\n",
        "    print(\"Hello, World!\")\n",
        "\n",
        "greet()  # Calling the function\n"
      ],
      "metadata": {
        "colab": {
          "base_uri": "https://localhost:8080/"
        },
        "id": "78XpVy99DHsS",
        "outputId": "4fd95814-565e-40f5-e246-1cac7c9b6651"
      },
      "execution_count": 79,
      "outputs": [
        {
          "output_type": "stream",
          "name": "stdout",
          "text": [
            "Hello, World!\n"
          ]
        }
      ]
    },
    {
      "cell_type": "code",
      "source": [
        "# Question 2 - How do you define a function in Python? Provide an example.\n",
        "\n",
        "# In Python, functions are defined using the `def` keyword followed by the function name and parentheses (which may include parameters).\n",
        "# The function definition is followed by an indented block of code that represents the body of the function.\n",
        "\n",
        "def add_numbers(a, b):\n",
        "    \"\"\"This function takes two numbers as input and returns their sum.\"\"\"\n",
        "    return a + b\n",
        "\n",
        "# Example usage\n",
        "result = add_numbers(3, 5)\n",
        "print(f\"Sum: {result}\")  # Output: Sum: 8\n"
      ],
      "metadata": {
        "colab": {
          "base_uri": "https://localhost:8080/"
        },
        "id": "eMUxDArhDHzK",
        "outputId": "c369debb-0622-46f5-d4d9-8449d0147c24"
      },
      "execution_count": 80,
      "outputs": [
        {
          "output_type": "stream",
          "name": "stdout",
          "text": [
            "Sum: 8\n"
          ]
        }
      ]
    },
    {
      "cell_type": "code",
      "source": [
        "# Question 3 - Explain the difference between a function definition and a function call.\n",
        "\n",
        "# - A **function definition** specifies what the function does and includes the function name, parameters, and code block.\n",
        "# - A **function call** is when you invoke the function to execute its code.\n",
        "\n",
        "# Example:\n",
        "# Function Definition\n",
        "def multiply(x, y):\n",
        "    return x * y\n",
        "\n",
        "# Function Call\n",
        "result = multiply(4, 5)  # Here we are calling the function `multiply` with arguments 4 and 5.\n",
        "print(f\"Multiplication Result: {result}\")  # Output: Multiplication Result: 20\n"
      ],
      "metadata": {
        "colab": {
          "base_uri": "https://localhost:8080/"
        },
        "id": "yCaNdPCyDH7_",
        "outputId": "95747284-caa2-4721-82d2-9dc1db9e1608"
      },
      "execution_count": 81,
      "outputs": [
        {
          "output_type": "stream",
          "name": "stdout",
          "text": [
            "Multiplication Result: 20\n"
          ]
        }
      ]
    },
    {
      "cell_type": "code",
      "source": [
        "# Question 4 - Write a Python program that defines a function to calculate the sum of two numbers and then calls the function.\n",
        "\n",
        "def sum_of_two_numbers(num1, num2):\n",
        "    \"\"\"This function takes two numbers and returns their sum.\"\"\"\n",
        "    return num1 + num2\n",
        "\n",
        "# Calling the function\n",
        "sum_result = sum_of_two_numbers(10, 15)\n",
        "print(f\"The sum of the two numbers is: {sum_result}\")  # Output: The sum of the two numbers is: 25\n"
      ],
      "metadata": {
        "colab": {
          "base_uri": "https://localhost:8080/"
        },
        "id": "QIiqkN3BDICV",
        "outputId": "55ecacac-8fae-4717-830c-35118ef8f53e"
      },
      "execution_count": 82,
      "outputs": [
        {
          "output_type": "stream",
          "name": "stdout",
          "text": [
            "The sum of the two numbers is: 25\n"
          ]
        }
      ]
    },
    {
      "cell_type": "code",
      "source": [
        "# Question 5 - What is a function signature, and what information does it typically include?\n",
        "\n",
        "# A **function signature** in Python refers to the part of the function definition that specifies the function's name,\n",
        "# the parameters it accepts, and optionally, the return type (though Python doesn't explicitly specify return types in its signature).\n",
        "\n",
        "# A typical function signature includes:\n",
        "# 1. The function name.\n",
        "# 2. The list of parameters (arguments) inside parentheses.\n",
        "# 3. A colon \":\" that marks the start of the function body.\n",
        "\n",
        "# Example:\n",
        "def subtract(a, b):  # Function signature: def subtract(a, b)\n",
        "    return a - b\n"
      ],
      "metadata": {
        "id": "kiQK7G7jDIKI"
      },
      "execution_count": 83,
      "outputs": []
    },
    {
      "cell_type": "code",
      "source": [
        "# Question 6 - Create a Python function that takes two arguments and returns their product.\n",
        "\n",
        "def product_of_two(a, b):\n",
        "    \"\"\"This function takes two numbers and returns their product.\"\"\"\n",
        "    return a * b\n",
        "\n",
        "# Example usage\n",
        "result = product_of_two(6, 7)\n",
        "print(f\"The product of the two numbers is: {result}\")  # Output: The product of the two numbers is: 42\n"
      ],
      "metadata": {
        "colab": {
          "base_uri": "https://localhost:8080/"
        },
        "id": "YBS-k8X1DIR8",
        "outputId": "d602e9ae-67a9-4bab-b05b-d793cbe1e996"
      },
      "execution_count": 84,
      "outputs": [
        {
          "output_type": "stream",
          "name": "stdout",
          "text": [
            "The product of the two numbers is: 42\n"
          ]
        }
      ]
    },
    {
      "cell_type": "markdown",
      "source": [
        "**Function Parameters and Arguments:**"
      ],
      "metadata": {
        "id": "-4hK0V0lDZFy"
      }
    },
    {
      "cell_type": "code",
      "source": [
        "# Question 1 - Explain the concepts of formal parameters and actual arguments in Python functions.\n",
        "\n",
        "# In Python:\n",
        "# - **Formal Parameters**: These are the parameters defined in the function definition. They act as placeholders for the values passed into the function.\n",
        "# - **Actual Arguments**: These are the values or expressions passed to the function when it is called. They are assigned to the formal parameters when the function is executed.\n",
        "\n",
        "# Example:\n",
        "\n",
        "def greet(name, age):  # 'name' and 'age' are formal parameters\n",
        "    print(f\"Hello {name}, you are {age} years old.\")\n",
        "\n",
        "# 'Alice' and 30 are actual arguments\n",
        "greet(\"Alice\", 30)\n"
      ],
      "metadata": {
        "colab": {
          "base_uri": "https://localhost:8080/"
        },
        "id": "-yyBEXpfDagU",
        "outputId": "cf1fc308-c0cb-4b56-eca2-4841123d1af5"
      },
      "execution_count": 85,
      "outputs": [
        {
          "output_type": "stream",
          "name": "stdout",
          "text": [
            "Hello Alice, you are 30 years old.\n"
          ]
        }
      ]
    },
    {
      "cell_type": "code",
      "source": [
        "# Question 2 - Write a Python program that defines a function with default argument values.\n",
        "\n",
        "# In Python, you can specify default values for function parameters. If the argument is not passed when the function is called, the default value is used.\n",
        "\n",
        "def greet(name=\"John\", age=25):\n",
        "    \"\"\"This function greets a person with a default name and age.\"\"\"\n",
        "    print(f\"Hello {name}, you are {age} years old.\")\n",
        "\n",
        "# Calling the function without arguments uses the default values\n",
        "greet()\n",
        "\n",
        "# Calling the function with custom arguments\n",
        "greet(\"Alice\", 30)\n"
      ],
      "metadata": {
        "colab": {
          "base_uri": "https://localhost:8080/"
        },
        "id": "9JMie9tIDaoa",
        "outputId": "4d9025ff-6e30-44b5-bb64-27a1a4f65652"
      },
      "execution_count": 86,
      "outputs": [
        {
          "output_type": "stream",
          "name": "stdout",
          "text": [
            "Hello John, you are 25 years old.\n",
            "Hello Alice, you are 30 years old.\n"
          ]
        }
      ]
    },
    {
      "cell_type": "code",
      "source": [
        "# Question 3 - How do you use keyword arguments in Python function calls? Provide an example.\n",
        "\n",
        "# Keyword arguments allow you to pass arguments to a function by explicitly specifying the name of the parameter.\n",
        "# This makes the function call more readable and allows you to pass arguments in any order.\n",
        "\n",
        "def greet(name, age):\n",
        "    \"\"\"This function greets a person by their name and age.\"\"\"\n",
        "    print(f\"Hello {name}, you are {age} years old.\")\n",
        "\n",
        "# Using keyword arguments (passing in any order)\n",
        "greet(age=30, name=\"Alice\")\n"
      ],
      "metadata": {
        "colab": {
          "base_uri": "https://localhost:8080/"
        },
        "id": "LSyVht4SDaxQ",
        "outputId": "d88f33aa-a941-4025-8aa3-d1179ebcc494"
      },
      "execution_count": 87,
      "outputs": [
        {
          "output_type": "stream",
          "name": "stdout",
          "text": [
            "Hello Alice, you are 30 years old.\n"
          ]
        }
      ]
    },
    {
      "cell_type": "code",
      "source": [
        "# Question 4 - Create a Python function that accepts a variable number of arguments and calculates their sum.\n",
        "\n",
        "# You can use *args to pass a variable number of positional arguments to a function. 'args' will collect all arguments passed to the function as a tuple.\n",
        "\n",
        "def calculate_sum(*args):\n",
        "    \"\"\"This function calculates the sum of a variable number of arguments.\"\"\"\n",
        "    return sum(args)\n",
        "\n",
        "# Calling the function with a variable number of arguments\n",
        "result = calculate_sum(1, 2, 3, 4, 5)\n",
        "print(f\"The sum is: {result}\")  # Output: The sum is: 15\n"
      ],
      "metadata": {
        "colab": {
          "base_uri": "https://localhost:8080/"
        },
        "id": "QRItMiafDa42",
        "outputId": "f05a859c-623e-4b62-d7a6-7d86219f448d"
      },
      "execution_count": 88,
      "outputs": [
        {
          "output_type": "stream",
          "name": "stdout",
          "text": [
            "The sum is: 15\n"
          ]
        }
      ]
    },
    {
      "cell_type": "code",
      "source": [
        "# Question 5 - What is the purpose of the *args and **kwargs syntax in function parameter lists?\n",
        "\n",
        "# *args allows a function to accept any number of positional arguments (arguments without keyword).\n",
        "# **kwargs allows a function to accept any number of keyword arguments (arguments passed by name).\n",
        "\n",
        "def show_info(*args, **kwargs):\n",
        "    \"\"\"This function accepts both positional (*args) and keyword (**kwargs) arguments.\"\"\"\n",
        "    print(\"Positional arguments:\", args)\n",
        "    print(\"Keyword arguments:\", kwargs)\n",
        "\n",
        "# Calling the function with *args and **kwargs\n",
        "show_info(10, 20, 30, name=\"Alice\", age=30)\n"
      ],
      "metadata": {
        "colab": {
          "base_uri": "https://localhost:8080/"
        },
        "id": "N8F-OKFmDa_u",
        "outputId": "626b6d12-bb30-49a4-e03b-3042681e7915"
      },
      "execution_count": 89,
      "outputs": [
        {
          "output_type": "stream",
          "name": "stdout",
          "text": [
            "Positional arguments: (10, 20, 30)\n",
            "Keyword arguments: {'name': 'Alice', 'age': 30}\n"
          ]
        }
      ]
    },
    {
      "cell_type": "markdown",
      "source": [
        "**Return Values and Scoping:**"
      ],
      "metadata": {
        "id": "I2GUta_CDq3w"
      }
    },
    {
      "cell_type": "code",
      "source": [
        "# Question 1 - Describe the role of the `return` statement in Python functions and provide examples.\n",
        "\n",
        "# The `return` statement is used to exit a function and pass back a result or value to the caller.\n",
        "# If no return statement is provided, the function returns `None` by default.\n",
        "\n",
        "# Example 1: Function with a return value\n",
        "def add(a, b):\n",
        "    return a + b\n",
        "\n",
        "result = add(3, 5)  # Calling the function\n",
        "print(f\"The sum is: {result}\")  # Output: The sum is: 8\n",
        "\n",
        "# Example 2: Function without a return value (implicitly returns None)\n",
        "def greet():\n",
        "    print(\"Hello, World!\")\n",
        "\n",
        "greeting = greet()  # Calling the function\n",
        "print(f\"Greeting: {greeting}\")  # Output: Greeting: None (since greet() doesn't return anything)\n"
      ],
      "metadata": {
        "colab": {
          "base_uri": "https://localhost:8080/"
        },
        "id": "d30X0oi6DtLJ",
        "outputId": "44748a5b-7788-4ef9-a6e3-8d4581813dc2"
      },
      "execution_count": 90,
      "outputs": [
        {
          "output_type": "stream",
          "name": "stdout",
          "text": [
            "The sum is: 8\n",
            "Hello, World!\n",
            "Greeting: None\n"
          ]
        }
      ]
    },
    {
      "cell_type": "code",
      "source": [
        "# Question 2 - Explain the concept of variable scope in Python, including local and global variables.\n",
        "\n",
        "# Variable scope determines the accessibility of a variable. In Python, there are two main types of scope:\n",
        "# 1. **Local Scope**: Variables defined inside a function or block, accessible only within that function/block.\n",
        "# 2. **Global Scope**: Variables defined outside any function, accessible throughout the program.\n",
        "\n",
        "# Example demonstrating Local and Global variables\n",
        "\n",
        "# Global variable\n",
        "x = 10\n",
        "\n",
        "def func():\n",
        "    # Local variable\n",
        "    y = 5\n",
        "    print(\"Inside function - Local variable y:\", y)\n",
        "    print(\"Inside function - Global variable x:\", x)\n",
        "\n",
        "func()\n",
        "\n",
        "print(\"Outside function - Global variable x:\", x)\n",
        "# The following will throw an error because 'y' is local to func():\n",
        "# print(\"Outside function - Local variable y:\", y)\n"
      ],
      "metadata": {
        "colab": {
          "base_uri": "https://localhost:8080/"
        },
        "id": "5Ap21ZzfDtWk",
        "outputId": "2db7cb90-4905-4235-ad4b-f887ec78cbf3"
      },
      "execution_count": 91,
      "outputs": [
        {
          "output_type": "stream",
          "name": "stdout",
          "text": [
            "Inside function - Local variable y: 5\n",
            "Inside function - Global variable x: 10\n",
            "Outside function - Global variable x: 10\n"
          ]
        }
      ]
    },
    {
      "cell_type": "code",
      "source": [
        "# Question 3 - Write a Python program that demonstrates the use of global variables within functions.\n",
        "\n",
        "# Global variable\n",
        "message = \"Hello from outside!\"\n",
        "\n",
        "def greet():\n",
        "    global message  # Accessing the global variable\n",
        "    message = \"Hello from inside!\"\n",
        "    print(message)\n",
        "\n",
        "greet()  # Function call modifies the global variable 'message'\n",
        "print(message)  # After calling the function, the global variable is updated\n"
      ],
      "metadata": {
        "colab": {
          "base_uri": "https://localhost:8080/"
        },
        "id": "NfHbTOAODter",
        "outputId": "d860cc25-be03-4ba1-db6a-273caac7b6cd"
      },
      "execution_count": 92,
      "outputs": [
        {
          "output_type": "stream",
          "name": "stdout",
          "text": [
            "Hello from inside!\n",
            "Hello from inside!\n"
          ]
        }
      ]
    },
    {
      "cell_type": "code",
      "source": [
        "# Question 4 - Create a Python function that calculates the factorial of a number and returns it.\n",
        "\n",
        "# A factorial of a number 'n' is the product of all positive integers less than or equal to 'n'.\n",
        "# It can be calculated recursively or iteratively. Let's use an iterative approach here.\n",
        "\n",
        "def factorial(n):\n",
        "    result = 1\n",
        "    for i in range(1, n + 1):\n",
        "        result *= i\n",
        "    return result\n",
        "\n",
        "# Example usage\n",
        "num = 5\n",
        "fact = factorial(num)\n",
        "print(f\"The factorial of {num} is: {fact}\")  # Output: The factorial of 5 is: 120\n"
      ],
      "metadata": {
        "colab": {
          "base_uri": "https://localhost:8080/"
        },
        "id": "7oHVNSdBDtmU",
        "outputId": "d6ea141d-c56a-4a66-fd6e-fa9cd1ffc667"
      },
      "execution_count": 93,
      "outputs": [
        {
          "output_type": "stream",
          "name": "stdout",
          "text": [
            "The factorial of 5 is: 120\n"
          ]
        }
      ]
    },
    {
      "cell_type": "code",
      "source": [
        "# Question 5 - How can you access variables defined outside a function from within the function?\n",
        "\n",
        "# To access a variable defined outside the function (global variable), you can simply reference it by its name inside the function.\n",
        "# If you need to modify a global variable, you should use the `global` keyword.\n",
        "\n",
        "# Example of accessing and modifying a global variable\n",
        "x = 20  # Global variable\n",
        "\n",
        "def modify_global():\n",
        "    global x  # Declare x as global to modify it inside the function\n",
        "    x += 5\n",
        "    print(f\"Inside the function, x is: {x}\")\n",
        "\n",
        "modify_global()  # Output: Inside the function, x is: 25\n",
        "print(f\"Outside the function, x is: {x}\")  # Output: Outside the function, x is: 25\n"
      ],
      "metadata": {
        "colab": {
          "base_uri": "https://localhost:8080/"
        },
        "id": "og-KVYzUDt-b",
        "outputId": "457a997c-428c-46b8-b172-ec0bd90e3c6b"
      },
      "execution_count": 94,
      "outputs": [
        {
          "output_type": "stream",
          "name": "stdout",
          "text": [
            "Inside the function, x is: 25\n",
            "Outside the function, x is: 25\n"
          ]
        }
      ]
    },
    {
      "cell_type": "markdown",
      "source": [
        "**Lambda Functions and Higher-Order Functions:**"
      ],
      "metadata": {
        "id": "jXEO5VN9D6PD"
      }
    },
    {
      "cell_type": "code",
      "source": [
        "# Question 1 - What are lambda functions in Python, and when are they typically used?\n",
        "\n",
        "# A lambda function is a small anonymous function defined using the `lambda` keyword.\n",
        "# Lambda functions can have any number of arguments but only one expression. The result of the expression is automatically returned.\n",
        "# They are typically used when you need a simple function for a short period, especially as arguments to functions like `map()`, `filter()`, or `sorted()`.\n",
        "\n",
        "# Example of a lambda function:\n",
        "multiply = lambda x, y: x * y\n",
        "result = multiply(3, 5)\n",
        "print(f\"Multiplication result: {result}\")  # Output: Multiplication result: 15\n"
      ],
      "metadata": {
        "colab": {
          "base_uri": "https://localhost:8080/"
        },
        "id": "m0mnQYUpD7TK",
        "outputId": "0eb4db4d-5f91-4e1d-af34-c2d98f6278b3"
      },
      "execution_count": 95,
      "outputs": [
        {
          "output_type": "stream",
          "name": "stdout",
          "text": [
            "Multiplication result: 15\n"
          ]
        }
      ]
    },
    {
      "cell_type": "code",
      "source": [
        "# Question 2 - Write a Python program that uses lambda functions to sort a list of tuples based on the second element.\n",
        "\n",
        "# We will use the `sorted()` function with a lambda to specify the sorting key based on the second element of each tuple.\n",
        "\n",
        "# List of tuples\n",
        "tuples_list = [(1, 'apple'), (2, 'banana'), (3, 'cherry'), (4, 'date')]\n",
        "\n",
        "# Sorting the list by the second element (the fruit name)\n",
        "sorted_list = sorted(tuples_list, key=lambda x: x[1])\n",
        "\n",
        "print(f\"Sorted list by the second element: {sorted_list}\")\n",
        "# Output: Sorted list by the second element: [(1, 'apple'), (2, 'banana'), (3, 'cherry'), (4, 'date')]\n"
      ],
      "metadata": {
        "colab": {
          "base_uri": "https://localhost:8080/"
        },
        "id": "lu0adtlxD7a2",
        "outputId": "a55f1301-aba0-400c-f5a5-6d682776fa0f"
      },
      "execution_count": 96,
      "outputs": [
        {
          "output_type": "stream",
          "name": "stdout",
          "text": [
            "Sorted list by the second element: [(1, 'apple'), (2, 'banana'), (3, 'cherry'), (4, 'date')]\n"
          ]
        }
      ]
    },
    {
      "cell_type": "code",
      "source": [
        "# Question 3 - Explain the concept of higher-order functions in Python, and provide an example.\n",
        "\n",
        "# A higher-order function is a function that takes one or more functions as arguments, returns a function as a result, or both.\n",
        "# Higher-order functions allow you to write more abstract and reusable code by passing functions around as arguments.\n",
        "\n",
        "# Example: A function that accepts another function as an argument\n",
        "def apply_function(f, x):\n",
        "    \"\"\"This function applies a given function 'f' to a value 'x'.\"\"\"\n",
        "    return f(x)\n",
        "\n",
        "# A simple function to square a number\n",
        "def square(n):\n",
        "    return n ** 2\n",
        "\n",
        "# Applying the 'square' function using the 'apply_function' higher-order function\n",
        "result = apply_function(square, 5)\n",
        "print(f\"Result of applying square: {result}\")  # Output: Result of applying square: 25\n"
      ],
      "metadata": {
        "colab": {
          "base_uri": "https://localhost:8080/"
        },
        "id": "eJvjDQRDD7h-",
        "outputId": "c23aa636-e584-487f-f1f8-a0d18644e905"
      },
      "execution_count": 97,
      "outputs": [
        {
          "output_type": "stream",
          "name": "stdout",
          "text": [
            "Result of applying square: 25\n"
          ]
        }
      ]
    },
    {
      "cell_type": "code",
      "source": [
        "# Question 4 - Create a Python function that takes a list of numbers and a function as arguments, applying the function to each element in the list.\n",
        "\n",
        "# Here we will define a function that accepts a list and another function as arguments, and applies the function to each element of the list.\n",
        "\n",
        "def apply_to_list(lst, func):\n",
        "    \"\"\"This function applies the given function 'func' to each element of the list 'lst'.\"\"\"\n",
        "    return [func(x) for x in lst]\n",
        "\n",
        "# A simple function to double a number\n",
        "def double(n):\n",
        "    return n * 2\n",
        "\n",
        "# Example usage\n",
        "numbers = [1, 2, 3, 4, 5]\n",
        "doubled_numbers = apply_to_list(numbers, double)\n",
        "\n",
        "print(f\"Doubled numbers: {doubled_numbers}\")  # Output: Doubled numbers: [2, 4, 6, 8, 10]\n"
      ],
      "metadata": {
        "colab": {
          "base_uri": "https://localhost:8080/"
        },
        "id": "MOtUgT9oD7nn",
        "outputId": "0b87a6bf-85e8-4144-ac12-3283a387dbae"
      },
      "execution_count": 98,
      "outputs": [
        {
          "output_type": "stream",
          "name": "stdout",
          "text": [
            "Doubled numbers: [2, 4, 6, 8, 10]\n"
          ]
        }
      ]
    },
    {
      "cell_type": "markdown",
      "source": [
        "**Built-in Functions:**"
      ],
      "metadata": {
        "id": "mDpeuzWzEDOv"
      }
    },
    {
      "cell_type": "code",
      "source": [
        "# Question 1 - Describe the role of built-in functions like `len()`, `max()`, and `min()` in Python.\n",
        "\n",
        "# Built-in functions like `len()`, `max()`, and `min()` are part of Python's standard library and provide useful functionality:\n",
        "# 1. `len()` - Returns the number of items in an object (e.g., list, string, etc.).\n",
        "# 2. `max()` - Returns the largest item in an iterable or the largest of two or more arguments.\n",
        "# 3. `min()` - Returns the smallest item in an iterable or the smallest of two or more arguments.\n",
        "\n",
        "# Examples:\n",
        "\n",
        "# 1. Using `len()`\n",
        "my_list = [1, 2, 3, 4, 5]\n",
        "print(f\"Length of my_list: {len(my_list)}\")  # Output: Length of my_list: 5\n",
        "\n",
        "# 2. Using `max()`\n",
        "numbers = [1, 2, 3, 4, 5]\n",
        "print(f\"Maximum value: {max(numbers)}\")  # Output: Maximum value: 5\n",
        "\n",
        "# 3. Using `min()`\n",
        "numbers = [1, 2, 3, 4, 5]\n",
        "print(f\"Minimum value: {min(numbers)}\")  # Output: Minimum value: 1\n"
      ],
      "metadata": {
        "colab": {
          "base_uri": "https://localhost:8080/"
        },
        "id": "8XXE68RFEJbj",
        "outputId": "4f959f0a-4f0e-4dbd-dffc-75657adc689b"
      },
      "execution_count": 99,
      "outputs": [
        {
          "output_type": "stream",
          "name": "stdout",
          "text": [
            "Length of my_list: 5\n",
            "Maximum value: 5\n",
            "Minimum value: 1\n"
          ]
        }
      ]
    },
    {
      "cell_type": "code",
      "source": [
        "# Question 2 - Write a Python program that uses the `map()` function to apply a function to each element of a list.\n",
        "\n",
        "# The `map()` function applies a given function to each item in an iterable (e.g., list, tuple) and returns a map object (which is an iterator).\n",
        "# The result can be converted to a list, tuple, etc.\n",
        "\n",
        "# Example: Using map() to square each element in the list\n",
        "numbers = [1, 2, 3, 4, 5]\n",
        "\n",
        "# Define the function to square each number\n",
        "def square(x):\n",
        "    return x ** 2\n",
        "\n",
        "# Apply the function to each element of the list\n",
        "squared_numbers = list(map(square, numbers))\n",
        "\n",
        "print(f\"Squared numbers: {squared_numbers}\")  # Output: Squared numbers: [1, 4, 9, 16, 25]\n"
      ],
      "metadata": {
        "colab": {
          "base_uri": "https://localhost:8080/"
        },
        "id": "75cGyTQoEJjF",
        "outputId": "f15271d0-b291-4f99-d246-1e354e69a469"
      },
      "execution_count": 100,
      "outputs": [
        {
          "output_type": "stream",
          "name": "stdout",
          "text": [
            "Squared numbers: [1, 4, 9, 16, 25]\n"
          ]
        }
      ]
    },
    {
      "cell_type": "code",
      "source": [
        "# Question 3 - How does the `filter()` function work in Python, and when would you use it?\n",
        "\n",
        "# The `filter()` function is used to filter elements from an iterable based on a function that returns True or False.\n",
        "# It filters elements that evaluate to True based on the given function, and returns an iterator (filter object).\n",
        "# You can convert the result to a list or any other collection type.\n",
        "\n",
        "# Example: Using filter() to select even numbers from a list\n",
        "numbers = [1, 2, 3, 4, 5, 6]\n",
        "\n",
        "# Define the function to check if a number is even\n",
        "def is_even(x):\n",
        "    return x % 2 == 0\n",
        "\n",
        "# Apply the filter function to the list\n",
        "even_numbers = list(filter(is_even, numbers))\n",
        "\n",
        "print(f\"Even numbers: {even_numbers}\")  # Output: Even numbers: [2, 4, 6]\n"
      ],
      "metadata": {
        "colab": {
          "base_uri": "https://localhost:8080/"
        },
        "id": "3LhEc0TBEJp5",
        "outputId": "7d175a62-a0c3-42b7-df7d-eb4477e5b510"
      },
      "execution_count": 101,
      "outputs": [
        {
          "output_type": "stream",
          "name": "stdout",
          "text": [
            "Even numbers: [2, 4, 6]\n"
          ]
        }
      ]
    },
    {
      "cell_type": "code",
      "source": [
        "# Question 4 - Create a Python program that uses the `reduce()` function to find the product of all elements in a list.\n",
        "\n",
        "# The `reduce()` function, found in the `functools` module, applies a binary function cumulatively to the items in an iterable.\n",
        "# The function should take two arguments and reduce the iterable to a single value.\n",
        "\n",
        "# Example: Using reduce() to find the product of all elements in a list\n",
        "from functools import reduce\n",
        "\n",
        "numbers = [1, 2, 3, 4, 5]\n",
        "\n",
        "# Define the function to multiply two numbers\n",
        "def multiply(x, y):\n",
        "    return x * y\n",
        "\n",
        "# Use reduce() to calculate the product of all numbers\n",
        "product = reduce(multiply, numbers)\n",
        "\n",
        "print(f\"Product of all elements: {product}\")  # Output: Product of all elements: 120\n"
      ],
      "metadata": {
        "colab": {
          "base_uri": "https://localhost:8080/"
        },
        "id": "cf4VvcnTEJxF",
        "outputId": "ff607cbc-e1dd-45d9-b9e0-40c210d951dc"
      },
      "execution_count": 102,
      "outputs": [
        {
          "output_type": "stream",
          "name": "stdout",
          "text": [
            "Product of all elements: 120\n"
          ]
        }
      ]
    },
    {
      "cell_type": "markdown",
      "source": [
        "Function Documentation and Best Practices:\n",
        "**bold text**"
      ],
      "metadata": {
        "id": "-ogSw4a1ERG5"
      }
    },
    {
      "cell_type": "code",
      "source": [
        "# Question 1 - Explain the purpose of docstrings in Python functions and how to write them.\n",
        "\n",
        "# Docstrings in Python are used to document functions, classes, and modules. They provide a way to explain the purpose of a function,\n",
        "# its parameters, return values, and any other relevant information. They help developers understand how the code works and how to use it.\n",
        "\n",
        "# Docstrings are written within triple quotes (single or double) right after the function definition.\n",
        "# A good docstring includes:\n",
        "# 1. A brief description of what the function does.\n",
        "# 2. A description of the function's parameters and their expected types.\n",
        "# 3. The return value and its type.\n",
        "\n",
        "# Example of a function with a docstring:\n",
        "\n",
        "def add(a, b):\n",
        "    \"\"\"\n",
        "    This function takes two numbers, adds them, and returns the result.\n",
        "\n",
        "    Parameters:\n",
        "    a (int or float): The first number.\n",
        "    b (int or float): The second number.\n",
        "\n",
        "    Returns:\n",
        "    int or float: The sum of the two numbers.\n",
        "    \"\"\"\n",
        "    return a + b\n",
        "\n",
        "# To access the docstring, you can use the `help()` function or the `.__doc__` attribute:\n",
        "print(add.__doc__)  # This will print the docstring of the function.\n"
      ],
      "metadata": {
        "colab": {
          "base_uri": "https://localhost:8080/"
        },
        "id": "L2xQvSNiEXwq",
        "outputId": "e2d4bec7-1cc1-49c1-ffa6-14076880540d"
      },
      "execution_count": 103,
      "outputs": [
        {
          "output_type": "stream",
          "name": "stdout",
          "text": [
            "\n",
            "    This function takes two numbers, adds them, and returns the result.\n",
            "    \n",
            "    Parameters:\n",
            "    a (int or float): The first number.\n",
            "    b (int or float): The second number.\n",
            "    \n",
            "    Returns:\n",
            "    int or float: The sum of the two numbers.\n",
            "    \n"
          ]
        }
      ]
    },
    {
      "cell_type": "code",
      "source": [
        "# Question 2 - Describe some best practices for naming functions and variables in Python, including naming conventions and guidelines.\n",
        "\n",
        "# Best practices for naming functions and variables in Python include:\n",
        "# 1. **Use descriptive names**: Choose meaningful names that describe the purpose of the function or variable.\n",
        "#    For example, instead of using `x` for a variable, use `radius` if the value represents a radius.\n",
        "# 2. **Use lowercase letters for variable names and function names**: By convention, function and variable names should be written in lowercase, with words separated by underscores (snake_case).\n",
        "# 3. **Use meaningful names for functions**: Function names should be verbs or verb phrases that describe what the function does. For example, `calculate_total()`, `find_max()`, etc.\n",
        "# 4. **Avoid using single-letter variable names**: Except for common cases like `i`, `j` in loops, single-letter variables should be avoided unless the purpose is clear.\n",
        "# 5. **Use `CamelCase` for class names**: Class names should follow the CamelCase convention (uppercase letters to start each word, no underscores). For example, `EmployeeDetails`.\n",
        "# 6. **Avoid using Python reserved keywords**: Do not use Python keywords like `class`, `return`, `for`, etc., as variable or function names.\n",
        "# 7. **Function names should be action-oriented**: Functions are typically named as actions (e.g., `get_data()`, `process_input()`) to reflect what the function does.\n",
        "# 8. **Constants in all uppercase**: Constants should be written in uppercase with underscores separating words. For example, `MAX_SIZE`.\n",
        "\n",
        "# Examples of naming practices:\n",
        "\n",
        "# Good practice:\n",
        "def calculate_area(radius):\n",
        "    return 3.14 * radius ** 2\n",
        "\n",
        "# Bad practice:\n",
        "def ca(x):\n",
        "    return 3.14 * x ** 2\n",
        "\n",
        "# Constants\n",
        "MAX_SIZE = 100\n",
        "\n",
        "# Variable names:\n",
        "total_cost = 50  # Descriptive variable name\n",
        "total = 50        # Less descriptive variable name, but still understandable\n",
        "\n",
        "# Using CamelCase for classes:\n",
        "class StudentDetails:\n",
        "    def __init__(self, name, age):\n",
        "        self.name = name\n",
        "        self.age = age\n",
        "\n"
      ],
      "metadata": {
        "id": "OJOWTz3sEX6W"
      },
      "execution_count": 104,
      "outputs": []
    }
  ]
}