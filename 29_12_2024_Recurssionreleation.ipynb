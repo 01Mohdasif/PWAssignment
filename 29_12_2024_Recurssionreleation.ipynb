{
  "nbformat": 4,
  "nbformat_minor": 0,
  "metadata": {
    "colab": {
      "provenance": []
    },
    "kernelspec": {
      "name": "python3",
      "display_name": "Python 3"
    },
    "language_info": {
      "name": "python"
    }
  },
  "cells": [
    {
      "cell_type": "code",
      "source": [
        "# Given recurrence relation T(n) = 3T(n-1) + 12n\n",
        "def T(n):\n",
        "    if n == 0:\n",
        "        return 5  # Base case: T(0) = 5\n",
        "    else:\n",
        "        return 3 * T(n - 1) + 12 * n  # Recursive step\n",
        "\n",
        "# Find the value of T(2)\n",
        "T2 = T(2)\n",
        "T2  # Output: The value of T(2)\n"
      ],
      "metadata": {
        "colab": {
          "base_uri": "https://localhost:8080/"
        },
        "id": "y2pQC-VgJNm6",
        "outputId": "98ca3117-6448-4f99-aa40-6c5eac9a037d"
      },
      "execution_count": 11,
      "outputs": [
        {
          "output_type": "execute_result",
          "data": {
            "text/plain": [
              "105"
            ]
          },
          "metadata": {},
          "execution_count": 11
        }
      ]
    },
    {
      "cell_type": "code",
      "source": [
        "# Solve using substitution method: T(n) = T(n-1) + c\n",
        "def T_substitution_a(n, c):\n",
        "    if n == 0:\n",
        "        return 0  # Base case: T(0) = 0\n",
        "    else:\n",
        "        return T_substitution_a(n - 1, c) + c\n",
        "\n",
        "# Example: Find T(5) when c = 2\n",
        "T_substitution_a(5, 2)\n"
      ],
      "metadata": {
        "colab": {
          "base_uri": "https://localhost:8080/"
        },
        "id": "rMhQMEYzJNv1",
        "outputId": "6c27a897-3855-49a0-8d4a-01dab6683c15"
      },
      "execution_count": 12,
      "outputs": [
        {
          "output_type": "execute_result",
          "data": {
            "text/plain": [
              "10"
            ]
          },
          "metadata": {},
          "execution_count": 12
        }
      ]
    },
    {
      "cell_type": "code",
      "source": [
        "# Solve using substitution method: T(n) = 2T(n/2) + n\n",
        "def T_substitution_b(n):\n",
        "    if n == 1:\n",
        "        return 1  # Base case: T(1) = 1\n",
        "    else:\n",
        "        return 2 * T_substitution_b(n // 2) + n\n",
        "\n",
        "# Example: Find T(8)\n",
        "T_substitution_b(8)\n"
      ],
      "metadata": {
        "colab": {
          "base_uri": "https://localhost:8080/"
        },
        "id": "nSrtAZnsJN1-",
        "outputId": "fa599cbc-d22b-4368-fa36-39045162d208"
      },
      "execution_count": 13,
      "outputs": [
        {
          "output_type": "execute_result",
          "data": {
            "text/plain": [
              "32"
            ]
          },
          "metadata": {},
          "execution_count": 13
        }
      ]
    }
  ]
}